{
 "cells": [
  {
   "cell_type": "markdown",
   "metadata": {},
   "source": [
    "# Семинар 7: продвинутые функции"
   ]
  },
  {
   "cell_type": "markdown",
   "metadata": {},
   "source": [
    "### Рекурсия\n",
    "\n",
    "Пусть мы хотим написать функцию быстрого возведения числа в степень:\n",
    "\n",
    "```\n",
    "def pow(base: Union[int, float], deg: int)\n",
    "```\n",
    "\n",
    "Известно, что:\n",
    "```\n",
    "pow(a, n)\n",
    "    = pow(a, n // 2) ** 2, если n -- четное\n",
    "    = a * pow(a, n // 2) ** 2, если n -- нечетное\n",
    "```"
   ]
  },
  {
   "cell_type": "code",
   "execution_count": null,
   "metadata": {},
   "outputs": [],
   "source": [
    "from typing import Union\n",
    "\n",
    "\n",
    "def pow(base: Union[int, float], deg: int):\n",
    "    if base == 0:\n",
    "        return 0  # а без этого получим DivisionByZeroError, если deg < 0 [1]\n",
    "\n",
    "    if deg == 0:\n",
    "        return 1  # без этого получим бесконечное выполнение\n",
    "    elif deg < 0:\n",
    "        deg *= -1\n",
    "        base = 1 / base  # [1] вот тут\n",
    "\n",
    "    if not deg % 2:\n",
    "        return pow(base, deg // 2) ** 2\n",
    "    return base * pow(base, deg // 2) ** 2\n"
   ]
  },
  {
   "cell_type": "code",
   "execution_count": null,
   "metadata": {},
   "outputs": [],
   "source": [
    "pow(2, 2)"
   ]
  },
  {
   "cell_type": "markdown",
   "metadata": {},
   "source": [
    "Что тут произошло? Правильно, мы вызвали из функции саму себя, получается так называемая рекурсия.\n",
    "\n",
    "С рекурсией стоит быть аккуратным: неаккуратное ее использование приведет к бесконечной работе программы, а также она выжрет у вас всю память компа или питон прибьет ее раньше."
   ]
  },
  {
   "cell_type": "markdown",
   "metadata": {},
   "source": [
    "Под капотом рекурсия работает как стэк вызовов. Каждый новый вызов помещается на его верхушку, после выполнения работы функции на этапе рекурсии этот вызов со стэка снимается. Проще всего это заметить если Сделать искусственный пример, где выдадим ошибку в какой-то момент времени."
   ]
  },
  {
   "cell_type": "code",
   "execution_count": null,
   "metadata": {},
   "outputs": [],
   "source": [
    "def recursive(n: int):\n",
    "    if n == 0:\n",
    "        raise RuntimeError(\"Just checking call stack\")\n",
    "\n",
    "    recursive(n - 1)\n"
   ]
  },
  {
   "cell_type": "code",
   "execution_count": null,
   "metadata": {},
   "outputs": [],
   "source": [
    "recursive(6)"
   ]
  },
  {
   "cell_type": "markdown",
   "metadata": {},
   "source": [
    "### Проблема лимита рекурсии\n",
    "\n",
    "Пусть мы хотим рекурсивно сумму для всех чисел от 1 до n (примечание: ДА, я знаю, что это можно просто сделать циклом, это игрушечный пример)"
   ]
  },
  {
   "cell_type": "code",
   "execution_count": null,
   "metadata": {},
   "outputs": [],
   "source": [
    "def recursive(n: int):\n",
    "    if n == 1:\n",
    "        return 1\n",
    "\n",
    "    return n + recursive(n - 1)"
   ]
  },
  {
   "cell_type": "code",
   "execution_count": null,
   "metadata": {},
   "outputs": [],
   "source": [
    "recursive(3)"
   ]
  },
  {
   "cell_type": "code",
   "execution_count": null,
   "metadata": {},
   "outputs": [],
   "source": [
    "recursive(10000)  # ой, а че это мы такое поймали?"
   ]
  },
  {
   "cell_type": "code",
   "execution_count": null,
   "metadata": {},
   "outputs": [],
   "source": [
    "import sys\n",
    "\n",
    "sys.getrecursionlimit()  # по умолчанию в питоне очень маленький лимит на рекурсивные вызовы"
   ]
  },
  {
   "cell_type": "code",
   "execution_count": null,
   "metadata": {},
   "outputs": [],
   "source": [
    "sys.setrecursionlimit(10 ** 6)  # надо быть аккуратным\n",
    "\n",
    "recursive(10000)"
   ]
  },
  {
   "cell_type": "markdown",
   "metadata": {},
   "source": [
    "### Проблема отсутствия мемоизации\n",
    "\n",
    "Пусть мы хотим посчитать $n$-ое число Фибоначчи\n",
    "\n",
    "$F_1 = F_2 = 1$\n",
    "\n",
    "$F_n = F_{n - 1} + F_{n - 2}$"
   ]
  },
  {
   "cell_type": "code",
   "execution_count": null,
   "metadata": {},
   "outputs": [],
   "source": [
    "def fib(n: int):\n",
    "    if n <= 2:\n",
    "        return 1\n",
    "    return fib(n - 1) + fib(n - 2)  # рекурсивно берем предыдущие числа Фибоначчи"
   ]
  },
  {
   "cell_type": "markdown",
   "metadata": {},
   "source": [
    "А теперь давайте подумаем: сколько будет работать такой код?"
   ]
  },
  {
   "cell_type": "code",
   "execution_count": null,
   "metadata": {},
   "outputs": [],
   "source": [
    "%%time\n",
    "fib(8)"
   ]
  },
  {
   "cell_type": "code",
   "execution_count": null,
   "metadata": {},
   "outputs": [],
   "source": [
    "%%time\n",
    "fib(34)  # тут уже будет долго"
   ]
  },
  {
   "cell_type": "code",
   "execution_count": null,
   "metadata": {},
   "outputs": [],
   "source": [
    "%%time\n",
    "fib(40)  # и чем дальше, тем хуже, а 40 -- это же еще не то чтобы много"
   ]
  },
  {
   "cell_type": "markdown",
   "metadata": {},
   "source": [
    "Проблема заключается в том, что у нас есть дубликаты вызовов. Поэтому питон делает много дополнительных действий. Чем дальше по номеру число Фибоначчи -- тем больше придется решать одинаковых абсолютно вызовов рекурсии. Решить это можно мемоизацией:"
   ]
  },
  {
   "cell_type": "code",
   "execution_count": null,
   "metadata": {},
   "outputs": [],
   "source": [
    "from collections import defaultdict\n",
    "\n",
    "\n",
    "SENTINEL = object()\n",
    "\n",
    "\n",
    "fib_cache = defaultdict(lambda: SENTINEL)\n",
    "\n",
    "\n",
    "def set_cache(n: int, result: int):\n",
    "    fib_cache[n] = result\n",
    "\n",
    "\n",
    "def fib(n: int):\n",
    "    if fib_cache[n] is not SENTINEL:\n",
    "        return fib_cache[n]\n",
    "\n",
    "    if n <= 2:\n",
    "        set_cache(n, 1)\n",
    "        return 1\n",
    "    \n",
    "    result = fib(n - 1) + fib(n - 2)\n",
    "    set_cache(n, result)\n",
    "    return result"
   ]
  },
  {
   "cell_type": "code",
   "execution_count": null,
   "metadata": {},
   "outputs": [],
   "source": [
    "%%time\n",
    "fib(1000)  # быстро? быстро!"
   ]
  },
  {
   "cell_type": "markdown",
   "metadata": {},
   "source": [
    "Очевидно, что это уже получается громоздко и неудобно, поэтому кэширование в питоне есть в том числе и встроенное.\n",
    "\n",
    "Есть так называемые декораторы `@cache` и `@lru_cache` (least recently used). Второй выкидывает из кэша элементы, когда его размер достиг заданного максимума. При этом `@cache` устроен вот так:\n",
    "\n",
    "```(python)\n",
    "def cache(user_function, /):\n",
    "    return lru_cache(maxsize=None)(user_function)\n",
    "```\n",
    "\n",
    "У `@lru_cache` параметр maxsize по умолчанию равен 128, можно увеличить при желании."
   ]
  },
  {
   "cell_type": "code",
   "execution_count": null,
   "metadata": {},
   "outputs": [],
   "source": [
    "from functools import cache, lru_cache\n",
    "\n",
    "# lru_cache -- можно еще указать параметр maxsize\n",
    "@lru_cache  # <--- это декоратор, про них поговорим чуть позже\n",
    "def fib(n: int):\n",
    "    if n <= 2:\n",
    "        return 1\n",
    "\n",
    "    return fib(n - 1) + fib(n - 2)"
   ]
  },
  {
   "cell_type": "code",
   "execution_count": null,
   "metadata": {},
   "outputs": [],
   "source": [
    "%%time\n",
    "fib(1000)"
   ]
  },
  {
   "cell_type": "markdown",
   "metadata": {},
   "source": [
    "### Что еще умеет functools?\n",
    "\n",
    "Есть какие-то очень специфичные функции, например, [cmp_to_key](https://docs.python.org/3/library/functools.html#functools.cmp_to_key), который не очень рекомендуется использовать без особой надобности.\n",
    "\n",
    "Но есть и полезные штуки:"
   ]
  },
  {
   "cell_type": "code",
   "execution_count": null,
   "metadata": {},
   "outputs": [],
   "source": [
    "from functools import partial\n",
    "\n",
    "my_list = list(map(int, input().split()))\n",
    "\n",
    "get_sorted_list = partial(sorted, my_list)  # создаем функцию из функции прямо в коде = sorted(my_list)\n",
    "get_reverse_sorted_list = partial(sorted, my_list, reverse=True)  # = sorted(my_list, reversed=True)"
   ]
  },
  {
   "cell_type": "code",
   "execution_count": null,
   "metadata": {},
   "outputs": [],
   "source": [
    "get_sorted_list()"
   ]
  },
  {
   "cell_type": "code",
   "execution_count": null,
   "metadata": {},
   "outputs": [],
   "source": [
    "get_reverse_sorted_list()"
   ]
  },
  {
   "cell_type": "markdown",
   "metadata": {},
   "source": [
    "Можно заранее и не передавать объект:"
   ]
  },
  {
   "cell_type": "code",
   "execution_count": null,
   "metadata": {},
   "outputs": [],
   "source": [
    "from typing import Callable\n",
    "\n",
    "\n",
    "def reverse_number(n: int) -> int:\n",
    "    return int(str(n)[::-1])  # 456 -> 654\n",
    "\n",
    "def sort_digits(n: int) -> int:\n",
    "    return int(\"\".join(sorted(str(n))))  # 672 -> 267\n",
    "\n",
    "def add_one(n: int) -> int:\n",
    "    return n + 1\n",
    "\n",
    "def combine(*functions: Callable[[int], int], number: int) -> int:\n",
    "    result = number\n",
    "    for func in functions:\n",
    "        result = func(result)\n",
    "    return result\n",
    "\n",
    "# по сути partial позволяет заполнить какие-то аргументы заранее, а остальные дозаполнить потом\n",
    "do_some_stuff = partial(combine, add_one, reverse_number, add_one, add_one, sort_digits)\n",
    "do_another_stuff = partial(combine, reverse_number, add_one, add_one, add_one)"
   ]
  },
  {
   "cell_type": "code",
   "execution_count": null,
   "metadata": {},
   "outputs": [],
   "source": [
    "do_some_stuff(number=456)"
   ]
  },
  {
   "cell_type": "code",
   "execution_count": null,
   "metadata": {},
   "outputs": [],
   "source": [
    "do_another_stuff(number=456)"
   ]
  },
  {
   "cell_type": "markdown",
   "metadata": {},
   "source": [
    "#### Факультативное: singledispatch как начало полиморфизма"
   ]
  },
  {
   "cell_type": "code",
   "execution_count": null,
   "metadata": {},
   "outputs": [],
   "source": [
    "from functools import singledispatch\n",
    "from typing import List\n",
    "\n",
    "\n",
    "@singledispatch\n",
    "def dummy_sum(arg):\n",
    "    print(f\"I got unknown arg {arg}\")\n",
    "    return None\n",
    "\n",
    "\n",
    "@dummy_sum.register\n",
    "def _(arg: int):\n",
    "    return arg  # непонятно как инты суммировать ага\n",
    "\n",
    "\n",
    "@dummy_sum.register\n",
    "def _(arg: list):\n",
    "    return sum(arg)"
   ]
  },
  {
   "cell_type": "code",
   "execution_count": null,
   "metadata": {},
   "outputs": [],
   "source": [
    "print(dummy_sum(5))"
   ]
  },
  {
   "cell_type": "code",
   "execution_count": null,
   "metadata": {},
   "outputs": [],
   "source": [
    "print(dummy_sum([1, 2, 3]))"
   ]
  },
  {
   "cell_type": "code",
   "execution_count": null,
   "metadata": {},
   "outputs": [],
   "source": [
    "print(dummy_sum(\"abc\"))"
   ]
  },
  {
   "cell_type": "markdown",
   "metadata": {},
   "source": [
    "# Практика\n",
    "\n",
    "### Задача 1\n",
    "Пусть у нас есть словарь любой вложенности. При этом на самом нижнем уровне у него всегда находится строка. Ключи тоже всегда строки. Надо написать функцию, которая принимает на себя такой словарь, и выводит на экран все строки на нижнем уровне, в любом порядке.\n",
    "\n",
    "```(python)\n",
    "a = {\n",
    "    \"x\": {\n",
    "        \"y\": \"you_killed_kenny\",\n",
    "        \"w\": \"south_park\",\n",
    "    },\n",
    "    \"p\": \"matt_stone\",\n",
    "}\n",
    "\n",
    "print(recursive_print(a))\n",
    "```\n",
    "\n",
    "Для того, чтобы понять, что перед нами -- словарь или список -- можно воспользоваться функцией `isinstance(some_variable, dict)` -- она вернет True, если это словарь и False иначе"
   ]
  },
  {
   "cell_type": "code",
   "execution_count": null,
   "metadata": {},
   "outputs": [],
   "source": []
  },
  {
   "cell_type": "code",
   "execution_count": null,
   "metadata": {},
   "outputs": [],
   "source": [
    "a = {\n",
    "    \"x\": {\n",
    "        \"y\": \"you_killed_kenny\",\n",
    "        \"w\": \"south_park\",\n",
    "    },\n",
    "    \"p\": \"matt_stone\",\n",
    "}\n",
    "\n",
    "recursive_print(a)"
   ]
  },
  {
   "cell_type": "markdown",
   "metadata": {},
   "source": [
    "### Задача 2\n",
    "\n",
    "Напишите программу, которая выбирает их полученной на вход последовательности (каждое число на новой строке) квадраты целых чисел выводит их в обратном порядке. Использовать массив для хранения последовательности не разрешается."
   ]
  },
  {
   "cell_type": "code",
   "execution_count": null,
   "metadata": {},
   "outputs": [],
   "source": []
  },
  {
   "cell_type": "code",
   "execution_count": null,
   "metadata": {},
   "outputs": [],
   "source": []
  },
  {
   "cell_type": "markdown",
   "metadata": {},
   "source": [
    "### Задача 3\n",
    "\n",
    "Для быстрого вычисления наибольшего общего делителя двух чисел используют алгоритм Евклида. Он построен на следующем соотношении: $gcd(a, b) = gcd(b, a \\mod b)$\n",
    "\n",
    "Реализуйте рекурсивный алгоритм Евклида в виде функции gcd(a, b)."
   ]
  },
  {
   "cell_type": "code",
   "execution_count": null,
   "metadata": {},
   "outputs": [],
   "source": []
  }
 ],
 "metadata": {
  "kernelspec": {
   "display_name": "Python 3.10.8 64-bit",
   "language": "python",
   "name": "python3"
  },
  "language_info": {
   "codemirror_mode": {
    "name": "ipython",
    "version": 3
   },
   "file_extension": ".py",
   "mimetype": "text/x-python",
   "name": "python",
   "nbconvert_exporter": "python",
   "pygments_lexer": "ipython3",
   "version": "3.10.8"
  },
  "orig_nbformat": 4,
  "vscode": {
   "interpreter": {
    "hash": "b0fa6594d8f4cbf19f97940f81e996739fb7646882a419484c72d19e05852a7e"
   }
  }
 },
 "nbformat": 4,
 "nbformat_minor": 2
}
