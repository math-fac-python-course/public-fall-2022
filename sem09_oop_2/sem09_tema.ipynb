{
 "cells": [
  {
   "cell_type": "markdown",
   "metadata": {},
   "source": [
    "# ООП-2\n",
    "\n",
    "### Глава 1: датаклассы и енамы\n",
    "\n",
    "В датаклассе не нужен инит, достаточно просто объявит нужны в нем поля и дальше так и использовать"
   ]
  },
  {
   "cell_type": "code",
   "execution_count": 11,
   "metadata": {},
   "outputs": [],
   "source": [
    "from dataclasses import dataclass\n",
    "\n",
    "@dataclass\n",
    "class User:\n",
    "    email: str\n",
    "    gender: int  # 1 for male, 0 for female\n",
    "    first_name: str\n",
    "    middle_name: str\n",
    "    last_name: str\n",
    "\n",
    "    @property\n",
    "    def full_name(self):\n",
    "        return f\"{self.first_name} {self.middle_name} {self.last_name}\""
   ]
  },
  {
   "cell_type": "code",
   "execution_count": 12,
   "metadata": {},
   "outputs": [
    {
     "name": "stdout",
     "output_type": "stream",
     "text": [
      "astreltsov@hse.ru\n",
      "Артем Дмитриевич Стрельцов\n"
     ]
    }
   ],
   "source": [
    "user = User(\"astreltsov@hse.ru\", 1, \"Артем\", \"Дмитриевич\", \"Стрельцов\")\n",
    "# user = User(email=\"astreltsov@hse.ru\", gender=1, first_name=\"Артем\", middle_name=\"Дмитриевич\", last_name=\"Стрельцов\")\n",
    "print(user.email)\n",
    "print(user.full_name)"
   ]
  },
  {
   "cell_type": "markdown",
   "metadata": {},
   "source": [
    "Из грустного: gender сейчас хранится числом и получается какая-то магия, постоянно надо помнить, какому полу соответствует какое число"
   ]
  },
  {
   "cell_type": "code",
   "execution_count": 27,
   "metadata": {},
   "outputs": [],
   "source": [
    "from dataclasses import dataclass\n",
    "from enum import Enum, auto\n",
    "\n",
    "\n",
    "class Gender(Enum):  # тут также можно использовать IntEnum\n",
    "    female = auto()  # auto автоматически пронумерует элементы енама\n",
    "    male = auto()  # но можно задать какое-то и свое значение, например\n",
    "                   # male = \"male\"\n",
    "                   # female = \"female\""
   ]
  },
  {
   "cell_type": "code",
   "execution_count": 31,
   "metadata": {},
   "outputs": [
    {
     "name": "stdout",
     "output_type": "stream",
     "text": [
      "male\n",
      "male\n",
      "2\n"
     ]
    }
   ],
   "source": [
    "print(Gender.male)\n",
    "print(Gender.male.name)\n",
    "print(Gender.male.value)"
   ]
  },
  {
   "cell_type": "code",
   "execution_count": 41,
   "metadata": {},
   "outputs": [
    {
     "data": {
      "text/plain": [
       "{'female': female, 'male': male}"
      ]
     },
     "execution_count": 41,
     "metadata": {},
     "output_type": "execute_result"
    }
   ],
   "source": [
    "Gender._member_map_"
   ]
  },
  {
   "cell_type": "code",
   "execution_count": 38,
   "metadata": {},
   "outputs": [
    {
     "data": {
      "text/plain": [
       "{1: female, 2: male}"
      ]
     },
     "execution_count": 38,
     "metadata": {},
     "output_type": "execute_result"
    }
   ],
   "source": [
    "Gender._value2member_map_"
   ]
  },
  {
   "cell_type": "code",
   "execution_count": 35,
   "metadata": {},
   "outputs": [],
   "source": [
    "from dataclasses import dataclass\n",
    "from enum import Enum, auto\n",
    "\n",
    "\n",
    "class Gender(Enum):  # тут также можно использовать IntEnum\n",
    "    female = auto()\n",
    "    male = auto()\n",
    "\n",
    "    def __str__(self):\n",
    "        return self.name  # name, чтобы получить названия самого элемента енама, value -- чтобы получить значение\n",
    "\n",
    "    __repr__ = __str__"
   ]
  },
  {
   "cell_type": "code",
   "execution_count": 42,
   "metadata": {},
   "outputs": [],
   "source": [
    "from dataclasses import dataclass\n",
    "\n",
    "@dataclass\n",
    "class User:\n",
    "    email: str\n",
    "    gender: Gender\n",
    "    first_name: str\n",
    "    middle_name: str\n",
    "    last_name: str\n",
    "\n",
    "    @property\n",
    "    def full_name(self):\n",
    "        return f\"{self.first_name} {self.middle_name} {self.last_name}\"\n",
    "\n",
    "    @property\n",
    "    def is_male(self):\n",
    "        return self.gender == Gender.male"
   ]
  },
  {
   "cell_type": "code",
   "execution_count": 43,
   "metadata": {},
   "outputs": [
    {
     "name": "stdout",
     "output_type": "stream",
     "text": [
      "astreltsov@hse.ru\n",
      "Артем Дмитриевич Стрельцов\n",
      "male\n",
      "True\n"
     ]
    }
   ],
   "source": [
    "user = User(email=\"astreltsov@hse.ru\", gender=Gender.male, first_name=\"Артем\", middle_name=\"Дмитриевич\", last_name=\"Стрельцов\")\n",
    "print(user.email)\n",
    "print(user.full_name)\n",
    "print(user.gender)\n",
    "print(user.is_male)"
   ]
  },
  {
   "cell_type": "markdown",
   "metadata": {},
   "source": [
    "### Глава 2: классметоды и статикметоды\n",
    "\n",
    "Classmethod используется когда нужно вызвать функцию класса, не создавая объект. Чаще всего это нужно для создания экземпляра класса на основе каких-то данных которые еще как-то нужно обработать"
   ]
  },
  {
   "cell_type": "code",
   "execution_count": 60,
   "metadata": {},
   "outputs": [],
   "source": [
    "from dataclasses import dataclass\n",
    "from datetime import date\n",
    "\n",
    "@dataclass\n",
    "class Person:\n",
    "    age: int\n",
    "    name: str\n",
    "\n",
    "    @classmethod\n",
    "    def from_birthyear(cls, name: str, birth_year: int) -> \"Person\":  # в cls лежит фактически сам класс\n",
    "        return cls(\n",
    "            age=date.today().year - birth_year,\n",
    "            name=name,\n",
    "        )\n",
    "\n",
    "    def __str__(self):\n",
    "        return f\"{self.name}, возраст {self.age}\""
   ]
  },
  {
   "cell_type": "code",
   "execution_count": 46,
   "metadata": {},
   "outputs": [
    {
     "name": "stdout",
     "output_type": "stream",
     "text": [
      "Тёма, возраст 22\n"
     ]
    }
   ],
   "source": [
    "tema = Person.from_birthyear(\"Тёма\", 2000)\n",
    "\n",
    "print(tema)"
   ]
  },
  {
   "cell_type": "markdown",
   "metadata": {},
   "source": [
    "Staticmethod же применяется обычно для инкапуляции какой-то логики внутри класса, которой вроде и не нужен self, а вроде и не хочется это просто отдельными функциями плодить"
   ]
  },
  {
   "cell_type": "code",
   "execution_count": 61,
   "metadata": {},
   "outputs": [],
   "source": [
    "from dataclasses import dataclass\n",
    "from datetime import date\n",
    "\n",
    "@dataclass\n",
    "class Person:\n",
    "    age: int\n",
    "    name: str\n",
    "\n",
    "    @staticmethod\n",
    "    def calculate_age(birth_year: int) -> int:  # заметьте, тут не нужен self/cls\n",
    "        return date.today().year - birth_year\n",
    "\n",
    "    @classmethod\n",
    "    def from_birthyear(cls, name: str, birth_year: int) -> \"Person\":\n",
    "        return cls(\n",
    "            age=cls.calculate_age(birth_year),  # а вот тут уже нужен\n",
    "            name=name,\n",
    "        )\n",
    "\n",
    "    def __str__(self):\n",
    "        return f\"{self.name}, возраст {self.age}\""
   ]
  },
  {
   "cell_type": "code",
   "execution_count": 62,
   "metadata": {},
   "outputs": [
    {
     "name": "stdout",
     "output_type": "stream",
     "text": [
      "Тёма, возраст 22\n"
     ]
    }
   ],
   "source": [
    "tema = Person.from_birthyear(\"Тёма\", 2000)\n",
    "\n",
    "print(tema)"
   ]
  },
  {
   "cell_type": "markdown",
   "metadata": {},
   "source": [
    "### Глава 3: (не)безопасность\n",
    "\n",
    "В питоне есть так называемые private переменные класса, но работают они с переменным успехом."
   ]
  },
  {
   "cell_type": "code",
   "execution_count": 88,
   "metadata": {},
   "outputs": [],
   "source": [
    "from dataclasses import dataclass\n",
    "\n",
    "\n",
    "@dataclass\n",
    "class Client:\n",
    "    def __init__(self, id, phone_number):\n",
    "        self.id = id\n",
    "        self.__phone_number = phone_number"
   ]
  },
  {
   "cell_type": "code",
   "execution_count": 90,
   "metadata": {},
   "outputs": [
    {
     "ename": "AttributeError",
     "evalue": "'Client' object has no attribute '__phone_number'",
     "output_type": "error",
     "traceback": [
      "\u001b[0;31m---------------------------------------------------------------------------\u001b[0m",
      "\u001b[0;31mAttributeError\u001b[0m                            Traceback (most recent call last)",
      "Cell \u001b[0;32mIn [90], line 2\u001b[0m\n\u001b[1;32m      1\u001b[0m client \u001b[39m=\u001b[39m Client(\u001b[39m123\u001b[39m, \u001b[39m\"\u001b[39m\u001b[39m88005553535\u001b[39m\u001b[39m\"\u001b[39m)\n\u001b[0;32m----> 2\u001b[0m client\u001b[39m.\u001b[39;49m__phone_number\n",
      "\u001b[0;31mAttributeError\u001b[0m: 'Client' object has no attribute '__phone_number'"
     ]
    }
   ],
   "source": [
    "client = Client(123, \"88005553535\")\n",
    "client.__phone_number  # выдаст ошибку, так как переменная приватная"
   ]
  },
  {
   "cell_type": "markdown",
   "metadata": {},
   "source": [
    "НО!!!"
   ]
  },
  {
   "cell_type": "code",
   "execution_count": 91,
   "metadata": {},
   "outputs": [
    {
     "data": {
      "text/plain": [
       "{'id': 123, '_Client__phone_number': '88005553535'}"
      ]
     },
     "execution_count": 91,
     "metadata": {},
     "output_type": "execute_result"
    }
   ],
   "source": [
    "client.__dict__  # ой, а как так вышло?)"
   ]
  },
  {
   "cell_type": "code",
   "execution_count": 92,
   "metadata": {},
   "outputs": [
    {
     "data": {
      "text/plain": [
       "'88005553535'"
      ]
     },
     "execution_count": 92,
     "metadata": {},
     "output_type": "execute_result"
    }
   ],
   "source": [
    "client._Client__phone_number"
   ]
  },
  {
   "cell_type": "markdown",
   "metadata": {},
   "source": [
    "### Глава 4: namedtuple\n",
    "\n",
    "Это некоторый гибрид кортежа и класса. Работает как обычный кортеж, только помимо этого у него именованные поля."
   ]
  },
  {
   "cell_type": "code",
   "execution_count": 93,
   "metadata": {},
   "outputs": [
    {
     "name": "stdout",
     "output_type": "stream",
     "text": [
      "Point(x=5, y=6)\n"
     ]
    }
   ],
   "source": [
    "from collections import namedtuple\n",
    "\n",
    "Point = namedtuple(\"Point\", [\"x\", \"y\"])\n",
    "\n",
    "w = Point(5, 6)\n",
    "\n",
    "print(w)"
   ]
  },
  {
   "cell_type": "markdown",
   "metadata": {},
   "source": [
    "В остальном это обычный tuple:"
   ]
  },
  {
   "cell_type": "code",
   "execution_count": 98,
   "metadata": {},
   "outputs": [
    {
     "name": "stdout",
     "output_type": "stream",
     "text": [
      "5\n",
      "6\n"
     ]
    }
   ],
   "source": [
    "for coord in w:\n",
    "    print(coord)"
   ]
  },
  {
   "cell_type": "code",
   "execution_count": 99,
   "metadata": {},
   "outputs": [
    {
     "data": {
      "text/plain": [
       "1"
      ]
     },
     "execution_count": 99,
     "metadata": {},
     "output_type": "execute_result"
    }
   ],
   "source": [
    "w.count(5)"
   ]
  },
  {
   "cell_type": "code",
   "execution_count": 100,
   "metadata": {},
   "outputs": [
    {
     "data": {
      "text/plain": [
       "2"
      ]
     },
     "execution_count": 100,
     "metadata": {},
     "output_type": "execute_result"
    }
   ],
   "source": [
    "len(w)"
   ]
  },
  {
   "cell_type": "code",
   "execution_count": null,
   "metadata": {},
   "outputs": [],
   "source": []
  }
 ],
 "metadata": {
  "kernelspec": {
   "display_name": "Python 3.10.8 64-bit",
   "language": "python",
   "name": "python3"
  },
  "language_info": {
   "codemirror_mode": {
    "name": "ipython",
    "version": 3
   },
   "file_extension": ".py",
   "mimetype": "text/x-python",
   "name": "python",
   "nbconvert_exporter": "python",
   "pygments_lexer": "ipython3",
   "version": "3.10.8"
  },
  "orig_nbformat": 4,
  "vscode": {
   "interpreter": {
    "hash": "6ecdebf77f2ee3a47348d003f751c63e810ca996c1c68d1179f338200fa83b34"
   }
  }
 },
 "nbformat": 4,
 "nbformat_minor": 2
}
