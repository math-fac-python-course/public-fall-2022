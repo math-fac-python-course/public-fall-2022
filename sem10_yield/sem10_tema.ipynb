{
 "cells": [
  {
   "cell_type": "markdown",
   "metadata": {},
   "source": [
    "# Семинар 10: генераторы, итераторы, оператор yield"
   ]
  },
  {
   "cell_type": "markdown",
   "metadata": {},
   "source": [
    "### Глава 0: нерасказанное про классы\n",
    "\n",
    "Множественное наследование (+ миксины)"
   ]
  },
  {
   "cell_type": "code",
   "execution_count": null,
   "metadata": {},
   "outputs": [],
   "source": [
    "from dataclasses import dataclass\n",
    "\n",
    "@dataclass\n",
    "class EmailMixin:\n",
    "    email: str\n",
    "\n",
    "\n",
    "@dataclass\n",
    "class BasePerson:\n",
    "    name: str\n",
    "    age: int\n",
    "\n",
    "\n",
    "@dataclass\n",
    "class Person(EmailMixin, BasePerson):\n",
    "    def __str__(self):\n",
    "        return f\"{self.name}, age {self.age}, email {self.email}\""
   ]
  },
  {
   "cell_type": "code",
   "execution_count": null,
   "metadata": {},
   "outputs": [],
   "source": [
    "me = Person(name=\"Tema\", age=22, email=\"astreltsov@hse.ru\")\n",
    "\n",
    "print(me)"
   ]
  },
  {
   "cell_type": "markdown",
   "metadata": {},
   "source": [
    "Обращение к родителю через super()"
   ]
  },
  {
   "cell_type": "code",
   "execution_count": null,
   "metadata": {},
   "outputs": [],
   "source": [
    "from dataclasses import dataclass\n",
    "\n",
    "@dataclass\n",
    "class BasePerson:\n",
    "    name: str\n",
    "    age: int\n",
    "\n",
    "    def __str__(self):\n",
    "        return f\"{self.name}, age {self.age}\"\n",
    "\n",
    "\n",
    "@dataclass\n",
    "class Person(BasePerson):\n",
    "    def __str__(self):\n",
    "        print(\"calling super\")\n",
    "        return super().__str__()"
   ]
  },
  {
   "cell_type": "code",
   "execution_count": null,
   "metadata": {},
   "outputs": [],
   "source": [
    "me = Person(name=\"Tema\", age=22)\n",
    "\n",
    "print(me)"
   ]
  },
  {
   "cell_type": "markdown",
   "metadata": {},
   "source": [
    "**Вопрос:** как будет работать если наследование множественное?"
   ]
  },
  {
   "cell_type": "markdown",
   "metadata": {},
   "source": [
    "### Глава 1: генераторы\n",
    "\n",
    "Генераторы, это \"ленивые\" функции, возвращающие значения on demand, когда требуется, например, распаковать их в цикле.\n",
    "\n",
    "Пример: числа Фибоначчи:"
   ]
  },
  {
   "cell_type": "code",
   "execution_count": null,
   "metadata": {},
   "outputs": [],
   "source": [
    "def generate_fib(max_number):\n",
    "    fib_1, fib_2 = 1, 1\n",
    "    yield fib_1  # <---- волшебное слово, чтобы выдать очередное число, но не выходить из функции\n",
    "    yield fib_2\n",
    "\n",
    "    for _ in range(2, max_number):\n",
    "        fib_1, fib_2 = fib_2, fib_1 + fib_2\n",
    "        yield fib_2"
   ]
  },
  {
   "cell_type": "code",
   "execution_count": null,
   "metadata": {},
   "outputs": [],
   "source": [
    "fibs = generate_fib(10)\n",
    "\n",
    "print(next(fibs))\n",
    "print(next(fibs))\n",
    "print(next(fibs))\n",
    "print(next(fibs))"
   ]
  },
  {
   "cell_type": "code",
   "execution_count": null,
   "metadata": {},
   "outputs": [],
   "source": [
    "fibs = generate_fib(10)\n",
    "for x in fibs:\n",
    "    print(x)"
   ]
  },
  {
   "cell_type": "code",
   "execution_count": null,
   "metadata": {},
   "outputs": [],
   "source": [
    "for x in fibs:  # второй раз уже не выведет ничего\n",
    "    print(x)"
   ]
  },
  {
   "cell_type": "code",
   "execution_count": null,
   "metadata": {},
   "outputs": [],
   "source": [
    "next(fibs)  # а next выдаст ошибку"
   ]
  },
  {
   "cell_type": "markdown",
   "metadata": {},
   "source": [
    "А если рекурсия?"
   ]
  },
  {
   "cell_type": "code",
   "execution_count": null,
   "metadata": {},
   "outputs": [],
   "source": [
    "def traverse_dict(d):\n",
    "    if not isinstance(d, dict):\n",
    "        yield d\n",
    "    else:\n",
    "        for v in d.values():\n",
    "            yield from traverse_dict(v)"
   ]
  },
  {
   "cell_type": "code",
   "execution_count": null,
   "metadata": {},
   "outputs": [],
   "source": [
    "d = {\n",
    "    \"one\": {\n",
    "        \"two\": {\n",
    "            \"three\": \"four\",\n",
    "            \"five\": \"six\"\n",
    "        }\n",
    "    },\n",
    "    \"seven\": \"eight\",\n",
    "}\n",
    "\n",
    "for x in traverse_dict(d):\n",
    "    print(x)"
   ]
  },
  {
   "cell_type": "markdown",
   "metadata": {},
   "source": [
    "### Глава 2: итераторы"
   ]
  },
  {
   "cell_type": "code",
   "execution_count": null,
   "metadata": {},
   "outputs": [],
   "source": [
    "collection = [1, 2, 3, 4, 5]\n",
    "\n",
    "list_iter = iter(collection)"
   ]
  },
  {
   "cell_type": "code",
   "execution_count": null,
   "metadata": {},
   "outputs": [],
   "source": [
    "print(next(list_iter))\n",
    "print(next(list_iter))\n",
    "print(next(list_iter))\n",
    "print(next(list_iter))\n",
    "print(next(list_iter))"
   ]
  },
  {
   "cell_type": "code",
   "execution_count": null,
   "metadata": {},
   "outputs": [],
   "source": [
    "print(next(list_iter))"
   ]
  },
  {
   "cell_type": "code",
   "execution_count": null,
   "metadata": {},
   "outputs": [],
   "source": [
    "for x in enumerate(collection):  # <---- это тоже итератор\n",
    "    print(x)"
   ]
  },
  {
   "cell_type": "code",
   "execution_count": null,
   "metadata": {},
   "outputs": [],
   "source": [
    "f = open(\"input.txt\")  # <--- и это тоже!\n",
    "\n",
    "f.readline()  # <--- а это фактически его next"
   ]
  },
  {
   "cell_type": "code",
   "execution_count": null,
   "metadata": {},
   "outputs": [],
   "source": [
    "class FibonacciIterator:\n",
    "    def __init__(self, max_number):\n",
    "        self.prev = 1\n",
    "        self.cur = 1\n",
    "        self.num = 0\n",
    "        self.max_number = max_number\n",
    "\n",
    "    def __next__(self):\n",
    "        if self.num == self.max_number:\n",
    "            raise StopIteration\n",
    "\n",
    "        result = self.prev\n",
    "        self.prev, self.cur = self.cur, self.prev + self.cur\n",
    "        self.num += 1\n",
    "        return result\n",
    "\n",
    "    def __iter__(self):\n",
    "        return self"
   ]
  },
  {
   "cell_type": "code",
   "execution_count": null,
   "metadata": {},
   "outputs": [],
   "source": [
    "fib_iter = FibonacciIterator(10)\n",
    "\n",
    "for x in fib_iter:\n",
    "    print(x)"
   ]
  },
  {
   "cell_type": "code",
   "execution_count": null,
   "metadata": {},
   "outputs": [],
   "source": [
    "class SquareIterator:\n",
    "    def __init__(self, initial_number):\n",
    "        # Здесь хранится промежуточное значение\n",
    "        self.number_to_square = initial_number\n",
    "\n",
    "    def __next__(self):\n",
    "        # Здесь мы обновляем значение и возвращаем результат\n",
    "        self.number_to_square = self.number_to_square ** 2\n",
    "        return self.number_to_square\n",
    "\n",
    "    def __iter__(self):\n",
    "        return self"
   ]
  },
  {
   "cell_type": "code",
   "execution_count": null,
   "metadata": {},
   "outputs": [],
   "source": [
    "sq_iter = SquareIterator(2)\n",
    "\n",
    "print(next(sq_iter))\n",
    "print(next(sq_iter))\n",
    "print(next(sq_iter))\n",
    "print(next(sq_iter))"
   ]
  },
  {
   "cell_type": "markdown",
   "metadata": {},
   "source": [
    "Важные моменты:\n",
    "\n",
    "1) Генераторы -- это тоже итераторы\n",
    "2) Любой объект, по которому можно сделать for (list, str, dict, set и тд) -- реализует протокол итератора"
   ]
  },
  {
   "cell_type": "markdown",
   "metadata": {},
   "source": [
    "### Задание 1\n",
    "\n",
    "написать простой итератор, по которому можно проходиться неограниченное количество раз, при этом допускается хранение элементов, но лишь столько, сколько максимально мы успели просмотреть"
   ]
  },
  {
   "cell_type": "code",
   "execution_count": null,
   "metadata": {},
   "outputs": [],
   "source": []
  },
  {
   "cell_type": "markdown",
   "metadata": {},
   "source": [
    "### Задание 2\n",
    "\n",
    "написать свой генератор chain, который принимает на себя через * список коллекций, а возвращает лениво их итеративную склейку, например:\n",
    "\n",
    "```\n",
    "chain([1, 2, 3], {\"a\", \"b\", \"c\"}) -> 1, 2, 3, a, b, c\n",
    "```"
   ]
  },
  {
   "cell_type": "code",
   "execution_count": null,
   "metadata": {},
   "outputs": [],
   "source": []
  },
  {
   "cell_type": "markdown",
   "metadata": {},
   "source": [
    "### Задание 3\n",
    "\n",
    "написать свой генератор flatten, принимающий коллекцию с вложенными iterable-сущностями, а возвращающую лениво (сплющенный список), например:\n",
    "\n",
    "```\n",
    "[[1, 2, 3], [4, [5, 6]]] -> [1, 2, 3, 4, 5, 6]\n",
    "```\n",
    "\n",
    "Для удобства проверять на итерируемость можно через\n",
    "\n",
    "```\n",
    "from collections.abc import Iterable\n",
    "...\n",
    "\n",
    "if isinstance(x, Iterable):\n",
    "    ...\n",
    "```"
   ]
  },
  {
   "cell_type": "code",
   "execution_count": null,
   "metadata": {},
   "outputs": [],
   "source": [
    "from collections.abc import Iterable\n",
    "\n",
    "# a = [1, 2, 3]\n",
    "# isinstance(a, Iterable)\n",
    "\n",
    "def flatten(iterable: Iterable):\n",
    "    ..."
   ]
  },
  {
   "cell_type": "code",
   "execution_count": null,
   "metadata": {},
   "outputs": [],
   "source": []
  }
 ],
 "metadata": {
  "kernelspec": {
   "display_name": "Python 3.10.8 64-bit",
   "language": "python",
   "name": "python3"
  },
  "language_info": {
   "codemirror_mode": {
    "name": "ipython",
    "version": 3
   },
   "file_extension": ".py",
   "mimetype": "text/x-python",
   "name": "python",
   "nbconvert_exporter": "python",
   "pygments_lexer": "ipython3",
   "version": "3.10.8"
  },
  "orig_nbformat": 4,
  "vscode": {
   "interpreter": {
    "hash": "6ecdebf77f2ee3a47348d003f751c63e810ca996c1c68d1179f338200fa83b34"
   }
  }
 },
 "nbformat": 4,
 "nbformat_minor": 2
}
