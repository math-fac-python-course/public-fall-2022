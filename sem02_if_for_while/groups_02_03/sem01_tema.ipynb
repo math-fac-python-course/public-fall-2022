{
 "cells": [
  {
   "cell_type": "markdown",
   "metadata": {},
   "source": [
    "# Семинар 2"
   ]
  },
  {
   "cell_type": "markdown",
   "metadata": {},
   "source": [
    "### Глава нулевая: по следам семинара 1"
   ]
  },
  {
   "cell_type": "markdown",
   "metadata": {},
   "source": [
    "0. В питоне есть функции минимума и максимума"
   ]
  },
  {
   "cell_type": "code",
   "execution_count": null,
   "metadata": {},
   "outputs": [],
   "source": [
    "a = 5\n",
    "b = 10\n",
    "print(max(a, b))\n",
    "print(min(a, b))"
   ]
  },
  {
   "cell_type": "markdown",
   "metadata": {},
   "source": [
    "1. Строки могут выводиться как через одинарные, так и двойные кавычки. Внутри строки с одним типом кавычек можно писать как кавычки другого типа, так и этого же (но нужно экранировать):"
   ]
  },
  {
   "cell_type": "code",
   "execution_count": null,
   "metadata": {},
   "outputs": [],
   "source": [
    "print(\"Five o'clock tea\")\n",
    "print('The new album \"Multitude\" of Stromae is out now')\n",
    "print('It\\'s too late to say goodbye')"
   ]
  },
  {
   "cell_type": "markdown",
   "metadata": {},
   "source": [
    "2. Вводить в питоне можно не только одно число/строку. Вот такая конструкция позволяет ввести несколько чисел через пробел:"
   ]
  },
  {
   "cell_type": "code",
   "execution_count": null,
   "metadata": {},
   "outputs": [],
   "source": [
    "x, y, z = map(int, input().split())"
   ]
  },
  {
   "cell_type": "markdown",
   "metadata": {},
   "source": [
    "Давайте разбемся, как это работает.\n",
    "Пусть мы введем числа 1 2 3\n",
    "\n",
    "```(python)\n",
    "input()  # '1 2 3'\n",
    "input().split()  # ['1', '2', '3']\n",
    "map(int, input().split())  # [1, 2, 3] -- на самом деле это не совсем правда, но грубо говоря так\n",
    "```"
   ]
  },
  {
   "cell_type": "markdown",
   "metadata": {},
   "source": [
    "Более того, вводить можно не только через пробел:"
   ]
  },
  {
   "cell_type": "code",
   "execution_count": null,
   "metadata": {},
   "outputs": [],
   "source": [
    "year, month, day = map(int, input().split(\"-\"))"
   ]
  },
  {
   "cell_type": "markdown",
   "metadata": {},
   "source": [
    "Из этого следует, что вводить можно не только числа, но и"
   ]
  },
  {
   "cell_type": "code",
   "execution_count": null,
   "metadata": {},
   "outputs": [],
   "source": [
    "first_name, last_name = input().split()  # строки\n",
    "\n",
    "latitude, longitude = map(int, input().split(\"-\"))  # вещественные числа\n",
    "\n",
    "first_name, last_name, _ = input().split()  # вот так можно проигнорить отчество\n",
    "first_name, last_name, *_ = input().split()  # вот так можно проигнорить вообще все что введется после"
   ]
  },
  {
   "cell_type": "markdown",
   "metadata": {},
   "source": [
    "А еще, параллельное присваивание работает не только с вводом:"
   ]
  },
  {
   "cell_type": "code",
   "execution_count": null,
   "metadata": {},
   "outputs": [],
   "source": [
    "x, y = 3, 5\n",
    "x, y = y, x  # поменяли местами\n",
    "print(x, y)"
   ]
  },
  {
   "cell_type": "markdown",
   "metadata": {},
   "source": [
    "### Глава первая: условные операторы\n",
    "\n",
    "##### База\n",
    "\n",
    "В условие if'а можно вписать все, что каким-либо образом может преобразоваться в bool.\n",
    "\n",
    "Можно использовать скобки, операторы `and`, `or`, `not`. Приоритет такой: скобки, `not`, `and`, `or`."
   ]
  },
  {
   "cell_type": "code",
   "execution_count": null,
   "metadata": {},
   "outputs": [],
   "source": [
    "tutor_name = input()\n",
    "\n",
    "if tutor_name == \"Тёма\":\n",
    "    print(\"Я в группе 2 или 3\")\n",
    "else:\n",
    "    print(\"Наверное, я ошибся семинаром\")"
   ]
  },
  {
   "cell_type": "code",
   "execution_count": null,
   "metadata": {},
   "outputs": [],
   "source": [
    "some_string = input()\n",
    "\n",
    "if some_string:\n",
    "    print(\"Case 1\")  # <---- подумайте, в каких случаях выведется это\n",
    "else:\n",
    "    print(\"Case 2\")  # <---- а в каких это"
   ]
  },
  {
   "cell_type": "code",
   "execution_count": null,
   "metadata": {},
   "outputs": [],
   "source": [
    "number = int(input())\n",
    "\n",
    "if number % 2 != 0:  # можно писать просто if number % 2, ведь 1 это True, а 0 -- это False\n",
    "    print(\"Number is odd\")\n",
    "else:\n",
    "    print(\"Number is even\")"
   ]
  },
  {
   "cell_type": "code",
   "execution_count": null,
   "metadata": {},
   "outputs": [],
   "source": [
    "song_name = input()\n",
    "\n",
    "if song_name == \"Wind of change\":\n",
    "    print(\"Seems like it's Scorpions\")\n",
    "elif song_name == \"My mistakes were made for you\":\n",
    "    print(\"I know it's The Last Shadow Puppets\")\n",
    "elif song_name == \"Californication\":\n",
    "    print(\"Is it RHCP?\")\n",
    "else:\n",
    "    print(\"Cannot understand you. Try again\")"
   ]
  },
  {
   "cell_type": "code",
   "execution_count": null,
   "metadata": {},
   "outputs": [],
   "source": [
    "n = int(input())\n",
    "\n",
    "if n % 2 == 0 and n % 3 == 0:  # можно также if not n % 2 and not n % 3\n",
    "    print(\"Делится на 6\")\n",
    "elif n % 2 == 0:\n",
    "    print(\"Делится на 2\")\n",
    "elif n % 3 == 0:\n",
    "    print(\"Делится на 3\")\n",
    "else:\n",
    "    print(\"Не делится ни на 2, ни на 3\")"
   ]
  },
  {
   "cell_type": "markdown",
   "metadata": {},
   "source": [
    "Все условия работают лениво: сначала проверяется первое, потом второе и так далее:"
   ]
  },
  {
   "cell_type": "code",
   "execution_count": null,
   "metadata": {},
   "outputs": [],
   "source": [
    "n = int(input())\n",
    "\n",
    "if n % 2 == 0 and n % 3 == 0:\n",
    "    print(\"Делится на 6\")\n",
    "elif n % 2 == 0:\n",
    "    print(\"Делится на 2\")\n",
    "elif n % 3 == 0:\n",
    "    print(\"Делится на 3\")\n",
    "elif n % 2 == 0 or n % 3 == 0:\n",
    "    print(\"Делится или на 2 или на 3\")  # <---- никогда не выведется\n",
    "else:\n",
    "    print(\"Не делится ни на 2, ни на 3\")"
   ]
  },
  {
   "cell_type": "code",
   "execution_count": null,
   "metadata": {},
   "outputs": [],
   "source": [
    "n = int(input())\n",
    "\n",
    "if n > 0 and n / 0 == 0:\n",
    "    print(\"Программа не упала\")  # Всегда выведет ошибку, если число больше 0"
   ]
  },
  {
   "cell_type": "code",
   "execution_count": null,
   "metadata": {},
   "outputs": [],
   "source": [
    "n = int(input())\n",
    "\n",
    "if n > 0 or n / 0 == 0:\n",
    "    print(\"Программа не упала\")  # Никогда не выведет ошибку, если число больше 0"
   ]
  },
  {
   "cell_type": "code",
   "execution_count": null,
   "metadata": {},
   "outputs": [],
   "source": [
    "n = int(input())\n",
    "\n",
    "if n > 0 or not n / 0:  # <---- обратите внимание, несмотря на not, это тоже не упадет, если n > 0\n",
    "    print(\"Программа не упала\")"
   ]
  },
  {
   "cell_type": "markdown",
   "metadata": {},
   "source": [
    "<details><summary>[Факультативно] В Python 3.10 появился Pattern Matching</summary>\n",
    "который позволяет делать это вот так:\n",
    "\n",
    "```(python)\n",
    "match tutor_name:\n",
    "    case \"Tema\":\n",
    "        print(\"Я в группе 2 или 3\")\n",
    "    case _:\n",
    "        print(\"Наверное, я ошибся семинаром\")\n",
    "```\n",
    "\n",
    "Но мы намеренно не рассматриваем эту конструкцию сейчас, она сильно более обширна, чем матчинг примитивов, поэтому постараемся поговорить про нее позже.\n",
    "</details>"
   ]
  },
  {
   "cell_type": "markdown",
   "metadata": {},
   "source": [
    "##### Немного о моржах"
   ]
  },
  {
   "cell_type": "markdown",
   "metadata": {},
   "source": [
    "Давайте упростим конструкцию за счет возможностей Python 3.8:"
   ]
  },
  {
   "cell_type": "code",
   "execution_count": null,
   "metadata": {},
   "outputs": [],
   "source": [
    "if (tutor_name := input()) == \"Тёма\":\n",
    "    print(\"Я в группе 2 или 3\")\n",
    "else:\n",
    "    print(f\"Кажется {tutor_name} -- семинарист другой группы\")"
   ]
  },
  {
   "cell_type": "markdown",
   "metadata": {},
   "source": [
    "Но вообще моржовый оператор очень коварен и может вводить в заблуждение. Вокруг него в целом было много шумихи в сообществе языка, и это спровоцировало уход из комитета самого Гвидо Ван Россума (подробности -- в README к семинару)."
   ]
  },
  {
   "cell_type": "code",
   "execution_count": null,
   "metadata": {},
   "outputs": [],
   "source": [
    "if tutor_name := input() == \"Тёма\":  # что станет если мы забудем про скобки?\n",
    "    print(\"Я в группе 2 или 3\")\n",
    "else:\n",
    "    print(f\"Кажется {tutor_name} -- семинарист другой группы\")"
   ]
  },
  {
   "cell_type": "markdown",
   "metadata": {},
   "source": [
    "### Глава вторая: циклы"
   ]
  },
  {
   "cell_type": "markdown",
   "metadata": {},
   "source": [
    "Пусть я хочу найти сумму квадратов целых чисел от 1 до $n$:\n",
    "$$\n",
    "s = 1 + 2^2 + \\ldots + n^2\n",
    "$$"
   ]
  },
  {
   "cell_type": "code",
   "execution_count": null,
   "metadata": {},
   "outputs": [],
   "source": [
    "s = 0\n",
    "\n",
    "s = s + 1\n",
    "print(s)\n",
    "s = s + 2**2\n",
    "print(s)\n",
    "s = s + 3**2 \n",
    "print(s)\n",
    "# ну и сколько мы так будем продолжать?"
   ]
  },
  {
   "cell_type": "code",
   "execution_count": null,
   "metadata": {},
   "outputs": [],
   "source": [
    "n = int(input())\n",
    "\n",
    "s = 0\n",
    "for i in range(1, n + 1):  # обратите внимание, что range(a, b) -- это [a, b]\n",
    "    s = s + i ** 2\n",
    "    # s += i**2   # более короткая форма записи \n",
    "    \n",
    "print(s)"
   ]
  },
  {
   "cell_type": "markdown",
   "metadata": {},
   "source": [
    "Такое же, но сумма четных:"
   ]
  },
  {
   "cell_type": "code",
   "execution_count": null,
   "metadata": {},
   "outputs": [],
   "source": [
    "n = int(input())\n",
    "\n",
    "s = 0\n",
    "for x in range(1, n + 1):\n",
    "    if x % 2 == 0:\n",
    "        s += x\n",
    "print(s)"
   ]
  },
  {
   "cell_type": "markdown",
   "metadata": {},
   "source": [
    "Или еще чуть проще:"
   ]
  },
  {
   "cell_type": "code",
   "execution_count": null,
   "metadata": {},
   "outputs": [],
   "source": [
    "n = int(input())\n",
    "\n",
    "s = 0\n",
    "for x in range(2, n + 1, 2):  # а можно еще проще\n",
    "    s += x\n",
    "print(s)\n"
   ]
  },
  {
   "cell_type": "markdown",
   "metadata": {},
   "source": [
    "Можно сразу две суммы считать:"
   ]
  },
  {
   "cell_type": "code",
   "execution_count": null,
   "metadata": {},
   "outputs": [],
   "source": [
    "n = int(input())\n",
    "\n",
    "s1, s2 = 0, 0\n",
    "for x in range(1, n + 1):\n",
    "    if x % 2 == 0:\n",
    "        s1 += x\n",
    "    else:\n",
    "        s2 += x\n",
    "\n",
    "print(s1, s2)"
   ]
  },
  {
   "cell_type": "markdown",
   "metadata": {},
   "source": [
    "Если левая граница range не указана, то она считается 0, если не указан шаг, по умолчанию он равен 1.\n",
    "\n",
    "Range можно делать не только по положительным и не только вперед!"
   ]
  },
  {
   "cell_type": "code",
   "execution_count": null,
   "metadata": {},
   "outputs": [],
   "source": [
    "for i in range(-10, 0):  # что выведет?\n",
    "    print(i)"
   ]
  },
  {
   "cell_type": "code",
   "execution_count": null,
   "metadata": {},
   "outputs": [],
   "source": [
    "for i in range(10, 1, -1):  # а тут?\n",
    "    print(i)"
   ]
  },
  {
   "cell_type": "code",
   "execution_count": null,
   "metadata": {},
   "outputs": [],
   "source": [
    "for i in range(10, 0, -2):  # а вот тут?\n",
    "    print(i)"
   ]
  },
  {
   "cell_type": "markdown",
   "metadata": {},
   "source": [
    "Из (бес)полезного: после выполнения цикла переменная на самом деле никуда не удаляется:"
   ]
  },
  {
   "cell_type": "code",
   "execution_count": 8,
   "metadata": {},
   "outputs": [
    {
     "name": "stdout",
     "output_type": "stream",
     "text": [
      "9\n"
     ]
    }
   ],
   "source": [
    "for i in range(10): # числа от 0 до 9 включительно\n",
    "    pass  # так можно просто скипнуть, ничего не делая, еще работает просто написать ...\n",
    "\n",
    "print(i)"
   ]
  },
  {
   "cell_type": "markdown",
   "metadata": {},
   "source": [
    "Цикл for можно делать не только по range, но и, например, строчкам (и не только!!)"
   ]
  },
  {
   "cell_type": "code",
   "execution_count": null,
   "metadata": {},
   "outputs": [],
   "source": [
    "word = input()\n",
    "\n",
    "# кто не знал -- буква \"y\" в гласные не входит. я так однажды турнир по программированию запорол\n",
    "vowels = 'aeiou'\n",
    "for letter in word:\n",
    "    if letter in vowels:\n",
    "        print(letter)"
   ]
  },
  {
   "cell_type": "markdown",
   "metadata": {},
   "source": [
    "Вам не начинает казаться, что код выше читается буквально как анлийский? Вот она сила читабельных переменных!"
   ]
  },
  {
   "cell_type": "markdown",
   "metadata": {},
   "source": [
    "<br>Иногда хочется уметь просто перейти на следующую итерацию цикла. Предыдущий код можно переписать вот так:"
   ]
  },
  {
   "cell_type": "code",
   "execution_count": null,
   "metadata": {},
   "outputs": [],
   "source": [
    "word = input()\n",
    "\n",
    "vowels = 'aeiou'\n",
    "for letter in word:\n",
    "    if letter not in vowels:\n",
    "        continue\n",
    "    print(letter)  # выполнится только тогда, когда не сделали continue, поэтому else можно опустить"
   ]
  },
  {
   "cell_type": "markdown",
   "metadata": {},
   "source": [
    "Цикл можно завершать преждевременно"
   ]
  },
  {
   "cell_type": "code",
   "execution_count": null,
   "metadata": {},
   "outputs": [],
   "source": [
    "word = input()\n",
    "\n",
    "# кто не знал -- буква \"y\" в гласные не входит. я так однажды турнир по программированию запорол\n",
    "vowels = 'aeiou'\n",
    "for letter in word:\n",
    "    if letter in vowels:\n",
    "        print(\"Found first vowel:\", letter)\n",
    "        break  # завершает цикл\n",
    "else:  # else после цикла выполнится если в нем не был сделан break и только тогда\n",
    "    print(\"Word has no vowels\")"
   ]
  },
  {
   "cell_type": "markdown",
   "metadata": {},
   "source": [
    "Циклы можно вкладывать друг в друга:"
   ]
  },
  {
   "cell_type": "code",
   "execution_count": 10,
   "metadata": {},
   "outputs": [
    {
     "name": "stdout",
     "output_type": "stream",
     "text": [
      "Sum of numbers from 1 to 1 is 1\n",
      "Sum of numbers from 1 to 2 is 3\n",
      "Sum of numbers from 1 to 3 is 6\n",
      "Sum of numbers from 1 to 4 is 10\n",
      "Sum of numbers from 1 to 5 is 15\n",
      "Sum of numbers from 1 to 6 is 21\n",
      "Sum of numbers from 1 to 7 is 28\n",
      "Sum of numbers from 1 to 8 is 36\n",
      "Sum of numbers from 1 to 9 is 45\n",
      "Sum of numbers from 1 to 10 is 55\n"
     ]
    }
   ],
   "source": [
    "n = 10\n",
    "\n",
    "for i in range(1, n + 1):\n",
    "    s = 0\n",
    "    for j in range(1, i + 1):\n",
    "        s += j\n",
    "    print(\"Sum of numbers from 1 to\", i, \"is\", s)"
   ]
  },
  {
   "cell_type": "markdown",
   "metadata": {},
   "source": [
    "Кроме того, есть еще цикл while, позволяющий выполнять определенные действия, пока верно некоторое условие.\n",
    "Пример, хочу возводить вводимые числа в квадрат, пока мне не введут 0:"
   ]
  },
  {
   "cell_type": "code",
   "execution_count": null,
   "metadata": {},
   "outputs": [],
   "source": [
    "n = int(input())\n",
    "while n != 0:\n",
    "    print(n ** 2)"
   ]
  },
  {
   "cell_type": "code",
   "execution_count": null,
   "metadata": {},
   "outputs": [],
   "source": [
    "while (n := int(input())) != 0:  # то же самое\n",
    "    print(n ** 2)"
   ]
  },
  {
   "cell_type": "markdown",
   "metadata": {},
   "source": [
    "While всегда может заменить for:"
   ]
  },
  {
   "cell_type": "code",
   "execution_count": 9,
   "metadata": {},
   "outputs": [
    {
     "ename": "KeyboardInterrupt",
     "evalue": "",
     "output_type": "error",
     "traceback": [
      "\u001b[0;31m---------------------------------------------------------------------------\u001b[0m",
      "\u001b[0;31mKeyboardInterrupt\u001b[0m                         Traceback (most recent call last)",
      "\u001b[1;32m/Users/streltsov-ad/public-fall-2022/sem02_if_for_while/groups_02_03/sem01_tema.ipynb Cell 57\u001b[0m in \u001b[0;36m<cell line: 3>\u001b[0;34m()\u001b[0m\n\u001b[1;32m      <a href='vscode-notebook-cell:/Users/streltsov-ad/public-fall-2022/sem02_if_for_while/groups_02_03/sem01_tema.ipynb#ch0000103?line=1'>2</a>\u001b[0m i, s \u001b[39m=\u001b[39m \u001b[39m1\u001b[39m, \u001b[39m0\u001b[39m\n\u001b[1;32m      <a href='vscode-notebook-cell:/Users/streltsov-ad/public-fall-2022/sem02_if_for_while/groups_02_03/sem01_tema.ipynb#ch0000103?line=2'>3</a>\u001b[0m \u001b[39mwhile\u001b[39;00m i \u001b[39m<\u001b[39m\u001b[39m=\u001b[39m n:\n\u001b[0;32m----> <a href='vscode-notebook-cell:/Users/streltsov-ad/public-fall-2022/sem02_if_for_while/groups_02_03/sem01_tema.ipynb#ch0000103?line=3'>4</a>\u001b[0m     s \u001b[39m+\u001b[39m\u001b[39m=\u001b[39m i\n\u001b[1;32m      <a href='vscode-notebook-cell:/Users/streltsov-ad/public-fall-2022/sem02_if_for_while/groups_02_03/sem01_tema.ipynb#ch0000103?line=4'>5</a>\u001b[0m \u001b[39mprint\u001b[39m(s)\n",
      "\u001b[0;31mKeyboardInterrupt\u001b[0m: "
     ]
    }
   ],
   "source": [
    "n = int(input())\n",
    "i, s = 1, 0\n",
    "while i <= n:  # давайте подумаем, чего не хватает, чтобы цикл не выполнялся бесконечно?\n",
    "    s += i\n",
    "print(s)"
   ]
  },
  {
   "cell_type": "markdown",
   "metadata": {},
   "source": [
    "### Практика"
   ]
  },
  {
   "cell_type": "markdown",
   "metadata": {},
   "source": [
    "#### Задача 1.\n",
    "\n",
    "Дано натуральное число. Требуется определить, является ли год с данным номером високосным. Если год является високосным, то выведите YES, иначе выведите NO. Напомним, что в соответствии с григорианским календарем, год является високосным, если его номер кратен 4, но не кратен 100, а также если он кратен 400."
   ]
  },
  {
   "cell_type": "code",
   "execution_count": null,
   "metadata": {},
   "outputs": [],
   "source": []
  },
  {
   "cell_type": "markdown",
   "metadata": {},
   "source": [
    "#### Задача 2.\n",
    "\n",
    "По данному натуральному $n\\le9$ выведите лесенку из n ступенек, $i$-я ступенька состоит из чисел от 1 до $i$ без пробелов.\n",
    "Например, для числа 4:\n",
    "\n",
    "1<br>\n",
    "12<br>\n",
    "123<br>\n",
    "1234<br>"
   ]
  },
  {
   "cell_type": "code",
   "execution_count": null,
   "metadata": {},
   "outputs": [],
   "source": []
  },
  {
   "cell_type": "markdown",
   "metadata": {},
   "source": [
    "#### Задача 3.\n",
    "\n",
    "Последовательность состоит из натуральных чисел и завершается числом 0. Определите значение наибольшего элемента последовательности.\n",
    "\n",
    "Ввод:\n",
    "\n",
    "7<br>\n",
    "9<br>\n",
    "2<br>\n",
    "0<br>\n",
    "\n",
    "Вывод:\n",
    "\n",
    "9"
   ]
  },
  {
   "cell_type": "code",
   "execution_count": null,
   "metadata": {},
   "outputs": [],
   "source": []
  },
  {
   "cell_type": "markdown",
   "metadata": {},
   "source": [
    "#### Задача 4\n",
    "\n",
    "По данному натуральному числу $n$ выведите такое наименьшее целое число $k$, что $2^k \\ge n$.\n",
    "\n",
    "Операцией возведения в степень пользоваться нельзя!"
   ]
  },
  {
   "cell_type": "code",
   "execution_count": null,
   "metadata": {},
   "outputs": [],
   "source": []
  }
 ],
 "metadata": {
  "kernelspec": {
   "display_name": "Python 3.9.13 64-bit",
   "language": "python",
   "name": "python3"
  },
  "language_info": {
   "codemirror_mode": {
    "name": "ipython",
    "version": 3
   },
   "file_extension": ".py",
   "mimetype": "text/x-python",
   "name": "python",
   "nbconvert_exporter": "python",
   "pygments_lexer": "ipython3",
   "version": "3.9.13"
  },
  "orig_nbformat": 4,
  "vscode": {
   "interpreter": {
    "hash": "b0fa6594d8f4cbf19f97940f81e996739fb7646882a419484c72d19e05852a7e"
   }
  }
 },
 "nbformat": 4,
 "nbformat_minor": 2
}
