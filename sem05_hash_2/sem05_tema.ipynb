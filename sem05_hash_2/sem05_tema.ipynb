{
 "cells": [
  {
   "cell_type": "markdown",
   "metadata": {},
   "source": [
    "# Семинар 5\n",
    "### Продолжаем говорить про хэш-таблички"
   ]
  },
  {
   "cell_type": "markdown",
   "metadata": {},
   "source": [
    "#### Глава 1: словари\n",
    "\n",
    "Множества -- это достаточно удобная коллекция, чтобы хранить неповторяющиеся значения, однако иногда бывают случаи, когда хранить нужно не просто значение, а маппинг `key -> value`"
   ]
  },
  {
   "cell_type": "code",
   "execution_count": null,
   "metadata": {},
   "outputs": [],
   "source": [
    "d = {}  # объявляем словарь\n",
    "# еще объявить можно вот так d = dict()\n",
    "\n",
    "d[\"some_key\"] = \"some_value\"\n",
    "d[\"another_key\"] = \"another_value\"\n",
    "d[\"key_with_numeric\"] = 1\n",
    "d[2] = \"value_from_numeric\"\n",
    "d[\"here_is_the_dict\"] = {\"key\": 6}"
   ]
  },
  {
   "cell_type": "code",
   "execution_count": null,
   "metadata": {},
   "outputs": [],
   "source": [
    "print(d)"
   ]
  },
  {
   "cell_type": "code",
   "execution_count": null,
   "metadata": {},
   "outputs": [],
   "source": [
    "print(d[\"some_key\"])  # интерфейс как в массивах, через квадратные скобки -- получение значения по ключу\n",
    "print(d[\"here_is_the_dict\"])\n",
    "print(d[\"here_is_the_dict\"][\"key\"])"
   ]
  },
  {
   "cell_type": "markdown",
   "metadata": {},
   "source": [
    "Инициализация"
   ]
  },
  {
   "cell_type": "code",
   "execution_count": null,
   "metadata": {},
   "outputs": [],
   "source": [
    "d = {\"key\": \"value\", \"anohter_key\": \"another_value\"}  # вот так"
   ]
  },
  {
   "cell_type": "code",
   "execution_count": null,
   "metadata": {},
   "outputs": [],
   "source": [
    "d = dict(\n",
    "    key=\"value\",\n",
    "    another_key=\"another_value\",  # trailing-comma -- это просто хороший тон, не более\n",
    ")"
   ]
  },
  {
   "cell_type": "markdown",
   "metadata": {},
   "source": [
    "Важно: в качестве значения словарю можно указать **что угодно**, а вот в качестве ключа -- **только hashable**:"
   ]
  },
  {
   "cell_type": "code",
   "execution_count": null,
   "metadata": {},
   "outputs": [],
   "source": [
    "d = {\"values\": [1, 2, 3]}\n",
    "print(d)"
   ]
  },
  {
   "cell_type": "code",
   "execution_count": null,
   "metadata": {},
   "outputs": [],
   "source": [
    "d = {[1, 2, 3]: \"values\"}  # ошибка"
   ]
  },
  {
   "cell_type": "markdown",
   "metadata": {},
   "source": [
    "Интерфейс обращения со словарем"
   ]
  },
  {
   "cell_type": "code",
   "execution_count": null,
   "metadata": {},
   "outputs": [],
   "source": [
    "# создать словарь из ключей, указанных первым аргументом с определенным значением\n",
    "\n",
    "d = dict.fromkeys([\"one\", \"two\", \"three\"], 3)\n",
    "d[\"one\"] = 1\n",
    "print(d)"
   ]
  },
  {
   "cell_type": "code",
   "execution_count": null,
   "metadata": {},
   "outputs": [],
   "source": [
    "print(d.get(\"two\", -1))\n",
    "print(d.get(\"four\", -1))  # если ключа нет, вернется то, что записано вторым аргументом"
   ]
  },
  {
   "cell_type": "code",
   "execution_count": null,
   "metadata": {},
   "outputs": [],
   "source": [
    "print(d.pop(\"two\", -1))  # аналогично .get, только с удалением ключа\n",
    "print(d.pop(\"four\", -1))  # если ключа нет, все так же вернется то, что записано вторым аргументом\n",
    "\n",
    "print(d)"
   ]
  },
  {
   "cell_type": "code",
   "execution_count": null,
   "metadata": {},
   "outputs": [],
   "source": [
    "d.update({\"two\": 2, \"four\": 4})  # обновить словарь, добавив новые key-value пары\n",
    "d = {**d, **{\"two\": 2, \"four\": 4}}  # лайфхак: еще вот так работает"
   ]
  },
  {
   "cell_type": "code",
   "execution_count": null,
   "metadata": {},
   "outputs": [],
   "source": [
    "params = {\"sep\": \", \", \"end\": \"!\"}  # а вот для чего эти ** еще нужны\n",
    "words = [\"hello\", \"world\"]\n",
    "print(*words, **params)  # советую запомнить, такая конструкция очень часто встречается"
   ]
  },
  {
   "cell_type": "code",
   "execution_count": null,
   "metadata": {},
   "outputs": [],
   "source": [
    "d.items()"
   ]
  },
  {
   "cell_type": "code",
   "execution_count": null,
   "metadata": {},
   "outputs": [],
   "source": [
    "for key, value in d.items():  # заметьте, что этот словарь всегда unordered, как и множество\n",
    "    print(key, value)"
   ]
  },
  {
   "cell_type": "code",
   "execution_count": null,
   "metadata": {},
   "outputs": [],
   "source": [
    "print(d.keys())\n",
    "print(d.values())  # по этим структурам так же можно итерироваться\n",
    "\n",
    "print(sum(d.values()))  # или делать например так"
   ]
  },
  {
   "cell_type": "code",
   "execution_count": null,
   "metadata": {},
   "outputs": [],
   "source": [
    "print(d.setdefault(\"five\", 5))  # если значения в словаре нет, вернет ее\n",
    "print(d.setdefault(\"four\", -1))  # если есть, то вернет то, что есть\n",
    "print(d)"
   ]
  },
  {
   "cell_type": "code",
   "execution_count": null,
   "metadata": {},
   "outputs": [],
   "source": [
    "new_d = d.copy()  # те же самые методы копирования, что и в случае с другими коллекциями\n",
    "# при этом не забываем про необходимость deepcopy, если словарь вложенный!\n",
    "\n",
    "new_d[\"six\"] = 6\n",
    "print(new_d)\n",
    "print(d)"
   ]
  },
  {
   "cell_type": "markdown",
   "metadata": {},
   "source": [
    "\"Под капотом\" получение значения по ключу вызывает у словаря функцию `__getitem__`:"
   ]
  },
  {
   "cell_type": "code",
   "execution_count": null,
   "metadata": {},
   "outputs": [],
   "source": [
    "print(d[\"five\"] == d.__getitem__(\"five\"))"
   ]
  },
  {
   "cell_type": "markdown",
   "metadata": {},
   "source": [
    "Удаление из словаря происходит за O(1):"
   ]
  },
  {
   "cell_type": "code",
   "execution_count": null,
   "metadata": {},
   "outputs": [],
   "source": [
    "d.pop(\"five\")  # или del d[\"five\"], тут нет шансов выстрелить себе в ногу...\n",
    "print(d)"
   ]
  },
  {
   "cell_type": "code",
   "execution_count": null,
   "metadata": {},
   "outputs": [],
   "source": [
    "# ...потому что исходный объект не удалится\n",
    "\n",
    "one_dict = {\"name\": \"Tema\", \"surname\": \"Streltsov\"}\n",
    "another_dict = {\"seminarist\": one_dict}\n",
    "\n",
    "del another_dict[\"seminarist\"]\n",
    "\n",
    "print(one_dict)"
   ]
  },
  {
   "cell_type": "markdown",
   "metadata": {},
   "source": [
    "Еще есть некоторая особенность, связанная со сравнением словарей. Со множествами это, кстати, работает так же: сравнение происходит без учета порядка."
   ]
  },
  {
   "cell_type": "code",
   "execution_count": null,
   "metadata": {},
   "outputs": [],
   "source": [
    "d = {\"name\": \"Tema\", \"surname\": \"Streltsov\"}\n",
    "\n",
    "print(d == {\"surname\": \"Streltsov\", \"name\": \"Tema\"})"
   ]
  },
  {
   "cell_type": "markdown",
   "metadata": {},
   "source": [
    "Пусть теперь нам дана строка со словами и мы хотим для каждого слова подсчитать, сколько раз каждое слово в ней содержится."
   ]
  },
  {
   "cell_type": "code",
   "execution_count": null,
   "metadata": {},
   "outputs": [],
   "source": [
    "# НЕВЕРНЫЙ код, получим ошибку KeyError\n",
    "\n",
    "wordcount = {}\n",
    "\n",
    "words = input().split()\n",
    "\n",
    "for word in words:\n",
    "    wordcount[word] += 1\n",
    "\n",
    "print(wordcount)"
   ]
  },
  {
   "cell_type": "code",
   "execution_count": null,
   "metadata": {},
   "outputs": [],
   "source": [
    "# вот теперь верно, но не очень красиво\n",
    "\n",
    "wordcount = {}\n",
    "\n",
    "words = input().split()\n",
    "\n",
    "for word in words:\n",
    "    if word not in wordcount:  # проверяем ключ на наличие в словаре, это O(1), как и в сетах\n",
    "        wordcount[word] = 0\n",
    "    wordcount[word] += 1\n",
    "\n",
    "print(wordcount)"
   ]
  },
  {
   "cell_type": "markdown",
   "metadata": {},
   "source": [
    "### Плюшка #1: defaultdict\n",
    "\n",
    "По сути, это словарь, у которого на все ключи задан `setdefault`."
   ]
  },
  {
   "cell_type": "code",
   "execution_count": null,
   "metadata": {},
   "outputs": [],
   "source": [
    "from collections import defaultdict\n",
    "\n",
    "wordcount = defaultdict(int)  # можно передать тип данных, по которому берется дефолтное значение\n",
    "# для int это 0, для str -- пустая строка, для dict это {} и тд\n",
    "\n",
    "words = input().split()\n",
    "\n",
    "for word in words:\n",
    "    wordcount[word] += 1\n",
    "\n",
    "print(wordcount)"
   ]
  },
  {
   "cell_type": "markdown",
   "metadata": {},
   "source": [
    "У defaultdict в атрибуте `default_factory` всегда хранится функция, которая инициализирует значение по умолчанию"
   ]
  },
  {
   "cell_type": "code",
   "execution_count": null,
   "metadata": {},
   "outputs": [],
   "source": [
    "print(wordcount.default_factory)\n",
    "print(wordcount.default_factory())\n",
    "print(int())"
   ]
  },
  {
   "cell_type": "markdown",
   "metadata": {},
   "source": [
    "Можно задать явно любое другое значение по умолчанию с помощью `lambda`:"
   ]
  },
  {
   "cell_type": "code",
   "execution_count": null,
   "metadata": {},
   "outputs": [],
   "source": [
    "# первым аргументом будет значение по умолчанию, которое присвоится, если словаря нет\n",
    "# вторая --  дадим словарь которым мы инициализируем defaultdict\n",
    "\n",
    "d = defaultdict(lambda: \"not found\", {\"wiki\": \"wikipedia.org\", \"hse\": \"hse.ru\"})\n",
    "\n",
    "print(d[\"wiki\"])\n",
    "print(d[\"4chan\"])\n",
    "print(d)"
   ]
  },
  {
   "cell_type": "code",
   "execution_count": null,
   "metadata": {},
   "outputs": [],
   "source": [
    "print(d.default_factory())"
   ]
  },
  {
   "cell_type": "markdown",
   "metadata": {},
   "source": [
    "Есть очень крутой лайфхак, как создать словарь словарей неограниченной вложенности:"
   ]
  },
  {
   "cell_type": "code",
   "execution_count": 138,
   "metadata": {},
   "outputs": [],
   "source": [
    "RecursiveDefaultDict = lambda: defaultdict(RecursiveDefaultDict)  # про то, что такое лямбды, мы поговорим позже"
   ]
  },
  {
   "cell_type": "code",
   "execution_count": 139,
   "metadata": {},
   "outputs": [
    {
     "name": "stdout",
     "output_type": "stream",
     "text": [
      "5\n",
      "defaultdict(<function <lambda> at 0x11153eaf0>, {1: defaultdict(<function <lambda> at 0x11153eaf0>, {2: 5})})\n"
     ]
    }
   ],
   "source": [
    "d = RecursiveDefaultDict()\n",
    "d[1][2] = 5\n",
    "print(d[1][2])\n",
    "print(d)"
   ]
  },
  {
   "cell_type": "markdown",
   "metadata": {},
   "source": [
    "### Плюшка #2: OrderedDict\n",
    "\n",
    "Все то, что вы хотели от словаря, только теперь он будет иметь порядок ключей, в котором она добавляются в словарь. Получается внебрачный сын словаря и списка."
   ]
  },
  {
   "cell_type": "code",
   "execution_count": null,
   "metadata": {},
   "outputs": [],
   "source": [
    "from collections import OrderedDict\n",
    "\n",
    "d = OrderedDict()\n",
    "\n",
    "d[\"b\"] = 2\n",
    "d[\"d\"] = 4\n",
    "d[\"a\"] = 1\n",
    "\n",
    "print(d)"
   ]
  },
  {
   "cell_type": "code",
   "execution_count": null,
   "metadata": {},
   "outputs": [],
   "source": [
    "for item in d.items():\n",
    "    print(item)"
   ]
  },
  {
   "cell_type": "code",
   "execution_count": null,
   "metadata": {},
   "outputs": [],
   "source": [
    "d.move_to_end(\"b\")  # поменяли порядок, передвинули ключ b в конец\n",
    "print(d)"
   ]
  },
  {
   "cell_type": "code",
   "execution_count": null,
   "metadata": {},
   "outputs": [],
   "source": [
    "for item in d.items():\n",
    "    print(item)"
   ]
  },
  {
   "cell_type": "markdown",
   "metadata": {},
   "source": [
    "В целом OrderedDict устроен как и обычный словарь, но рядом с ним еще лежит связный список вида\n",
    "\n",
    "`START <-> b <-> d <-> a <-> END`\n",
    "\n",
    "То есть список ключей, причем из каждого ключа есть ссылка на следующий и предыдущий.\n",
    "\n",
    "Так как в связном списке нет индексации, да и целом быстрее чем за $O(n)$ в таком случае найти нужный ключ проблематично, то казалось бы, удаление тоже должно в OrderedDict быть за линейную сложность. НО! Питон в OrderedDict рядом с ключом хранит ссылку на тот элемент списка, к которому ключ привязан. Поэтому удаление из OrderedDict происходит за $O(1)$, ибо это просто удаление из хэш-таблицы + замена ссылок.\n",
    "\n",
    "UPD. На семинаре я облажался и сказал, что $O(n)$, но помните, что это неправда!!"
   ]
  },
  {
   "cell_type": "markdown",
   "metadata": {},
   "source": [
    "### Плюшка #3: удобный counter"
   ]
  },
  {
   "cell_type": "code",
   "execution_count": null,
   "metadata": {},
   "outputs": [],
   "source": [
    "from collections import Counter\n",
    "\n",
    "\n",
    "words = \"what a life what a night what a beautiful beautiful ride\".split()\n",
    "print(words)\n",
    "\n",
    "counter = Counter(words)\n",
    "print(counter)"
   ]
  },
  {
   "cell_type": "code",
   "execution_count": null,
   "metadata": {},
   "outputs": [],
   "source": [
    "# возвращает список кортежей самых часто встречаемых элементов и их значений \n",
    "# если таких несколько, то приоритет у тех, которые встретились раньше\n",
    "counter.most_common(1)"
   ]
  },
  {
   "cell_type": "code",
   "execution_count": null,
   "metadata": {},
   "outputs": [],
   "source": [
    "counter.most_common(2)"
   ]
  },
  {
   "cell_type": "code",
   "execution_count": null,
   "metadata": {},
   "outputs": [],
   "source": [
    "counter.elements()"
   ]
  },
  {
   "cell_type": "code",
   "execution_count": null,
   "metadata": {},
   "outputs": [],
   "source": [
    "for word in counter.elements():  # выводятся слова с повторениями в порядке, в котором впервые встретились\n",
    "    print(word)"
   ]
  },
  {
   "cell_type": "code",
   "execution_count": null,
   "metadata": {},
   "outputs": [],
   "source": [
    "words = \"but i crumble completely when you cry\".split()\n",
    "another_words = \"when you look at me like that my darling what did you expect\".split()\n",
    "\n",
    "counter = Counter(words)\n",
    "another_counter = Counter(another_words)\n",
    "\n",
    "counter.subtract(another_counter)  # можно по-честному вычесть из одного каунтера другой\n",
    "\n",
    "print(counter)"
   ]
  },
  {
   "cell_type": "markdown",
   "metadata": {},
   "source": [
    "### Плюшка #4: ChainMap (факультативно)"
   ]
  },
  {
   "cell_type": "code",
   "execution_count": null,
   "metadata": {},
   "outputs": [],
   "source": [
    "from collections import ChainMap\n",
    "\n",
    "baseline = {'music': 'bach', 'art': 'rembrandt'}\n",
    "adjustments = {'art': 'van gogh', 'opera': 'carmen'}\n",
    "d = ChainMap(adjustments, baseline)"
   ]
  },
  {
   "cell_type": "code",
   "execution_count": null,
   "metadata": {},
   "outputs": [],
   "source": [
    "d[\"art\"]"
   ]
  },
  {
   "cell_type": "code",
   "execution_count": null,
   "metadata": {},
   "outputs": [],
   "source": [
    "del d[\"art\"]\n",
    "print(d[\"art\"])"
   ]
  },
  {
   "cell_type": "code",
   "execution_count": null,
   "metadata": {},
   "outputs": [],
   "source": [
    "d = d.new_child({\"art\": \"picasso\"})\n",
    "print(d[\"art\"])"
   ]
  },
  {
   "cell_type": "code",
   "execution_count": null,
   "metadata": {},
   "outputs": [],
   "source": [
    "d.maps"
   ]
  },
  {
   "cell_type": "markdown",
   "metadata": {},
   "source": [
    "# Практика"
   ]
  },
  {
   "cell_type": "markdown",
   "metadata": {},
   "source": [
    "### Задача 1.\n",
    "Вам дан словарь, состоящий из пар слов. Каждое слово является синонимом к парному ему слову. Все слова в словаре различны. Для одного данного слова определите его синоним.\n",
    "\n",
    "Программа получает на вход количество пар синонимов N. Далее следует N строк, каждая строка содержит ровно два слова-синонима. После этого следует одно слово."
   ]
  },
  {
   "cell_type": "code",
   "execution_count": null,
   "metadata": {},
   "outputs": [],
   "source": []
  },
  {
   "cell_type": "markdown",
   "metadata": {},
   "source": [
    "# Задача 2.\n",
    "Дана база данных о продажах некоторого интернет-магазина. Каждая строка входного файла представляет собой запись вида Покупатель товар количество, где Покупатель — имя покупателя (строка без пробелов), товар — название товара (строка без пробелов), количество — количество приобретенных единиц товара. Создайте список всех покупателей, а для каждого покупателя подсчитайте количество приобретенных им единиц каждого вида товаров.\n",
    "\n",
    "Вводятся сведения о покупках в формате:\n",
    "```\n",
    "Ivanov paper 10\n",
    "Petrov pens 5\n",
    "Ivanov marker 3\n",
    "Ivanov paper 7\n",
    "Petrov envelope 20\n",
    "Ivanov envelope 5\n",
    "```\n",
    "\n",
    "Вывод:\n",
    "```\n",
    "Ivanov:\n",
    "envelope 5\n",
    "marker 3\n",
    "paper 17\n",
    "Petrov:\n",
    "envelope 20\n",
    "pens 5\n",
    "```"
   ]
  },
  {
   "cell_type": "code",
   "execution_count": null,
   "metadata": {},
   "outputs": [],
   "source": []
  }
 ],
 "metadata": {
  "kernelspec": {
   "display_name": "Python 3.9.13 64-bit",
   "language": "python",
   "name": "python3"
  },
  "language_info": {
   "codemirror_mode": {
    "name": "ipython",
    "version": 3
   },
   "file_extension": ".py",
   "mimetype": "text/x-python",
   "name": "python",
   "nbconvert_exporter": "python",
   "pygments_lexer": "ipython3",
   "version": "3.10.7"
  },
  "orig_nbformat": 4,
  "vscode": {
   "interpreter": {
    "hash": "b0fa6594d8f4cbf19f97940f81e996739fb7646882a419484c72d19e05852a7e"
   }
  }
 },
 "nbformat": 4,
 "nbformat_minor": 2
}
