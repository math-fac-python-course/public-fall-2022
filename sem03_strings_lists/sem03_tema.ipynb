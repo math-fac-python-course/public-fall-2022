{
 "cells": [
  {
   "cell_type": "markdown",
   "metadata": {},
   "source": [
    "# Семинар 3"
   ]
  },
  {
   "cell_type": "markdown",
   "metadata": {},
   "source": [
    "### Глава 1: списки\n",
    "\n",
    "Если вы когда-то программировали на каком-либо другом языке, скорее всего, в нем точнее есть массивы (или, например, векторы, как в C++).\n",
    "\n",
    "Список в питоне -- это некоторая коллекция, которая хранит в себе последовательность чего-либо, важно, что это \"что-либо\" может быть совершенно разным даже внутри одного списка."
   ]
  },
  {
   "cell_type": "code",
   "execution_count": null,
   "metadata": {},
   "outputs": [],
   "source": [
    "numbers = [1, 5, 3, 8, 2, -1, 0]\n",
    "\n",
    "print(len(numbers))\n",
    "print(numbers)"
   ]
  },
  {
   "cell_type": "code",
   "execution_count": null,
   "metadata": {},
   "outputs": [],
   "source": [
    "whatever = [1, \"abc\", None, -1, 1.2, [1, 2, 3, 4]]  # можно хранить что угодно, нет строгой типизации\n",
    "print(whatever)"
   ]
  },
  {
   "cell_type": "code",
   "execution_count": null,
   "metadata": {},
   "outputs": [],
   "source": [
    "my_list = []  # пустой список, можно также написать my_list = list()\n",
    "\n",
    "my_list.append(5)  # добавим в конец списка\n",
    "my_list.append(4)\n",
    "my_list.append(3)\n",
    "my_list.append(2)\n",
    "my_list.append(1)\n",
    "\n",
    "print(my_list)\n",
    "print(len(my_list))  # так можно получить длину"
   ]
  },
  {
   "cell_type": "code",
   "execution_count": null,
   "metadata": {},
   "outputs": [],
   "source": [
    "print('my_list[0] =', my_list[0])  # первый элемент -- индексация с нуля\n",
    "print('my_list[1] =', my_list[1])  # второй\n",
    "print('my_list[:2] =', my_list[:2])  # срез -- первые три\n",
    "print('my_list[1:3] =', my_list[1:3])  # срез со второго по четвертый\n",
    "print('my_list[-1] =', my_list[-1], my_list[len(my_list) - 1])  # последний элемент, два разных способа\n",
    "print('my_list[-2] =', my_list[-2])  # предпоследний\n",
    "print('my_list[-3:-1] =', my_list[-3:-1])  # а это какие будут?\n",
    "print('my_list[0:5:2] =', my_list[0:5:2])  # можно как и в циклах задать шаг\n",
    "print('my_list[5] =', my_list[5])  # ошибка, такого нет"
   ]
  },
  {
   "cell_type": "code",
   "execution_count": null,
   "metadata": {},
   "outputs": [],
   "source": [
    "# выводить список красиво можно разными способами\n",
    "\n",
    "numbers = [1, 5, 3, 8, 2, -1, 0]\n",
    "\n",
    "print(*numbers)\n",
    "print(*numbers, sep=\".\")\n",
    "\n",
    "for i in range(len(numbers)):\n",
    "    print(numbers[i], end=\" \")\n",
    "print()\n",
    "\n",
    "for elem in numbers:\n",
    "    print(elem, end=\" \")\n",
    "print()  # пустой принт на самом деле выводит специальный символ \\n -- символ перевода строки"
   ]
  },
  {
   "cell_type": "code",
   "execution_count": null,
   "metadata": {},
   "outputs": [],
   "source": [
    "# список изменяемый, можно даже присвоить срезу\n",
    "a = [1, 2, 3]\n",
    "\n",
    "a[0] = 0\n",
    "print(a)\n",
    "\n",
    "a[:2] = [5, 6] \n",
    "print(a)"
   ]
  },
  {
   "cell_type": "code",
   "execution_count": null,
   "metadata": {},
   "outputs": [],
   "source": [
    "# вот так копировать плохо!\n",
    "a = [1, 2, 3]\n",
    "b = a\n",
    "\n",
    "# и вот почему\n",
    "\n",
    "a[0] = 0\n",
    "\n",
    "print(a, id(a))  # ячейки памяти одинаковые\n",
    "print(b, id(b))"
   ]
  },
  {
   "cell_type": "code",
   "execution_count": null,
   "metadata": {},
   "outputs": [],
   "source": [
    "# но копировать можно так\n",
    "\n",
    "a = [1, 2, 3]\n",
    "b = a[:]  # потому что срез создает новый массив\n",
    "\n",
    "a[0] = 0\n",
    "\n",
    "print(a, id(a))  # ячейки памяти разные\n",
    "print(b, id(b))"
   ]
  },
  {
   "cell_type": "code",
   "execution_count": null,
   "metadata": {},
   "outputs": [],
   "source": [
    "# или вот так\n",
    "\n",
    "from copy import deepcopy\n",
    "\n",
    "a = [1, 2, 3]\n",
    "b = deepcopy(a)\n",
    "\n",
    "a[0] = 0\n",
    "\n",
    "print(a, id(a))  # ячейки памяти разные\n",
    "print(b, id(b))"
   ]
  },
  {
   "cell_type": "code",
   "execution_count": null,
   "metadata": {},
   "outputs": [],
   "source": [
    "# или даже так\n",
    "\n",
    "a = [1, 2, 3]\n",
    "b = a.copy()\n",
    "a[0] = 0\n",
    "\n",
    "print(a, id(a))  # ячейки памяти разные\n",
    "print(b, id(b))"
   ]
  },
  {
   "cell_type": "code",
   "execution_count": null,
   "metadata": {},
   "outputs": [],
   "source": [
    "# срезы не спасут, если у вас список в списке, потому что [1, 2, 3] все еще будет лежать в одной и той же памяти\n",
    "\n",
    "a = [[1, 2, 3], [4, 5, 6]]\n",
    "b = a[:]\n",
    "\n",
    "a[0][0] = -1\n",
    "print(a, id(a[0]))\n",
    "print(b, id(a[0]))"
   ]
  },
  {
   "cell_type": "code",
   "execution_count": null,
   "metadata": {},
   "outputs": [],
   "source": [
    "# а вот со срезами так не происходит, прикиньте! подумайте, почему\n",
    "\n",
    "a = [1, 2, 3]\n",
    "b = [5, 6]\n",
    "\n",
    "a[:2] = b\n",
    "b[1] = 7\n",
    "\n",
    "print(a)\n",
    "print(b)"
   ]
  },
  {
   "cell_type": "code",
   "execution_count": null,
   "metadata": {},
   "outputs": [],
   "source": [
    "# это вот тот кейс, когда мы говорили про интернирование в питоне\n",
    "\n",
    "print(id(1))  # <---- тут\n",
    "print(id(1))  # <---- и тут адреса совпадают\n",
    "\n",
    "print(\"-----------\")\n",
    "\n",
    "print(id(2489284))  # <---- а вот тут\n",
    "print(id(2489284))  # <---- и вот тут нет\n",
    "\n",
    "print(\"-----------\")\n",
    "\n",
    "print(id(\"abc\"))  # <---- слишком маленькая строчка, чтобы адреса были разные\n",
    "print(id(\"abc\"))\n",
    "\n",
    "print(\"-----------\")\n",
    "\n",
    "s, t = \"abcdefghijklmnopqrstuvwxyz\", \"abcdefghijklmnopqrstuvwxyz\"\n",
    "print(id(s))  # <---- тоже слишком маленькая строчка\n",
    "print(id(t))\n",
    "\n",
    "print(\"-----------\")\n",
    "\n",
    "s, t = \"a\" * 100, \"a\" * 100 # <---- да и эта тоже\n",
    "print(id(s))\n",
    "print(id(t))\n",
    "\n",
    "print(\"-----------\")\n",
    "\n",
    "s, t = \"a\" * 10000, \"a\" * 10000\n",
    "print(id(s))  # <---- а вот тут уже нет\n",
    "print(id(t))"
   ]
  },
  {
   "cell_type": "code",
   "execution_count": null,
   "metadata": {},
   "outputs": [],
   "source": [
    "# вот так можно вводить списки\n",
    "\n",
    "my_list = list(map(int, input().split()))  # аналогично можно заменить на float, например\n",
    "print(my_list)"
   ]
  },
  {
   "cell_type": "code",
   "execution_count": null,
   "metadata": {},
   "outputs": [],
   "source": [
    "my_list = input().split()  # список строк, разделенных по пробелу\n",
    "print(my_list)"
   ]
  },
  {
   "cell_type": "code",
   "execution_count": null,
   "metadata": {},
   "outputs": [],
   "source": [
    "my_list = list(input())  # а что произойдет тут?\n",
    "print(my_list)"
   ]
  },
  {
   "cell_type": "code",
   "execution_count": null,
   "metadata": {},
   "outputs": [],
   "source": [
    "print(range(1, 10))\n",
    "print(list(range(1, 10)))  # в list можно преобразовать любой генератор, в том числе range\n",
    "# про генераторы позже поговорим, но map -- это как раз тоже пример генератора"
   ]
  },
  {
   "cell_type": "code",
   "execution_count": null,
   "metadata": {},
   "outputs": [],
   "source": [
    "print(list(\"abcdef\"))  # ну и любой объект, коллекцию, по которому можно пройтись, например, for'ом"
   ]
  },
  {
   "cell_type": "markdown",
   "metadata": {},
   "source": [
    "### Глава 2: кортежи\n",
    "\n",
    "Или неизменяемые (иммутабельные) списки"
   ]
  },
  {
   "cell_type": "code",
   "execution_count": null,
   "metadata": {},
   "outputs": [],
   "source": [
    "my_tuple = (1, 2, 3)\n",
    "\n",
    "# можно делать то же самое, что и со списками, только менять нельзя\n",
    "\n",
    "print(my_tuple[0])\n",
    "print(my_tuple[1:3])\n",
    "print(len(my_tuple))\n",
    "my_tuple[0] = -1  # так нельзя"
   ]
  },
  {
   "cell_type": "code",
   "execution_count": null,
   "metadata": {},
   "outputs": [],
   "source": [
    "for elem in my_tuple:\n",
    "    print(elem)"
   ]
  },
  {
   "cell_type": "code",
   "execution_count": null,
   "metadata": {},
   "outputs": [],
   "source": [
    "# обратите внимание, для кортежа из одного элемента запятая важна, это очень частая ошибка\n",
    "print(type((1)))\n",
    "print(type((1,)))"
   ]
  },
  {
   "cell_type": "code",
   "execution_count": null,
   "metadata": {},
   "outputs": [],
   "source": [
    "# у этого подхода есть плюсы, например, вы нигде в коде не выстрелите себе в ногу\n",
    "# а еще кортеж есть меньше места\n",
    "\n",
    "a = [1, 2, 3]\n",
    "b = (1, 2, 3)\n",
    "\n",
    "print(a.__sizeof__())  # почему так? потому что выделяется доп пямять, так называемый резерв\n",
    "print(b.__sizeof__())  # а кортеж занимает почти в 3 (!!!) раза меньше памяти"
   ]
  },
  {
   "cell_type": "code",
   "execution_count": null,
   "metadata": {},
   "outputs": [],
   "source": [
    "# в этом сниппете кода мы смотрим на то, как питон динамически аллоцирует память\n",
    "# на каждую степень двойки (почти) он переаллоциррует память в два раза\n",
    "# это дает амортизированную оценку стоимости одной операции вставки в конец равной константе\n",
    "\n",
    "my_own_list = []\n",
    "print(len(my_own_list), my_own_list.__sizeof__())\n",
    "for i in range(17):\n",
    "    my_own_list.append(i)\n",
    "    print(f\"length = {len(my_own_list)}, size = {my_own_list.__sizeof__()}\")"
   ]
  },
  {
   "cell_type": "code",
   "execution_count": null,
   "metadata": {},
   "outputs": [],
   "source": [
    "# причем количество байт, которые питон выделяет на вставку каждого элемента,\n",
    "# оно константно и равно 8, как можно заметить, вне зависимости от того, что там лежит\n",
    "# почему -- потому что все по ссылкам, в списке лишь ссылки на элементы, а не они сами\n",
    "# это и позволяет хранить в списке вообще что угодно\n",
    "\n",
    "my_own_list = []\n",
    "print(len(my_own_list), my_own_list.__sizeof__())\n",
    "for i in range(17):\n",
    "    my_own_list.append(\"ab\" * 10000)\n",
    "    print(f\"length = {len(my_own_list)}, size = {my_own_list.__sizeof__()}\")"
   ]
  },
  {
   "cell_type": "code",
   "execution_count": null,
   "metadata": {},
   "outputs": [],
   "source": [
    "from random import shuffle\n",
    "\n",
    "my_own_list = [1, 2, 3]\n",
    "\n",
    "my_own_list.extend([4, 5, 6])  # аналогично можно написать my_own_list += [4, 5, 6]\n",
    "print('after extend:', my_own_list)\n",
    "\n",
    "my_own_list.append(7)  # \"константное\" время, амортизированно O(1)\n",
    "print('after append:', my_own_list)\n",
    "\n",
    "del my_own_list[0]  # линейное время, в худшем случае O(n), где n -- размер списка\n",
    "print('after del:', my_own_list)\n",
    "\n",
    "print('index of value 2:', my_own_list.index(2))  # находим элемент в массиве, линейный поиск на O(n)\n",
    "\n",
    "print('popped value:', my_own_list.pop())  # удаление из конца, быстро, за O(1), возвращает удаленное значение\n",
    "print('after pop', my_own_list)\n",
    "\n",
    "my_own_list.insert(0, 1)  # тоже дорого, O(n) времени\n",
    "print('after insert(0, 1):', my_own_list)\n",
    "\n",
    "my_own_list.reverse()  # развернем список!\n",
    "print('after reverse:', my_own_list)\n",
    "\n",
    "my_own_list = my_own_list[::-1]\n",
    "print(my_own_list[::-1])  # или развернем вот так\n",
    "print('after reverse one more time:', my_own_list)\n",
    "\n",
    "shuffle(my_own_list)\n",
    "print('after shuffle:', my_own_list)\n",
    "\n",
    "my_own_list.sort()  # а еще тут есть параметр reverse=True, если надо в обратную сторону\n",
    "# или my_own_list = sorted(my_own_list)\n",
    "print('after sort:', my_own_list)\n",
    "\n",
    "my_own_list.remove(6)\n",
    "print('after remove 6:', my_own_list)\n",
    "\n",
    "my_own_list.clear()  # удаляем все элеметы\n",
    "print('after clear:', my_own_list)\n",
    "\n",
    "my_own_list.remove(6)  # а вот так уже нельзя :(\n",
    "print('after remove 6 when it is not present:', my_own_list)"
   ]
  },
  {
   "cell_type": "markdown",
   "metadata": {},
   "source": [
    "### Глава 3: СТРОЧЕЧКИ"
   ]
  },
  {
   "cell_type": "code",
   "execution_count": null,
   "metadata": {},
   "outputs": [],
   "source": [
    "s = \"somebody once told me\"\n",
    "t = \"GO DOWN MOSES\""
   ]
  },
  {
   "cell_type": "code",
   "execution_count": null,
   "metadata": {},
   "outputs": [],
   "source": [
    "print(s.capitalize())  # оставить все буквы строчные, первую сделать заглавной\n",
    "print(s)  # заметьте, что сама строка не меняется, потому что иммутабельна\n",
    "print(s.upper())  # все заглавные\n",
    "print(t.lower())  # все строчные\n",
    "print(t.capitalize())"
   ]
  },
  {
   "cell_type": "code",
   "execution_count": null,
   "metadata": {},
   "outputs": [],
   "source": [
    "# можно работать с индексами как со списками и кортежами\n",
    "\n",
    "print(s[0])\n",
    "print(s[2:10:2])"
   ]
  },
  {
   "cell_type": "code",
   "execution_count": null,
   "metadata": {},
   "outputs": [],
   "source": [
    "# но при этом строки неизменяемы\n",
    "s[0] = \"a\""
   ]
  },
  {
   "cell_type": "code",
   "execution_count": null,
   "metadata": {},
   "outputs": [],
   "source": [
    "s = s.replace(\"somebody\", \"nobody\")  # заменить все вхождения подстроки на другую\n",
    "print(s)"
   ]
  },
  {
   "cell_type": "code",
   "execution_count": null,
   "metadata": {},
   "outputs": [],
   "source": [
    "s = \"aaaaa\"\n",
    "print(s.replace(\"aa\", \"b\"))  # хм, а тут что будет?"
   ]
  },
  {
   "cell_type": "code",
   "execution_count": null,
   "metadata": {},
   "outputs": [],
   "source": [
    "print(\", \".join([\"bread\", \"milk\", \"cheese\"]))"
   ]
  },
  {
   "cell_type": "code",
   "execution_count": null,
   "metadata": {},
   "outputs": [],
   "source": [
    "print(\", \".join([1, 2, 3]))  # так нельзя, надо приводить к строкам"
   ]
  },
  {
   "cell_type": "code",
   "execution_count": null,
   "metadata": {},
   "outputs": [],
   "source": [
    "numbers = [1, 2, 3]\n",
    "print(\", \".join(map(str, numbers)))"
   ]
  },
  {
   "cell_type": "code",
   "execution_count": null,
   "metadata": {},
   "outputs": [],
   "source": [
    "print(s.count(\"e\"))  # количество вхождений символа\n",
    "print(\"abracadabra\".count(\"ra\"))  # или целой подстроки"
   ]
  },
  {
   "cell_type": "code",
   "execution_count": null,
   "metadata": {},
   "outputs": [],
   "source": [
    "s = \"say what again, i dare you, i double dare you\"\n",
    "print(s.find(\"dare\"))  # индекс первого вхождения, вторым аргументом можно указать, с какого индекса начинать искать"
   ]
  },
  {
   "cell_type": "code",
   "execution_count": null,
   "metadata": {},
   "outputs": [],
   "source": [
    "s = \"say what again, i dare you, i double dare you\"\n",
    "print(s.rfind(\"dare\"))  # индекс последнего вхождения"
   ]
  },
  {
   "cell_type": "code",
   "execution_count": null,
   "metadata": {},
   "outputs": [],
   "source": [
    "print(s.startswith(\"say\"))  # начинается с say\n",
    "print(s.endswith(\"you\"))  # заканчивается на you\n",
    "print(s.startswith(\"cry\"))"
   ]
  },
  {
   "cell_type": "code",
   "execution_count": null,
   "metadata": {},
   "outputs": [],
   "source": [
    "s = \"    hello, honey!   \"\n",
    "\n",
    "print(s.__repr__())  # __repr__ тут нужен, чтобы увидеть скрытые символы\n",
    "print(s.strip().__repr__())  # обрезать с двух сторон все пробельные символы\n",
    "print(s.rstrip().__repr__())  # только справа\n",
    "print(s.lstrip().__repr__())  # только слева"
   ]
  },
  {
   "cell_type": "code",
   "execution_count": null,
   "metadata": {},
   "outputs": [],
   "source": [
    "s = \"hello world\"\n",
    "print(s.split())\n",
    "\n",
    "s = \"hello, world\"\n",
    "print(s.split(\",\"))  # можно делать сплит по любой строке\n",
    "\n",
    "s = \"hello\"\n",
    "print(s.isalpha())  # только буквы\n",
    "\n",
    "s = \"hello!\"\n",
    "print(s.isalpha())\n",
    "\n",
    "s = \"12345\"\n",
    "print(s.isdigit())  # только цифры\n",
    "\n",
    "s = \"abc123\"\n",
    "print(s.isalnum())  # буквы и цифры\n",
    "\n",
    "print(s.islower())  # только нижний регистр (и цифры)\n",
    "\n",
    "print(s.isupper())  # только нижний регистр (и цифры)\n",
    "\n",
    "s = \"   \\n\\t\"\n",
    "print(s.isspace())  # проверка что строка состоит из пробельных символов (в том числе табы и \\n)\n"
   ]
  },
  {
   "cell_type": "code",
   "execution_count": null,
   "metadata": {},
   "outputs": [],
   "source": [
    "s = \"\"\"Brian\n",
    "Top marks for not trying\n",
    "So kind of you to bless us\n",
    "With your effortlessness\n",
    "We're grateful and so strangely comforted.\n",
    "\"\"\"  # строки можно делать мультилайновыми\n",
    "\n",
    "s"
   ]
  },
  {
   "cell_type": "code",
   "execution_count": null,
   "metadata": {},
   "outputs": [],
   "source": [
    "s = \"hello, \" \"world\"  # и неявно их конкатенировать\n",
    "s"
   ]
  },
  {
   "cell_type": "code",
   "execution_count": null,
   "metadata": {},
   "outputs": [],
   "source": [
    "s = (  # зачем? чтобы делать так, если у вас она уже не помещается в экран\n",
    "    \"I can put some string here like this, \"\n",
    "    \"and I don't care about its length.\\n\"\n",
    "    \"Because I know Python\"\n",
    ")\n",
    "print(s)"
   ]
  },
  {
   "cell_type": "markdown",
   "metadata": {},
   "source": [
    "# БОНУС"
   ]
  },
  {
   "cell_type": "code",
   "execution_count": null,
   "metadata": {},
   "outputs": [],
   "source": [
    "s = \"I'm going back to 505\"\n",
    "\n",
    "# можно указать, например, enumerate(s, start=1),\n",
    "# тогда перечисление idx начнется с 1, а не 0\n",
    "for idx, symbol in enumerate(s):\n",
    "    print(f\"Symbol on position {idx} is {symbol}\")"
   ]
  },
  {
   "cell_type": "markdown",
   "metadata": {},
   "source": [
    "# Практика"
   ]
  },
  {
   "cell_type": "markdown",
   "metadata": {},
   "source": [
    "### Задача 1\n",
    "Дана строка, состоящая ровно из двух слов, разделенных пробелом. Переставьте эти слова местами. Результат запишите в строку и выведите получившуюся строку. При решении этой задачи нельзя пользоваться циклами и инструкцией if."
   ]
  },
  {
   "cell_type": "code",
   "execution_count": null,
   "metadata": {},
   "outputs": [],
   "source": []
  },
  {
   "cell_type": "markdown",
   "metadata": {},
   "source": [
    "### Задача 2\n",
    "Дана строка. Замените в этой строке все появления буквы h на букву H, кроме первого и последнего вхождения."
   ]
  },
  {
   "cell_type": "code",
   "execution_count": null,
   "metadata": {},
   "outputs": [],
   "source": []
  },
  {
   "cell_type": "markdown",
   "metadata": {},
   "source": [
    "### Задача 3\n",
    "Дана строка. Найдите в этой строке второе вхождение буквы f, и выведите индекс этого вхождения. Если буква f в данной строке встречается только один раз, выведите число -1, а если не встречается ни разу, выведите число -2. При решении этой задачи нельзя использовать метод count."
   ]
  },
  {
   "cell_type": "code",
   "execution_count": null,
   "metadata": {},
   "outputs": [],
   "source": []
  },
  {
   "cell_type": "markdown",
   "metadata": {},
   "source": [
    "### Задача 4\n",
    "Дан список чисел. Выведите все элементы списка, которые больше предыдущего элемента."
   ]
  },
  {
   "cell_type": "code",
   "execution_count": null,
   "metadata": {},
   "outputs": [],
   "source": []
  },
  {
   "cell_type": "markdown",
   "metadata": {},
   "source": [
    "### Задача 5\n",
    "\n",
    "Выведите все элементы списка с четными индексами (то есть A[0], A[2], A[4], ...)"
   ]
  },
  {
   "cell_type": "code",
   "execution_count": null,
   "metadata": {},
   "outputs": [],
   "source": []
  },
  {
   "cell_type": "markdown",
   "metadata": {},
   "source": [
    "### Задача 6\n",
    "\n",
    "Дан список, упорядоченный по неубыванию элементов в нем. Определите, сколько в нем различных элементов."
   ]
  },
  {
   "cell_type": "code",
   "execution_count": null,
   "metadata": {},
   "outputs": [],
   "source": []
  },
  {
   "cell_type": "markdown",
   "metadata": {},
   "source": []
  }
 ],
 "metadata": {
  "kernelspec": {
   "display_name": "Python 3.9.13 64-bit",
   "language": "python",
   "name": "python3"
  },
  "language_info": {
   "codemirror_mode": {
    "name": "ipython",
    "version": 3
   },
   "file_extension": ".py",
   "mimetype": "text/x-python",
   "name": "python",
   "nbconvert_exporter": "python",
   "pygments_lexer": "ipython3",
   "version": "3.9.13"
  },
  "orig_nbformat": 4,
  "vscode": {
   "interpreter": {
    "hash": "b0fa6594d8f4cbf19f97940f81e996739fb7646882a419484c72d19e05852a7e"
   }
  }
 },
 "nbformat": 4,
 "nbformat_minor": 2
}
