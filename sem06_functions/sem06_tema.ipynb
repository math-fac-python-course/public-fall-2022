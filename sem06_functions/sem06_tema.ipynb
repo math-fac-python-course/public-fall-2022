{
 "cells": [
  {
   "cell_type": "markdown",
   "metadata": {},
   "source": [
    "# Семинар 6: функции и сортировка"
   ]
  },
  {
   "cell_type": "markdown",
   "metadata": {},
   "source": [
    "### Функции\n",
    "\n",
    "Функцией будем считать некоторый обособленный кусок кода, который можно вызвать из любой другой части кода."
   ]
  },
  {
   "cell_type": "code",
   "execution_count": null,
   "metadata": {},
   "outputs": [],
   "source": [
    "def has_negative_number(list_numbers):\n",
    "    for num in list_numbers:\n",
    "        if num < 0:\n",
    "            # ключевое слово return сразу говорит питону выйти из функции и вернуть значение\n",
    "            return True\n",
    "\n",
    "    return False  # вопрос: что вернет функция, если я забуду здесь return False написать?"
   ]
  },
  {
   "cell_type": "code",
   "execution_count": null,
   "metadata": {},
   "outputs": [],
   "source": [
    "from typing import List\n",
    "\n",
    "\n",
    "# тайпинги все еще сохраняют динамическую типизацию,\n",
    "# но позволяют улучшить читаемость кода\n",
    "# чекеры вроде mypy умеют анализировать код и проверять их корректность\n",
    "\n",
    "def has_negative_number(numbers: List[int]) -> bool:\n",
    "    for num in numbers:\n",
    "        if num < 0:\n",
    "            return True\n",
    "\n",
    "    return False"
   ]
  },
  {
   "cell_type": "code",
   "execution_count": null,
   "metadata": {},
   "outputs": [],
   "source": [
    "with open(\"numbers.txt\", \"r\") as fin:\n",
    "    while (line := fin.readline()):\n",
    "        numbers = list(map(int, line.split()))\n",
    "        print(f\"{numbers} -> {has_negative_number(numbers)}\")"
   ]
  },
  {
   "cell_type": "markdown",
   "metadata": {},
   "source": [
    "Функцию можно сделать чуть более удобной для использования не только списком:"
   ]
  },
  {
   "cell_type": "code",
   "execution_count": null,
   "metadata": {},
   "outputs": [],
   "source": [
    "# все аргументы через * типизируются без List\n",
    "# https://peps.python.org/pep-0484/#arbitrary-argument-lists-and-default-argument-values\n",
    "\n",
    "def has_negative_number(*list_numbers: int) -> bool:\n",
    "    for num in list_numbers:\n",
    "        if num < 0:\n",
    "            return True\n",
    "\n",
    "    return False\n",
    "\n",
    "print(has_negative_number(1, 2, 3, 4, -1))  # теперь можно не передавать список"
   ]
  },
  {
   "cell_type": "markdown",
   "metadata": {},
   "source": [
    "Помимо `*args` есть еще и `**kwargs`:"
   ]
  },
  {
   "cell_type": "code",
   "execution_count": null,
   "metadata": {},
   "outputs": [],
   "source": [
    "from typing import Any, Union\n",
    "\n",
    "\n",
    "# на самом деле, в качестве тайпинга для values подошло бы\n",
    "# какое-нибудь самописное comparable, но мы тут не будем с этим заморачиваться\n",
    "# https://stackoverflow.com/questions/37669222/how-can-i-hint-that-a-type-is-comparable-with-typing\n",
    "\n",
    "\n",
    "def max_value(*values: Union[int, str], **params: bool) -> Union[int, str]:\n",
    "    return_idx = params.get(\"return_idx\", False)  # достаем позиционный аргумент\n",
    "\n",
    "    if not values:  # если список пустой, вернем None\n",
    "        return None\n",
    "\n",
    "    max_value = values[0]\n",
    "    max_value_idx = 0\n",
    "    for i, value in enumerate(values):\n",
    "        if value > max_value:\n",
    "            max_value = value\n",
    "            max_value_idx = i\n",
    "\n",
    "    if return_idx:\n",
    "        return max_value_idx\n",
    "    return max_value"
   ]
  },
  {
   "cell_type": "code",
   "execution_count": null,
   "metadata": {},
   "outputs": [],
   "source": [
    "print(\"max value:\", max_value(6, -1, 2, 9, 1))  # сам максимум\n",
    "print(\"max value index:\", max_value(6, -1, 2, 9, 1, return_idx=True)) # индекс максимума"
   ]
  },
  {
   "cell_type": "code",
   "execution_count": null,
   "metadata": {},
   "outputs": [],
   "source": [
    "from typing import Any\n",
    "\n",
    "\n",
    "# на самом деле, в качестве тайпинга для values подошло бы\n",
    "# какое-нибудь самописное comparable, но мы тут не будем с этим заморачиваться\n",
    "# https://stackoverflow.com/questions/37669222/how-can-i-hint-that-a-type-is-comparable-with-typing\n",
    "\n",
    "\n",
    "def max_value(*values: Union[int, str], return_idx=False):\n",
    "    if not values:  # если список пустой, вернем None\n",
    "        return None\n",
    "\n",
    "    max_value = values[0]\n",
    "    max_value_idx = 0\n",
    "    for i, value in enumerate(values):\n",
    "        if value > max_value:\n",
    "            max_value = value\n",
    "            max_value_idx = i\n",
    "\n",
    "    if return_idx:\n",
    "        return max_value_idx\n",
    "    return max_value"
   ]
  },
  {
   "cell_type": "code",
   "execution_count": null,
   "metadata": {},
   "outputs": [],
   "source": [
    "print(\"max value:\", max_value(6, -1, 2, 9, 1))  # сам максимум\n",
    "print(\"max value index:\", max_value(6, -1, 2, 9, 1, return_idx=True)) # индекс максимума"
   ]
  },
  {
   "cell_type": "code",
   "execution_count": null,
   "metadata": {},
   "outputs": [],
   "source": [
    "def my_max(a, b):\n",
    "    if a > b:\n",
    "        return a\n",
    "    return b "
   ]
  },
  {
   "cell_type": "code",
   "execution_count": null,
   "metadata": {},
   "outputs": [],
   "source": [
    "my_max(b=-1, a=1)"
   ]
  },
  {
   "cell_type": "markdown",
   "metadata": {},
   "source": [
    "### Рестрикшены\n",
    "\n",
    "В аргументы функции можно написать пустую `*`. Тогда будет считаться, что все после этой звездочки -- это именованные аргументы и больше позиционные использовать нельзя. Ранее мы могли вызвать функцию вот так:"
   ]
  },
  {
   "cell_type": "code",
   "execution_count": null,
   "metadata": {},
   "outputs": [],
   "source": [
    "def my_max(a, b, print_hello=True, **kwargs):\n",
    "    if print_hello:\n",
    "        print(a, b, **kwargs)\n",
    "\n",
    "    if a > b:\n",
    "        return a\n",
    "    return b \n",
    "\n",
    "\n",
    "my_max(1, 2, False)"
   ]
  },
  {
   "cell_type": "markdown",
   "metadata": {},
   "source": [
    "А если добавить, то уже нельзя:"
   ]
  },
  {
   "cell_type": "code",
   "execution_count": null,
   "metadata": {},
   "outputs": [],
   "source": [
    "def my_max(a, b, *, print_hello=True, **kwargs):\n",
    "    if print_hello:\n",
    "        print(a, b, **kwargs)\n",
    "\n",
    "    if a > b:\n",
    "        return a\n",
    "    return b "
   ]
  },
  {
   "cell_type": "code",
   "execution_count": null,
   "metadata": {},
   "outputs": [],
   "source": [
    "my_max(1, 2, True, sep='.', end='!')  # ошибка"
   ]
  },
  {
   "cell_type": "code",
   "execution_count": null,
   "metadata": {},
   "outputs": [],
   "source": [
    "my_max(1, 2, print_hello=True, sep='.', end='!')  # все ОК"
   ]
  },
  {
   "cell_type": "code",
   "execution_count": null,
   "metadata": {},
   "outputs": [],
   "source": [
    "my_max(a=1, b=2, print_hello=True, sep='.', end='!')  # и так тоже работать будет"
   ]
  },
  {
   "cell_type": "markdown",
   "metadata": {},
   "source": [
    "Можно еще лучше: давайте запретим первым двум аргументам быть именованными в принципе. Это делается через `/`:"
   ]
  },
  {
   "cell_type": "code",
   "execution_count": null,
   "metadata": {},
   "outputs": [],
   "source": [
    "def my_max(a, b, /, c, *, print_hello=True, **kwargs):\n",
    "    if print_hello:\n",
    "        print(a, b, c, **kwargs)\n",
    "\n",
    "    if a > b:\n",
    "        return a\n",
    "    return b "
   ]
  },
  {
   "cell_type": "code",
   "execution_count": null,
   "metadata": {},
   "outputs": [],
   "source": [
    "my_max(a=1, b=2, c=3, print_hello=True, sep='.', end='!')  # ошибка"
   ]
  },
  {
   "cell_type": "code",
   "execution_count": null,
   "metadata": {},
   "outputs": [],
   "source": [
    "my_max(1, 2, 3, print_hello=True, sep='.', end='!')  # все работает"
   ]
  },
  {
   "cell_type": "code",
   "execution_count": null,
   "metadata": {},
   "outputs": [],
   "source": [
    "my_max(1, 2, c=3, print_hello=True, sep='.', end='!')  # и так тоже работает"
   ]
  },
  {
   "cell_type": "markdown",
   "metadata": {},
   "source": [
    "### Области видимости\n",
    "\n",
    "По умолчанию, все переменные в питоне, которые объявлены внутри функции, локальные. Вот парочка игрушечных примеров"
   ]
  },
  {
   "cell_type": "code",
   "execution_count": null,
   "metadata": {},
   "outputs": [],
   "source": [
    "def f(x):\n",
    "    square_x = x ** 2\n",
    "    print(square_x)\n",
    "\n",
    "f(10)\n",
    "\n",
    "print(square_x)  # ну конечно, вам скорее всего даже редактор подчеркнет, что так низя"
   ]
  },
  {
   "cell_type": "code",
   "execution_count": null,
   "metadata": {},
   "outputs": [],
   "source": [
    "VALUE = 10\n",
    "\n",
    "def f():\n",
    "    print(VALUE ** 2)  # но читать переменные из глобальной области можно\n",
    "\n",
    "f()"
   ]
  },
  {
   "cell_type": "code",
   "execution_count": null,
   "metadata": {},
   "outputs": [],
   "source": [
    "VALUE = 10\n",
    "\n",
    "def f():\n",
    "    VALUE += 1  # но примитивы менять низя (вы зачем вообще это делать хотите???)\n",
    "\n",
    "f()"
   ]
  },
  {
   "cell_type": "code",
   "execution_count": null,
   "metadata": {},
   "outputs": [],
   "source": [
    "VALUE = 10\n",
    "\n",
    "def f():\n",
    "    global VALUE  # глобал -- это очень и очень плохо\n",
    "    # иногда полезно делать global для каких-то совсем важных штук, но это редкость\n",
    "    VALUE += 1  # но если очень хочется, то все-таки можно\n",
    "\n",
    "f()\n",
    "\n",
    "print(VALUE)"
   ]
  },
  {
   "cell_type": "code",
   "execution_count": null,
   "metadata": {},
   "outputs": [],
   "source": [
    "credentials = None\n",
    "\n",
    "def create_user():\n",
    "    global credentials  # изначально None и поэтому просто так не обратимся\n",
    "\n",
    "    credentials = {\n",
    "        \"login\": \"destroyer_2007\",\n",
    "        \"password\": \"zavtra_v_shkolu((((\",\n",
    "    }\n",
    "\n",
    "print(credentials)\n",
    "\n",
    "create_user()\n",
    "\n",
    "print(credentials)\n"
   ]
  },
  {
   "cell_type": "code",
   "execution_count": null,
   "metadata": {},
   "outputs": [],
   "source": [
    "a = [1, 2, 3]  # a -----> [1, 2, 3, 4]\n",
    "\n",
    "def f():\n",
    "    a.append(4)  # но вы же не думали, что все так просто... подумайте, почему так происходит\n",
    "\n",
    "f()\n",
    "\n",
    "print(a)"
   ]
  },
  {
   "cell_type": "code",
   "execution_count": null,
   "metadata": {},
   "outputs": [],
   "source": [
    "def f(a: list):  # равно так же как и поменяет список передача списка в функцию (ссылки же)\n",
    "    a.append(4)\n",
    "\n",
    "a = [1, 2, 3]\n",
    "\n",
    "f(a)\n",
    "\n",
    "print(a)"
   ]
  },
  {
   "cell_type": "markdown",
   "metadata": {},
   "source": [
    "### Лямбды\n",
    "\n",
    "Анонимные однострочные функции"
   ]
  },
  {
   "cell_type": "code",
   "execution_count": null,
   "metadata": {},
   "outputs": [],
   "source": [
    "# вообще, присваивать лямбды переменным плохой тон\n",
    "\n",
    "is_negative = lambda x: x < 0\n",
    "\n",
    "is_negative(-1)"
   ]
  },
  {
   "cell_type": "code",
   "execution_count": null,
   "metadata": {},
   "outputs": [],
   "source": [
    "next_value = lambda n: n + 1\n",
    "\n",
    "print(next_value(1))"
   ]
  },
  {
   "cell_type": "code",
   "execution_count": null,
   "metadata": {},
   "outputs": [],
   "source": [
    "(lambda *args: sum(args) / len(args))(5, 8, 7, 9)"
   ]
  },
  {
   "cell_type": "code",
   "execution_count": null,
   "metadata": {},
   "outputs": [],
   "source": [
    "(lambda x, y: x + y)(5, 8)"
   ]
  },
  {
   "cell_type": "code",
   "execution_count": null,
   "metadata": {},
   "outputs": [],
   "source": [
    "def square(x: int) -> int:\n",
    "    return x ** 2\n",
    "\n",
    "\n",
    "values = [1, 2, 3, 4, 5, 6]\n",
    "\n",
    "print(list(map(square, values)))"
   ]
  },
  {
   "cell_type": "code",
   "execution_count": null,
   "metadata": {},
   "outputs": [],
   "source": [
    "values = [1, 2, 3, 4, 5, 6]\n",
    "\n",
    "print(list(map(lambda x: x ** 2, values)))"
   ]
  },
  {
   "cell_type": "markdown",
   "metadata": {},
   "source": [
    "### Сортировка\n",
    "\n",
    "Мы уже говорили про сортировку списков, но не говорили, что ей можно задать кастомный ключ сравнения через функции"
   ]
  },
  {
   "cell_type": "code",
   "execution_count": null,
   "metadata": {},
   "outputs": [],
   "source": [
    "values = [\"abcd\", \"aab\", \"bda\", \"0xabadbabe\", \"0xdeadbeef\"]\n",
    "\n",
    "sorted(values)  # все то же самое далее можно делать и с values.sort()"
   ]
  },
  {
   "cell_type": "code",
   "execution_count": null,
   "metadata": {},
   "outputs": [],
   "source": [
    "values = [\"abcd\", \"aab\", \"bda\", \"0xabadbabe\", \"0xdeadbeef\"]\n",
    "\n",
    "sorted(values, key=lambda s: len(s))  # все то же самое далее можно делать и с values.sort()"
   ]
  },
  {
   "cell_type": "code",
   "execution_count": null,
   "metadata": {},
   "outputs": [],
   "source": [
    "values = [\"abcd\", \"aab\", \"bda\", \"0xabadbabe\", \"0xdeadbeef\"]\n",
    "\n",
    "sorted(values, key=len)  # все то же самое далее можно делать и с values.sort()"
   ]
  },
  {
   "cell_type": "markdown",
   "metadata": {},
   "source": [
    "А как нам сравнивать по нескольким значениям сразу? Например, есть числа, хотим отсортировать их по возрастанию длин, но при равенстве -- по убыванию самих чисел"
   ]
  },
  {
   "cell_type": "code",
   "execution_count": null,
   "metadata": {},
   "outputs": [],
   "source": [
    "values = [7876510, 678, 456789, 789, 123456]\n",
    "\n",
    "sorted(values, key=lambda num: (len(str(num)), -num))  # кортежи сравниваются поэлементно, поэтому это так и работает"
   ]
  },
  {
   "cell_type": "markdown",
   "metadata": {},
   "source": [
    "# Практика\n",
    "\n",
    "### Задача 1\n",
    "Дано натуральное число $n > 1$. Выведите его наименьший делитель, отличный от 1. Решение оформите в виде функции `min_divisor(n)`. Алгоритм должен иметь сложность $O(\\sqrt n)$. Указание. Если у числа $n$ нет делителя не превосходящего $\\sqrt n$, то число $n$ — простое и ответом будет само число $n$."
   ]
  },
  {
   "cell_type": "code",
   "execution_count": null,
   "metadata": {},
   "outputs": [],
   "source": []
  },
  {
   "cell_type": "code",
   "execution_count": null,
   "metadata": {},
   "outputs": [],
   "source": []
  },
  {
   "cell_type": "markdown",
   "metadata": {},
   "source": [
    "### Задача 2\n",
    "\n",
    "Дано действительное положительное число $a$ и целоe число $n$. Вычислите $a^n$. Решение оформите в виде функции `power(a, n)`. Стандартной функцией возведения в степерь пользоваться нельзя."
   ]
  },
  {
   "cell_type": "code",
   "execution_count": null,
   "metadata": {},
   "outputs": [],
   "source": []
  },
  {
   "cell_type": "code",
   "execution_count": null,
   "metadata": {},
   "outputs": [],
   "source": []
  },
  {
   "cell_type": "markdown",
   "metadata": {},
   "source": [
    "### Задача 3\n",
    "Даны две точки $(x_1, y_1)$ и $(x_2, y_2)$ с целочисленными координатами. Напишите функцию `in_one_quarter`, принимающие на себя две точки и возвращающие, лежат ли две точки в одних и тех же координатных четвертях."
   ]
  },
  {
   "cell_type": "code",
   "execution_count": null,
   "metadata": {},
   "outputs": [],
   "source": [
    "from typing import Tuple\n",
    "\n",
    "\n",
    "def is_one_quarter(one_point: Tuple[int, int], another_point: Tuple[int, int]) -> bool:\n",
    "    ..."
   ]
  },
  {
   "cell_type": "markdown",
   "metadata": {},
   "source": [
    "### Задача 4\n",
    "Известно, что фамилии всех участников олимпиады — различны. Сохраните в массивах список всех участников и выведите его, отсортировав по фамилии в лексикографическом порядке.\n",
    "\n",
    "При выводе указываете фамилию, имя участника и его балл.\n",
    "\n",
    "**Ввод:**\n",
    "```\n",
    "Иванов Сергей 14 56\n",
    "Сергеев Петр 23 74\n",
    "Петров Василий 3 99\n",
    "Васильев Андрей 3 56\n",
    "Андреев Роман 14 75\n",
    "Романов Иван 27 68\n",
    "```\n",
    "\n",
    "**Вывод:**\n",
    "```\n",
    "Андреев Роман 75\n",
    "Васильев Андрей 56\n",
    "Иванов Сергей 56\n",
    "Петров Василий 99\n",
    "Романов Иван 68\n",
    "Сергеев Петр 74\n",
    "```\n",
    "\n"
   ]
  },
  {
   "cell_type": "code",
   "execution_count": null,
   "metadata": {},
   "outputs": [],
   "source": [
    "fin = open(\"input.txt\", \"r\")\n",
    "\n",
    "participants = fin.readlines()\n",
    "\n",
    "# YOUR CODE HERE\n",
    "\n",
    "fin.close()"
   ]
  },
  {
   "cell_type": "code",
   "execution_count": null,
   "metadata": {},
   "outputs": [],
   "source": []
  }
 ],
 "metadata": {
  "kernelspec": {
   "display_name": "Python 3.9.13 64-bit",
   "language": "python",
   "name": "python3"
  },
  "language_info": {
   "codemirror_mode": {
    "name": "ipython",
    "version": 3
   },
   "file_extension": ".py",
   "mimetype": "text/x-python",
   "name": "python",
   "nbconvert_exporter": "python",
   "pygments_lexer": "ipython3",
   "version": "3.9.13"
  },
  "orig_nbformat": 4,
  "vscode": {
   "interpreter": {
    "hash": "b0fa6594d8f4cbf19f97940f81e996739fb7646882a419484c72d19e05852a7e"
   }
  }
 },
 "nbformat": 4,
 "nbformat_minor": 2
}
