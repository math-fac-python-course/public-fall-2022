{
 "cells": [
  {
   "cell_type": "markdown",
   "metadata": {},
   "source": [
    "# Семинар 6: функции и сортировка"
   ]
  },
  {
   "cell_type": "markdown",
   "metadata": {},
   "source": [
    "### Функции\n",
    "\n",
    "Функцией будем считать некоторый обособленный кусок кода, который можно вызвать из любой другой части кода."
   ]
  },
  {
   "cell_type": "code",
   "execution_count": 1,
   "metadata": {},
   "outputs": [],
   "source": [
    "def has_negative_number(list_numbers):\n",
    "    for num in list_numbers:\n",
    "        if num < 0:\n",
    "            # ключевое слово return сразу говорит питону выйти из функции и вернуть значение\n",
    "            return True\n",
    "\n",
    "    return False  # вопрос: что вернет функция, если я забуду здесь return False написать?"
   ]
  },
  {
   "cell_type": "code",
   "execution_count": 16,
   "metadata": {},
   "outputs": [],
   "source": [
    "from typing import List\n",
    "\n",
    "\n",
    "# тайпинги все еще сохраняют динамическую типизацию,\n",
    "# но позволяют улучшить читаемость кода\n",
    "# чекеры вроде mypy умеют анализировать код и проверять их корректность\n",
    "\n",
    "def has_negative_number(list_numbers: List[int]) -> bool:\n",
    "    for num in list_numbers:\n",
    "        if num < 0:\n",
    "            return True\n",
    "\n",
    "    return False"
   ]
  },
  {
   "cell_type": "code",
   "execution_count": 7,
   "metadata": {},
   "outputs": [
    {
     "name": "stdout",
     "output_type": "stream",
     "text": [
      "[1, 2, 3, 4, 5] -> False\n",
      "[5, 9] -> False\n",
      "[2, -1, 5, 4, 2] -> True\n",
      "[7, 8, 0, -5] -> True\n"
     ]
    }
   ],
   "source": [
    "with open(\"numbers.txt\", \"r\") as fin:\n",
    "    while (line := fin.readline()):\n",
    "        numbers = list(map(int, line.split()))\n",
    "        print(f\"{numbers} -> {has_negative_number(numbers)}\")"
   ]
  },
  {
   "cell_type": "markdown",
   "metadata": {},
   "source": [
    "Функцию можно сделать чуть более удобной для использования не только списком:"
   ]
  },
  {
   "cell_type": "code",
   "execution_count": 8,
   "metadata": {},
   "outputs": [
    {
     "name": "stdout",
     "output_type": "stream",
     "text": [
      "True\n"
     ]
    }
   ],
   "source": [
    "# все аргументы через * типизируются без List\n",
    "# https://peps.python.org/pep-0484/#arbitrary-argument-lists-and-default-argument-values\n",
    "\n",
    "def has_negative_number(*list_numbers: int) -> bool:\n",
    "    for num in list_numbers:\n",
    "        if num < 0:\n",
    "            return True\n",
    "\n",
    "    return False\n",
    "\n",
    "print(has_negative_number(1, 2, 3, 4, -1))  # теперь можно не передавать список"
   ]
  },
  {
   "cell_type": "markdown",
   "metadata": {},
   "source": [
    "Помимо `*args` есть еще и `**kwargs`:"
   ]
  },
  {
   "cell_type": "code",
   "execution_count": 11,
   "metadata": {},
   "outputs": [],
   "source": [
    "from typing import Any\n",
    "\n",
    "\n",
    "# на самом деле, в качестве тайпинга для values подошло бы\n",
    "# какое-нибудь самописное comparable, но мы тут не будем с этим заморачиваться\n",
    "# https://stackoverflow.com/questions/37669222/how-can-i-hint-that-a-type-is-comparable-with-typing\n",
    "\n",
    "\n",
    "def max_value(*values: Any, **params: bool):\n",
    "    return_idx = params.get(\"return_idx\", False)  # достаем позиционный аргумент\n",
    "\n",
    "    if not values:  # если список пустой, вернем None\n",
    "        return None\n",
    "\n",
    "    max_value = values[0]\n",
    "    max_value_idx = 0\n",
    "    for i, value in enumerate(values):\n",
    "        if value > max_value:\n",
    "            max_value = value\n",
    "            max_value_idx = i\n",
    "\n",
    "    if return_idx:\n",
    "        return max_value_idx\n",
    "    return max_value"
   ]
  },
  {
   "cell_type": "code",
   "execution_count": 15,
   "metadata": {},
   "outputs": [
    {
     "name": "stdout",
     "output_type": "stream",
     "text": [
      "max value: 9\n",
      "max value index: 3\n"
     ]
    }
   ],
   "source": [
    "print(\"max value:\", max_value(6, -1, 2, 9, 1))  # сам максимум\n",
    "print(\"max value index:\", max_value(6, -1, 2, 9, 1, return_idx=True)) # индекс максимума"
   ]
  },
  {
   "cell_type": "markdown",
   "metadata": {},
   "source": [
    "### Области видимости\n",
    "\n",
    "По умолчанию, все переменные в питоне, которые объявлены внутри функции, локальные. Вот парочка игрушечных примеров"
   ]
  },
  {
   "cell_type": "code",
   "execution_count": 31,
   "metadata": {},
   "outputs": [
    {
     "ename": "NameError",
     "evalue": "name 'square_x' is not defined",
     "output_type": "error",
     "traceback": [
      "\u001b[0;31m---------------------------------------------------------------------------\u001b[0m",
      "\u001b[0;31mNameError\u001b[0m                                 Traceback (most recent call last)",
      "\u001b[1;32m/Users/streltsov-ad/public-fall-2022/sem06_functions/sem06_tema.ipynb Cell 12\u001b[0m in \u001b[0;36m<cell line: 6>\u001b[0;34m()\u001b[0m\n\u001b[1;32m      <a href='vscode-notebook-cell:/Users/streltsov-ad/public-fall-2022/sem06_functions/sem06_tema.ipynb#X51sZmlsZQ%3D%3D?line=1'>2</a>\u001b[0m     square_x \u001b[39m=\u001b[39m x \u001b[39m*\u001b[39m\u001b[39m*\u001b[39m \u001b[39m2\u001b[39m\n\u001b[1;32m      <a href='vscode-notebook-cell:/Users/streltsov-ad/public-fall-2022/sem06_functions/sem06_tema.ipynb#X51sZmlsZQ%3D%3D?line=3'>4</a>\u001b[0m f(\u001b[39m10\u001b[39m)\n\u001b[0;32m----> <a href='vscode-notebook-cell:/Users/streltsov-ad/public-fall-2022/sem06_functions/sem06_tema.ipynb#X51sZmlsZQ%3D%3D?line=5'>6</a>\u001b[0m \u001b[39mprint\u001b[39m(square_x)\n",
      "\u001b[0;31mNameError\u001b[0m: name 'square_x' is not defined"
     ]
    }
   ],
   "source": [
    "def f(x):\n",
    "    square_x = x ** 2\n",
    "\n",
    "f(10)\n",
    "\n",
    "print(square_x)  # ну конечно, вам скорее всего даже редактор подчеркнет, что так низя"
   ]
  },
  {
   "cell_type": "code",
   "execution_count": 32,
   "metadata": {},
   "outputs": [
    {
     "name": "stdout",
     "output_type": "stream",
     "text": [
      "100\n"
     ]
    }
   ],
   "source": [
    "VALUE = 10\n",
    "\n",
    "def f():\n",
    "    print(VALUE ** 2)  # но читать переменные из глобальной области можно\n",
    "\n",
    "f()"
   ]
  },
  {
   "cell_type": "code",
   "execution_count": 33,
   "metadata": {},
   "outputs": [
    {
     "ename": "UnboundLocalError",
     "evalue": "local variable 'CONSTANT_VALUE' referenced before assignment",
     "output_type": "error",
     "traceback": [
      "\u001b[0;31m---------------------------------------------------------------------------\u001b[0m",
      "\u001b[0;31mUnboundLocalError\u001b[0m                         Traceback (most recent call last)",
      "\u001b[1;32m/Users/streltsov-ad/public-fall-2022/sem06_functions/sem06_tema.ipynb Cell 14\u001b[0m in \u001b[0;36m<cell line: 6>\u001b[0;34m()\u001b[0m\n\u001b[1;32m      <a href='vscode-notebook-cell:/Users/streltsov-ad/public-fall-2022/sem06_functions/sem06_tema.ipynb#X54sZmlsZQ%3D%3D?line=2'>3</a>\u001b[0m \u001b[39mdef\u001b[39;00m \u001b[39mf\u001b[39m():\n\u001b[1;32m      <a href='vscode-notebook-cell:/Users/streltsov-ad/public-fall-2022/sem06_functions/sem06_tema.ipynb#X54sZmlsZQ%3D%3D?line=3'>4</a>\u001b[0m     CONSTANT_VALUE \u001b[39m+\u001b[39m\u001b[39m=\u001b[39m \u001b[39m1\u001b[39m  \u001b[39m# но менять низя (вы зачем вообще это делать хотите???)\u001b[39;00m\n\u001b[0;32m----> <a href='vscode-notebook-cell:/Users/streltsov-ad/public-fall-2022/sem06_functions/sem06_tema.ipynb#X54sZmlsZQ%3D%3D?line=5'>6</a>\u001b[0m f()\n",
      "\u001b[1;32m/Users/streltsov-ad/public-fall-2022/sem06_functions/sem06_tema.ipynb Cell 14\u001b[0m in \u001b[0;36mf\u001b[0;34m()\u001b[0m\n\u001b[1;32m      <a href='vscode-notebook-cell:/Users/streltsov-ad/public-fall-2022/sem06_functions/sem06_tema.ipynb#X54sZmlsZQ%3D%3D?line=2'>3</a>\u001b[0m \u001b[39mdef\u001b[39;00m \u001b[39mf\u001b[39m():\n\u001b[0;32m----> <a href='vscode-notebook-cell:/Users/streltsov-ad/public-fall-2022/sem06_functions/sem06_tema.ipynb#X54sZmlsZQ%3D%3D?line=3'>4</a>\u001b[0m     CONSTANT_VALUE \u001b[39m+\u001b[39m\u001b[39m=\u001b[39m \u001b[39m1\u001b[39m\n",
      "\u001b[0;31mUnboundLocalError\u001b[0m: local variable 'CONSTANT_VALUE' referenced before assignment"
     ]
    }
   ],
   "source": [
    "VALUE = 10\n",
    "\n",
    "def f():\n",
    "    VALUE += 1  # но примитивы менять низя (вы зачем вообще это делать хотите???)\n",
    "\n",
    "f()"
   ]
  },
  {
   "cell_type": "code",
   "execution_count": null,
   "metadata": {},
   "outputs": [],
   "source": [
    "VALUE = 10\n",
    "\n",
    "def f():\n",
    "    global VALUE  # глобал -- это очень и очень плохо\n",
    "    # иногда полезно делать global для каких-то совсем важных штук, но это редкость\n",
    "    VALUE += 1  # но если очень хочется, то все-таки можно\n",
    "\n",
    "f()"
   ]
  },
  {
   "cell_type": "code",
   "execution_count": 38,
   "metadata": {},
   "outputs": [
    {
     "name": "stdout",
     "output_type": "stream",
     "text": [
      "None\n",
      "{'login': 'destroyer_2007', 'password': 'zavtra_v_shkolu(((('}\n"
     ]
    }
   ],
   "source": [
    "credentials = None\n",
    "\n",
    "def create_user():\n",
    "    global credentials  # изначально None и поэтому просто так не обратимся\n",
    "\n",
    "    credentials = {\n",
    "        \"login\": \"destroyer_2007\",\n",
    "        \"password\": \"zavtra_v_shkolu((((\",\n",
    "    }\n",
    "\n",
    "print(credentials)\n",
    "\n",
    "create_user()\n",
    "\n",
    "print(credentials)\n"
   ]
  },
  {
   "cell_type": "code",
   "execution_count": 36,
   "metadata": {},
   "outputs": [
    {
     "name": "stdout",
     "output_type": "stream",
     "text": [
      "[1, 2, 3, 4]\n"
     ]
    }
   ],
   "source": [
    "a = [1, 2, 3]\n",
    "\n",
    "def f():\n",
    "    a.append(4)  # но вы же не думали, что все так просто... подумайте, почему так происходит\n",
    "\n",
    "f()\n",
    "\n",
    "print(a)"
   ]
  },
  {
   "cell_type": "code",
   "execution_count": 37,
   "metadata": {},
   "outputs": [
    {
     "name": "stdout",
     "output_type": "stream",
     "text": [
      "[1, 2, 3, 4]\n"
     ]
    }
   ],
   "source": [
    "def f(a: list):  # равно так же как и поменяет список передача списка в функцию (ссылки же)\n",
    "    a.append(4)\n",
    "\n",
    "a = [1, 2, 3]\n",
    "\n",
    "f(a)\n",
    "\n",
    "print(a)"
   ]
  },
  {
   "cell_type": "markdown",
   "metadata": {},
   "source": [
    "### Лямбды\n",
    "\n",
    "Анонимные однострочные функции"
   ]
  },
  {
   "cell_type": "code",
   "execution_count": 19,
   "metadata": {},
   "outputs": [
    {
     "data": {
      "text/plain": [
       "True"
      ]
     },
     "execution_count": 19,
     "metadata": {},
     "output_type": "execute_result"
    }
   ],
   "source": [
    "# вообще, присваивать лямбды переменным плохой тон\n",
    "\n",
    "is_negative = lambda x: x < 0\n",
    "\n",
    "is_negative(-1)"
   ]
  },
  {
   "cell_type": "code",
   "execution_count": 21,
   "metadata": {},
   "outputs": [
    {
     "name": "stdout",
     "output_type": "stream",
     "text": [
      "[1, 4, 9, 16, 25, 36]\n"
     ]
    }
   ],
   "source": [
    "def square(x: int):\n",
    "    return x ** 2\n",
    "\n",
    "\n",
    "values = [1, 2, 3, 4, 5, 6]\n",
    "\n",
    "print(list(map(square, values)))"
   ]
  },
  {
   "cell_type": "code",
   "execution_count": 23,
   "metadata": {},
   "outputs": [
    {
     "name": "stdout",
     "output_type": "stream",
     "text": [
      "[1, 4, 9, 16, 25, 36]\n"
     ]
    }
   ],
   "source": [
    "values = [1, 2, 3, 4, 5, 6]\n",
    "\n",
    "print(list(map(lambda x: x ** 2, values)))"
   ]
  },
  {
   "cell_type": "markdown",
   "metadata": {},
   "source": [
    "### Сортировка\n",
    "\n",
    "Мы уже говорили про сортировку списков, но не говорили, что ей можно задать кастомный ключ сравнения через функции"
   ]
  },
  {
   "cell_type": "code",
   "execution_count": 25,
   "metadata": {},
   "outputs": [
    {
     "data": {
      "text/plain": [
       "['0xabadbabe', '0xdeadbeef', 'aab', 'abcd', 'bda']"
      ]
     },
     "execution_count": 25,
     "metadata": {},
     "output_type": "execute_result"
    }
   ],
   "source": [
    "values = [\"abcd\", \"aab\", \"bda\", \"0xabadbabe\", \"0xdeadbeef\"]\n",
    "\n",
    "sorted(values)  # все то же самое далее можно делать и с values.sort()"
   ]
  },
  {
   "cell_type": "code",
   "execution_count": 26,
   "metadata": {},
   "outputs": [
    {
     "data": {
      "text/plain": [
       "['aab', 'bda', 'abcd', '0xabadbabe', '0xdeadbeef']"
      ]
     },
     "execution_count": 26,
     "metadata": {},
     "output_type": "execute_result"
    }
   ],
   "source": [
    "values = [\"abcd\", \"aab\", \"bda\", \"0xabadbabe\", \"0xdeadbeef\"]\n",
    "\n",
    "sorted(values, key=lambda s: len(s))  # все то же самое далее можно делать и с values.sort()"
   ]
  },
  {
   "cell_type": "markdown",
   "metadata": {},
   "source": [
    "А как нам сравнивать по нескольким значениям сразу? Например, есть числа, хотим отсортировать их по возрастанию длин, но при равенстве -- по убыванию самих чисел"
   ]
  },
  {
   "cell_type": "code",
   "execution_count": 29,
   "metadata": {},
   "outputs": [
    {
     "data": {
      "text/plain": [
       "[789, 678, 456789, 123456, 7876510]"
      ]
     },
     "execution_count": 29,
     "metadata": {},
     "output_type": "execute_result"
    }
   ],
   "source": [
    "values = [7876510, 678, 456789, 789, 123456]\n",
    "\n",
    "sorted(values, key=lambda num: (len(str(num)), -num))  # кортежи сравниваются поэлементно, поэтому это так и работает"
   ]
  },
  {
   "cell_type": "markdown",
   "metadata": {},
   "source": [
    "# Практика\n",
    "\n",
    "### Задача 1\n",
    "Дано натуральное число $n > 1$. Выведите его наименьший делитель, отличный от 1. Решение оформите в виде функции `min_divisor(n)`. Алгоритм должен иметь сложность $O(\\sqrt n)$. Указание. Если у числа $n$ нет делителя не превосходящего $\\sqrt n$, то число $n$ — простое и ответом будет само число $n$."
   ]
  },
  {
   "cell_type": "code",
   "execution_count": null,
   "metadata": {},
   "outputs": [],
   "source": [
    "def min_divisor(n: int) -> int:\n",
    "    ..."
   ]
  },
  {
   "cell_type": "markdown",
   "metadata": {},
   "source": [
    "### Задача 2\n",
    "\n",
    "Дано действительное положительное число $a$ и целоe число $n$. Вычислите $a^n$. Решение оформите в виде функции `power(a, n)`. Стандартной функцией возведения в степерь пользоваться нельзя."
   ]
  },
  {
   "cell_type": "code",
   "execution_count": null,
   "metadata": {},
   "outputs": [],
   "source": [
    "from typing import Union\n",
    "\n",
    "\n",
    "def power(a: Union[float, int], n: int) -> Union[float, int]:\n",
    "    ..."
   ]
  },
  {
   "cell_type": "markdown",
   "metadata": {},
   "source": [
    "### Задача 3\n",
    "Даны две точки $(x_1, y_1)$ и $(x_2, y_2)$ с целочисленными координатами. Напишите функцию `in_one_quarter`, принимающие на себя две точки и возвращающие, лежат ли две точки в одних и тех же координатных четвертях."
   ]
  },
  {
   "cell_type": "code",
   "execution_count": null,
   "metadata": {},
   "outputs": [],
   "source": [
    "from typing import Tuple\n",
    "\n",
    "\n",
    "def is_one_quarter(one_point: Tuple[int, int], another_point: Tuple[int, int]) -> bool:\n",
    "    ..."
   ]
  },
  {
   "cell_type": "markdown",
   "metadata": {},
   "source": [
    "### Задача 4\n",
    "Известно, что фамилии всех участников олимпиады — различны. Сохраните в массивах список всех участников и выведите его, отсортировав по фамилии в лексикографическом порядке.\n",
    "\n",
    "При выводе указываете фамилию, имя участника и его балл.\n",
    "\n",
    "**Ввод:**\n",
    "```\n",
    "Иванов Сергей 14 56\n",
    "Сергеев Петр 23 74\n",
    "Петров Василий 3 99\n",
    "Васильев Андрей 3 56\n",
    "Андреев Роман 14 75\n",
    "Романов Иван 27 68\n",
    "```\n",
    "\n",
    "**Вывод:**\n",
    "```\n",
    "Андреев Роман 75\n",
    "Васильев Андрей 56\n",
    "Иванов Сергей 56\n",
    "Петров Василий 99\n",
    "Романов Иван 68\n",
    "Сергеев Петр 74\n",
    "```\n",
    "\n"
   ]
  },
  {
   "cell_type": "code",
   "execution_count": null,
   "metadata": {},
   "outputs": [],
   "source": [
    "fin = open(\"input.txt\", \"r\")\n",
    "\n",
    "participants = fin.readlines()\n",
    "\n",
    "# YOUR CODE HERE\n",
    "\n",
    "fin.close()"
   ]
  },
  {
   "cell_type": "code",
   "execution_count": null,
   "metadata": {},
   "outputs": [],
   "source": []
  }
 ],
 "metadata": {
  "kernelspec": {
   "display_name": "Python 3.9.13 64-bit",
   "language": "python",
   "name": "python3"
  },
  "language_info": {
   "codemirror_mode": {
    "name": "ipython",
    "version": 3
   },
   "file_extension": ".py",
   "mimetype": "text/x-python",
   "name": "python",
   "nbconvert_exporter": "python",
   "pygments_lexer": "ipython3",
   "version": "3.9.13"
  },
  "orig_nbformat": 4,
  "vscode": {
   "interpreter": {
    "hash": "b0fa6594d8f4cbf19f97940f81e996739fb7646882a419484c72d19e05852a7e"
   }
  }
 },
 "nbformat": 4,
 "nbformat_minor": 2
}
