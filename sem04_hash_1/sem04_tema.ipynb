{
 "cells": [
  {
   "cell_type": "markdown",
   "metadata": {},
   "source": [
    "# Семинар 4: хэш-таблицы и множества"
   ]
  },
  {
   "cell_type": "markdown",
   "metadata": {},
   "source": [
    "### Глава 0: дэк\n",
    "Очень удобная структура данных, позволяющая добавлять элементы как в конец, так и в начало. На ее основе можно сделать очередь или двустороннюю очередь.\n",
    "Все добавления и удаления из конца происходят за константное количество операций, то есть за $O(1)$. Это быстро и очень удобно. Удаление из любой другой части **не гарантируют** такую быстроту. Под капотом дэк устроен из трех массивов на самом деле."
   ]
  },
  {
   "cell_type": "code",
   "execution_count": null,
   "metadata": {},
   "outputs": [],
   "source": [
    "from collections import deque  # deque потому что Double-Ended-QUEue\n",
    "\n",
    "d = deque()\n",
    "# а также дэк можно создать из списка или чего-то другого, по чему можно пройтись, например, так\n",
    "# d = deque([1, 2, 3])\n",
    "\n",
    "d.append(\"Vasya\")\n",
    "d.appendleft(\"Petya\")\n",
    "print('deque contains:', d)\n",
    "\n",
    "print(d.popleft())\n",
    "print('after popleft:', d)\n",
    "print(d.pop())\n",
    "print('after pop:', d)"
   ]
  },
  {
   "cell_type": "markdown",
   "metadata": {},
   "source": [
    "### Глава 1: введение в хэши\n",
    "\n",
    "**Definition:** A hash function is a function that takes a set of inputs of any arbitrary size and fits them into a table or other data structure that contains fixed-size elements.\n",
    "\n",
    "\n",
    "Более просто (но это не общий случай), можно считать, что некоторый объект `obj` может быть передан некоторой функции $f$, такой что $f(obj) \\in H\\subset\\mathbb{Z}$.\n",
    "\n",
    "С точки зрения практики, это, например, позволяет \"укомплектовать\" любого размера строчки в числа. При этом могут быть коллизии:"
   ]
  },
  {
   "cell_type": "markdown",
   "metadata": {},
   "source": [
    "<img src=\"https://upload.wikimedia.org/wikipedia/commons/d/d0/Hash_table_5_0_1_1_1_1_1_LL.svg\" style=\"background-color:white\">"
   ]
  },
  {
   "cell_type": "markdown",
   "metadata": {},
   "source": [
    "**Пример:** как хэшировать строки? Например, пусть у нас есть некоторые простые числа $p > 2$ и $M$ (достаточно большое) и некоторая строка $s$ длины $n$, тогда\n",
    "$h(s) = s_1 * p + s_2 * p^2 + \\ldots + s_n * p^n \\mod M$\n",
    "\n",
    "Модуль здесь нужен, чтобы не хранить большие числа, так как такая полиномиальная функция обычно имеет без модуля очень большое значение. В питоне это не так критично, но в языках, где чаще всего размер числа ограничен 8 байтами, это может привести к проблемам.\n",
    "\n",
    "Простота чисел $p$ и $M$ здесь важна чтобы избежать случая, когда строки из одинаковых символов будут давать по модулю 0.\n",
    "\n",
    "Однако понятно, что тут все равно могут быть коллизии, причем коллизия будет порядка $\\frac{n - 1}{M}$ для строк длины $n$. Если $M$ достаточно большое простое, то это не так критично и хэш таблица такие случаи решать умеет (смотри картинку выше)."
   ]
  },
  {
   "cell_type": "markdown",
   "metadata": {},
   "source": [
    "### Глава 2: множества\n",
    "\n",
    "Множества в питоне -- это один из примеров реализации хэш-таблицы в питоне. Позволяет хранить неповторяющиеся объекты и быстро проверять их наличие. Добавление и проверка наличия происходит за $O(1)$, удаление -- за $O(1)$"
   ]
  },
  {
   "cell_type": "code",
   "execution_count": null,
   "metadata": {},
   "outputs": [],
   "source": [
    "s = {1, 2, 3}  # множество можно создать через фигурные скобки\n",
    "\n",
    "print(\"1 in s:\", 1 in s)\n",
    "print(\"5 in s:\", 5 in s)"
   ]
  },
  {
   "cell_type": "markdown",
   "metadata": {},
   "source": [
    "Давайте проведем небольшой тест, насколько это быстро работает:"
   ]
  },
  {
   "cell_type": "code",
   "execution_count": null,
   "metadata": {},
   "outputs": [],
   "source": [
    "# знакомьтесь, это компрехеншны, возможно, подробнее поговорим про них позже, если останется время\n",
    "\n",
    "N_NUMBERS = 10 ** 4\n",
    "my_list = [i ** 2 for i in range(N_NUMBERS)]\n",
    "\n",
    "my_set = {i ** 2 for i in range(N_NUMBERS)}"
   ]
  },
  {
   "cell_type": "code",
   "execution_count": null,
   "metadata": {},
   "outputs": [],
   "source": [
    "%%timeit  # с помощью %%timeit можно изменить среднее время работы ячейки +- std\n",
    "# если написать просто %%time будет результат одного запуска, без стандартного отклонения\n",
    "\n",
    "for i in range(N_NUMBERS):\n",
    "    i in my_list  # можно никуда не присваивать, питон так тоже умеет"
   ]
  },
  {
   "cell_type": "code",
   "execution_count": null,
   "metadata": {},
   "outputs": [],
   "source": [
    "%%timeit\n",
    "for i in range(N_NUMBERS):\n",
    "    i in my_set  # можно никуда не присваивать, питон так тоже умеет"
   ]
  },
  {
   "cell_type": "code",
   "execution_count": null,
   "metadata": {},
   "outputs": [],
   "source": [
    "s = {1, 2, \"kek\", 1.2}  # можно хранить разные типы данных"
   ]
  },
  {
   "cell_type": "code",
   "execution_count": null,
   "metadata": {},
   "outputs": [],
   "source": [
    "empty_set = {}  # это неправильно, это не множество!!!!\n",
    "print(type(empty_set))"
   ]
  },
  {
   "cell_type": "code",
   "execution_count": null,
   "metadata": {},
   "outputs": [],
   "source": [
    "empty_set = set()  # а надо вот так\n",
    "print(type(empty_set))"
   ]
  },
  {
   "cell_type": "markdown",
   "metadata": {},
   "source": [
    "Множество можно создать из любой другой коллекции, например, списка. Таким образом удобно находить только уникальные элементы."
   ]
  },
  {
   "cell_type": "code",
   "execution_count": null,
   "metadata": {},
   "outputs": [],
   "source": [
    "values = [1, 2, 1, 1, 1, 2, 2, 3, 5, 4, 4, 3, 5, 2, 1]\n",
    "print(set(values))\n",
    "print(len(set(values)))"
   ]
  },
  {
   "cell_type": "code",
   "execution_count": null,
   "metadata": {},
   "outputs": [],
   "source": [
    "print(*set(values))\n",
    "\n",
    "for i in set(values):\n",
    "    print(i)"
   ]
  },
  {
   "cell_type": "markdown",
   "metadata": {},
   "source": [
    "Множество было бы не множеством, если было бы нельзя делать какие-то операции с ним. Только это не очень быстро, за $O(n + m)$, где $n$ и $m$ длины множеств."
   ]
  },
  {
   "cell_type": "code",
   "execution_count": null,
   "metadata": {},
   "outputs": [],
   "source": [
    "one_set = {\"Yana\", \"Sasha\"}\n",
    "another_set = {\"Sonya\", \"Sasha\", \"Polina\"}"
   ]
  },
  {
   "cell_type": "code",
   "execution_count": null,
   "metadata": {},
   "outputs": [],
   "source": [
    "one_set.add(\"Tema\")  # добавить во множество"
   ]
  },
  {
   "cell_type": "code",
   "execution_count": null,
   "metadata": {},
   "outputs": [],
   "source": [
    "print(one_set & another_set)  # пересечение\n",
    "print(one_set.intersection(another_set))"
   ]
  },
  {
   "cell_type": "code",
   "execution_count": null,
   "metadata": {},
   "outputs": [],
   "source": [
    "print(one_set | another_set)  # объединение\n",
    "print(one_set.union(another_set))"
   ]
  },
  {
   "cell_type": "code",
   "execution_count": null,
   "metadata": {},
   "outputs": [],
   "source": [
    "print(one_set - another_set)  # разность\n",
    "print(one_set.difference(another_set))"
   ]
  },
  {
   "cell_type": "code",
   "execution_count": null,
   "metadata": {},
   "outputs": [],
   "source": [
    "print(one_set ^ another_set)  # симметрическая разность -- те, которые есть в обоих исключая пересечение\n",
    "print(one_set.symmetric_difference(another_set))"
   ]
  },
  {
   "cell_type": "code",
   "execution_count": null,
   "metadata": {},
   "outputs": [],
   "source": [
    "one_set -= another_set  # все это можно еще делать через -=, ^=, &= и так далее\n",
    "# еще можно написать вот так: one_set.difference_update(another_set)\n",
    "# по аналогии есть:\n",
    "# * one_set.symmetric_difference_update\n",
    "# * one_set.intersection_update\n",
    "# * one_set.update -- это объединение, оно пишется без union в начале\n",
    "\n",
    "print(one_set)"
   ]
  },
  {
   "cell_type": "code",
   "execution_count": null,
   "metadata": {},
   "outputs": [],
   "source": [
    "one_set.discard(\"Tema\")\n",
    "print(one_set)"
   ]
  },
  {
   "cell_type": "code",
   "execution_count": null,
   "metadata": {},
   "outputs": [],
   "source": [
    "one_set.discard(\"Tema\")  # не выдаст ошибку, несмотря на то, что элемента нет\n",
    "print(one_set)"
   ]
  },
  {
   "cell_type": "code",
   "execution_count": null,
   "metadata": {},
   "outputs": [],
   "source": [
    "one_set.remove(\"Yana\")\n",
    "one_set.remove(\"Yana\")  # выдаст ошибку, так как такого элемента уже нет"
   ]
  },
  {
   "cell_type": "code",
   "execution_count": null,
   "metadata": {},
   "outputs": [],
   "source": [
    "s = {\"Sonya\", \"Sasha\", \"Polina\"}\n",
    "\n",
    "print(s.pop())\n",
    "print(s.pop())"
   ]
  },
  {
   "cell_type": "markdown",
   "metadata": {},
   "source": [
    "Ровно так же, как и списки, множества копируются по ссылке"
   ]
  },
  {
   "cell_type": "code",
   "execution_count": null,
   "metadata": {},
   "outputs": [],
   "source": [
    "one_set = {1, 2, 3}\n",
    "another_set = one_set\n",
    "another_set.discard(2)\n",
    "\n",
    "print(one_set)"
   ]
  },
  {
   "cell_type": "code",
   "execution_count": null,
   "metadata": {},
   "outputs": [],
   "source": [
    "from copy import deepcopy\n",
    "\n",
    "another_set = one_set.copy()\n",
    "another_set = deepcopy(one_set)"
   ]
  },
  {
   "cell_type": "markdown",
   "metadata": {},
   "source": [
    "Важно! Положить во множества можно не абы что"
   ]
  },
  {
   "cell_type": "code",
   "execution_count": null,
   "metadata": {},
   "outputs": [],
   "source": [
    "s = {[1, 2, 3]}  # выдаст ошибку, список нельзя захэшить"
   ]
  },
  {
   "cell_type": "code",
   "execution_count": null,
   "metadata": {},
   "outputs": [],
   "source": [
    "# а вот в списке хранить множество можно\n",
    "\n",
    "sets = [{1, 2, 3}, {5, 6, 7}]\n",
    "sets[0].add(9)\n",
    "print(sets)"
   ]
  },
  {
   "cell_type": "code",
   "execution_count": null,
   "metadata": {},
   "outputs": [],
   "source": [
    "s = {(1, 2, 3), (4, 5, 6, 7)}  # зато можно кортежи. подумайте почему\n",
    "print(s)"
   ]
  },
  {
   "cell_type": "code",
   "execution_count": null,
   "metadata": {},
   "outputs": [],
   "source": [
    "s = {{5, 6, 7}, {6, 7, 8}}  # множество тоже нельзя положить во множество"
   ]
  },
  {
   "cell_type": "code",
   "execution_count": null,
   "metadata": {},
   "outputs": [],
   "source": [
    "s = {frozenset({1, 2, 3}), frozenset({1, 2, 3}), 3, \"Kek\"}  # frozenset -- это аналог tuple, его вот положить можно\n",
    "\n",
    "print(s)"
   ]
  },
  {
   "cell_type": "markdown",
   "metadata": {},
   "source": [
    "### Практика"
   ]
  },
  {
   "cell_type": "markdown",
   "metadata": {},
   "source": [
    "#### Задача 0\n",
    "\n",
    "Каждый из N школьников некоторой школы знает $M_i$ языков. Определите, какие языки знают все школьники и языки, которые знает хотя бы один из школьников."
   ]
  },
  {
   "cell_type": "code",
   "execution_count": null,
   "metadata": {},
   "outputs": [],
   "source": []
  },
  {
   "cell_type": "markdown",
   "metadata": {},
   "source": [
    "#### Задача 1\n",
    "Во входной строке записана последовательность чисел через пробел. Для каждого числа выведите слово YES (в отдельной строке), если это число ранее встречалось в последовательности или NO, если не встречалось."
   ]
  },
  {
   "cell_type": "code",
   "execution_count": null,
   "metadata": {},
   "outputs": [],
   "source": []
  },
  {
   "cell_type": "markdown",
   "metadata": {},
   "source": [
    "#### Задача 2\n",
    "\n",
    "Август и Беатриса играют в игру. Август загадал натуральное число от 1 до n. Беатриса пытается угадать это число, для этого она называет некоторые множества натуральных чисел. Август отвечает Беатрисе YES, если среди названных ей чисел есть задуманное или NO в противном случае. После нескольких заданных вопросов Беатриса запуталась в том, какие вопросы она задавала и какие ответы получила и просит вас помочь ей определить, какие числа мог задумать Август.\n",
    "\n",
    "**Формат ввода**\n",
    "\n",
    "Первая строка входных данных содержит число n — наибольшее число, которое мог загадать Август. Далее идут строки, содержащие вопросы Беатрисы. Каждая строка представляет собой набор чисел, разделенных пробелами. После каждой строки с вопросом идет ответ Августа: YES или NO. Наконец, последняя строка входных данных содержит одно слово HELP."
   ]
  },
  {
   "cell_type": "code",
   "execution_count": null,
   "metadata": {},
   "outputs": [],
   "source": []
  }
 ],
 "metadata": {
  "kernelspec": {
   "display_name": "Python 3.9.13 64-bit",
   "language": "python",
   "name": "python3"
  },
  "language_info": {
   "codemirror_mode": {
    "name": "ipython",
    "version": 3
   },
   "file_extension": ".py",
   "mimetype": "text/x-python",
   "name": "python",
   "nbconvert_exporter": "python",
   "pygments_lexer": "ipython3",
   "version": "3.9.13"
  },
  "orig_nbformat": 4,
  "vscode": {
   "interpreter": {
    "hash": "b0fa6594d8f4cbf19f97940f81e996739fb7646882a419484c72d19e05852a7e"
   }
  }
 },
 "nbformat": 4,
 "nbformat_minor": 2
}
