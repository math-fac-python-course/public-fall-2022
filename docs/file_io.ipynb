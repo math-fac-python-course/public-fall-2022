{
 "cells": [
  {
   "cell_type": "code",
   "execution_count": 4,
   "metadata": {},
   "outputs": [
    {
     "data": {
      "text/plain": [
       "['hello\\n', 'world']"
      ]
     },
     "execution_count": 4,
     "metadata": {},
     "output_type": "execute_result"
    }
   ],
   "source": [
    "f = open(\"input.txt\", \"r\")  # открыть файл\n",
    "f.readlines()  # прочитать все строчки, заметьте, что они с \\n"
   ]
  },
  {
   "cell_type": "code",
   "execution_count": 5,
   "metadata": {},
   "outputs": [
    {
     "data": {
      "text/plain": [
       "'hello\\nworld'"
      ]
     },
     "execution_count": 5,
     "metadata": {},
     "output_type": "execute_result"
    }
   ],
   "source": [
    "f = open(\"input.txt\", \"r\")  # открыть файл\n",
    "f.read()  # прочитать весь файл одной строкой"
   ]
  },
  {
   "cell_type": "code",
   "execution_count": 6,
   "metadata": {},
   "outputs": [
    {
     "name": "stdout",
     "output_type": "stream",
     "text": [
      "\n",
      "hello\n",
      "world\n"
     ]
    }
   ],
   "source": [
    "print(f.read())  # второй раз прочитать файл не получится\n",
    "# если оч нужно, то можно сделать так:\n",
    "f.seek(0)  # это вернет указатель в начало файла и его снова можно будет читать сначала\n",
    "\n",
    "print(f.read())"
   ]
  },
  {
   "cell_type": "code",
   "execution_count": null,
   "metadata": {},
   "outputs": [],
   "source": [
    "f.close()  # закрыть файл после окончания работы с ним"
   ]
  },
  {
   "cell_type": "code",
   "execution_count": 12,
   "metadata": {},
   "outputs": [
    {
     "name": "stdout",
     "output_type": "stream",
     "text": [
      "hello\n",
      "world\n"
     ]
    }
   ],
   "source": [
    "with open(\"input.txt\", \"r\") as f:  # чтобы руками не закрывать файл, можно писать вот так\n",
    "    while (line := f.readline()).strip():  # читать файл построчно, пока строчки есть\n",
    "        # strip тут на всякий случай, можно и не писать\n",
    "        print(line.strip())  # если не написать strip, то будет лишняя пустая строка\n",
    "        # так как readline читает и пробельные символы тоже\n"
   ]
  },
  {
   "cell_type": "code",
   "execution_count": 13,
   "metadata": {},
   "outputs": [],
   "source": [
    "with open(\"output.txt\", \"w\") as f:\n",
    "    print(\"hello world!\", file=f)  # самый обычный принт со всеми sep и end, только в файл\n",
    "\n",
    "with open(\"output.txt\", \"w\") as f:\n",
    "    f.write(\"hello world\\n\")  # можно еще так, но write не переводит строку, поэтому надо на конце писать явно \\n"
   ]
  },
  {
   "cell_type": "code",
   "execution_count": null,
   "metadata": {},
   "outputs": [],
   "source": [
    "import sys\n",
    "\n",
    "print(sys.stdin.readlines())  # можно читать как из файла со стандартного потока вывода"
   ]
  },
  {
   "cell_type": "code",
   "execution_count": null,
   "metadata": {},
   "outputs": [],
   "source": [
    "import sys\n",
    "\n",
    "sys.stdout.write(\"hello world\")  # и писать на поток тоже, если есть необходимость"
   ]
  }
 ],
 "metadata": {
  "kernelspec": {
   "display_name": "Python 3.9.13 64-bit",
   "language": "python",
   "name": "python3"
  },
  "language_info": {
   "codemirror_mode": {
    "name": "ipython",
    "version": 3
   },
   "file_extension": ".py",
   "mimetype": "text/x-python",
   "name": "python",
   "nbconvert_exporter": "python",
   "pygments_lexer": "ipython3",
   "version": "3.9.13"
  },
  "orig_nbformat": 4,
  "vscode": {
   "interpreter": {
    "hash": "b0fa6594d8f4cbf19f97940f81e996739fb7646882a419484c72d19e05852a7e"
   }
  }
 },
 "nbformat": 4,
 "nbformat_minor": 2
}
