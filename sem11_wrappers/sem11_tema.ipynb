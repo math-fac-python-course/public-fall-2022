{
 "cells": [
  {
   "cell_type": "markdown",
   "metadata": {},
   "source": [
    "# Семинар 11: декораторы и itertools"
   ]
  },
  {
   "cell_type": "markdown",
   "metadata": {},
   "source": [
    "### Глава 1: декораторы"
   ]
  },
  {
   "cell_type": "code",
   "execution_count": null,
   "metadata": {},
   "outputs": [],
   "source": [
    "def uppercase(func):  # передаем функцию, которую будем оборачивать\n",
    "    def wrapper():\n",
    "        result = func()\n",
    "        return result.upper()\n",
    "    return wrapper  # вернуть нужно функцию-обертку"
   ]
  },
  {
   "cell_type": "code",
   "execution_count": null,
   "metadata": {},
   "outputs": [],
   "source": [
    "@uppercase\n",
    "def print_hello():\n",
    "    return \"hello world\""
   ]
  },
  {
   "cell_type": "code",
   "execution_count": null,
   "metadata": {},
   "outputs": [],
   "source": [
    "print_hello()"
   ]
  },
  {
   "cell_type": "code",
   "execution_count": null,
   "metadata": {},
   "outputs": [],
   "source": [
    "class A:\n",
    "    @uppercase\n",
    "    def __str__(self):\n",
    "        return 'some abstract class'"
   ]
  },
  {
   "cell_type": "code",
   "execution_count": null,
   "metadata": {},
   "outputs": [],
   "source": [
    "a = A()\n",
    "print(a)  # будет ли этот декоратор работать с классами? если нет, то как поправить?"
   ]
  },
  {
   "cell_type": "markdown",
   "metadata": {},
   "source": [
    "При этом мы теряем метаданные о функции:"
   ]
  },
  {
   "cell_type": "code",
   "execution_count": null,
   "metadata": {},
   "outputs": [],
   "source": [
    "A.__str__.__name__"
   ]
  },
  {
   "cell_type": "code",
   "execution_count": null,
   "metadata": {},
   "outputs": [],
   "source": [
    "import functools\n",
    "\n",
    "\n",
    "def uppercase(func):  # передаем функцию, которую будем оборачивать\n",
    "    @functools.wraps(func)\n",
    "    def wrapper(*args, **kwargs):\n",
    "        result = func()\n",
    "        return result.upper()\n",
    "    return wrapper  # вернуть нужно функцию-обертку\n",
    "\n",
    "class A:\n",
    "    @uppercase\n",
    "    def __str__(self):\n",
    "        return 'some abstract class'"
   ]
  },
  {
   "cell_type": "code",
   "execution_count": null,
   "metadata": {},
   "outputs": [],
   "source": [
    "A.__str__.__name__"
   ]
  },
  {
   "cell_type": "markdown",
   "metadata": {},
   "source": [
    "Для чего в реальной жизни удобно использовать декоратор?\n",
    "\n",
    "Например, замерять суммарное время работы функций"
   ]
  },
  {
   "cell_type": "code",
   "execution_count": null,
   "metadata": {},
   "outputs": [],
   "source": [
    "import functools\n",
    "import time\n",
    "\n",
    "\n",
    "def use_timer(result_struct: dict):\n",
    "    def decorator(func):\n",
    "        def wrapper(*args, **kwargs):\n",
    "            start = time.time()\n",
    "            result = func(*args, **kwargs)\n",
    "            elapsed_time = time.time() - start\n",
    "\n",
    "            result_struct.setdefault(func.__name__, 0)\n",
    "            result_struct[func.__name__] += elapsed_time\n",
    "\n",
    "            return result\n",
    "        \n",
    "        return wrapper\n",
    "    return decorator\n",
    "\n",
    "class Worker:\n",
    "    times = {}\n",
    "\n",
    "    @use_timer(times)\n",
    "    def do_light(self):\n",
    "        for _ in range(10000):\n",
    "            ...\n",
    "\n",
    "    @use_timer(times)\n",
    "    def do_medium(self):\n",
    "        for _ in range(100000):\n",
    "            ...\n",
    "\n",
    "    @use_timer(times)\n",
    "    def do_hard(self):\n",
    "        for _ in range(1000000):\n",
    "            ..."
   ]
  },
  {
   "cell_type": "code",
   "execution_count": null,
   "metadata": {},
   "outputs": [],
   "source": [
    "w = Worker()\n",
    "\n",
    "for _ in range(100):\n",
    "    w.do_light()\n",
    "    w.do_medium()\n",
    "    w.do_hard()"
   ]
  },
  {
   "cell_type": "code",
   "execution_count": null,
   "metadata": {},
   "outputs": [],
   "source": [
    "w.times"
   ]
  },
  {
   "cell_type": "markdown",
   "metadata": {},
   "source": [
    "Декорировать можно также и классы"
   ]
  },
  {
   "cell_type": "code",
   "execution_count": null,
   "metadata": {},
   "outputs": [],
   "source": [
    "from dataclasses import dataclass\n",
    "from uuid import uuid4\n",
    "\n",
    "\n",
    "def add_id(_class):\n",
    "    class WithID(_class):\n",
    "        def __init__(self, *args, **kargs):\n",
    "            super().__init__(*args, **kargs)\n",
    "            self.__id = str(uuid4())\n",
    "\n",
    "        def get_id(self):\n",
    "            return self.__id\n",
    "    return WithID\n",
    "\n",
    "\n",
    "@add_id\n",
    "@dataclass\n",
    "class Person:\n",
    "    name: str\n",
    "    email: str"
   ]
  },
  {
   "cell_type": "code",
   "execution_count": null,
   "metadata": {},
   "outputs": [],
   "source": [
    "p = Person(name=\"Tema\", email=\"astreltsov@hse.ru\")\n",
    "print(p.get_id())"
   ]
  },
  {
   "cell_type": "markdown",
   "metadata": {},
   "source": [
    "Стоит учесть, что порядок декораторов важен!! Попробуйте поменять dataclass и add_id местами.\n",
    "\n",
    "Можно еще подменять функции по ссылкам:"
   ]
  },
  {
   "cell_type": "code",
   "execution_count": null,
   "metadata": {},
   "outputs": [],
   "source": [
    "from dataclasses import dataclass\n",
    "from uuid import uuid4\n",
    "\n",
    "\n",
    "def add_id(_class):\n",
    "    original_init = _class.__init__\n",
    "\n",
    "    def __init__(obj, *args, **kargs):\n",
    "        original_init(obj, *args, **kargs)\n",
    "        obj.id = str(uuid4())\n",
    "\n",
    "    _class.__init__ = __init__\n",
    "    return _class\n",
    "\n",
    "\n",
    "@add_id\n",
    "@dataclass\n",
    "class Person:\n",
    "    name: str\n",
    "    email: str"
   ]
  },
  {
   "cell_type": "code",
   "execution_count": null,
   "metadata": {},
   "outputs": [],
   "source": [
    "p = Person(name=\"Tema\", email=\"astreltsov@hse.ru\")\n",
    "print(p.id)"
   ]
  },
  {
   "cell_type": "markdown",
   "metadata": {},
   "source": [
    "### Глава 2: itertools"
   ]
  },
  {
   "cell_type": "code",
   "execution_count": null,
   "metadata": {},
   "outputs": [],
   "source": [
    "a = [1, -1, 6, 3, -2, 0, -6]\n",
    "\n",
    "list(filter(lambda x: x < 0, a))"
   ]
  },
  {
   "cell_type": "code",
   "execution_count": null,
   "metadata": {},
   "outputs": [],
   "source": [
    "from functools import reduce\n",
    "\n",
    "a = [1, 7, 3, 2, 5, 3]\n",
    "\n",
    "reduce(lambda x, y: x + y, a)"
   ]
  },
  {
   "cell_type": "code",
   "execution_count": null,
   "metadata": {},
   "outputs": [],
   "source": [
    "a = [\"\", \"\", \"\", \"abc\", \"\", \"cde\"]\n",
    "\n",
    "reduce(lambda x, y: x or y, a)"
   ]
  },
  {
   "cell_type": "code",
   "execution_count": null,
   "metadata": {},
   "outputs": [],
   "source": [
    "import itertools"
   ]
  },
  {
   "cell_type": "code",
   "execution_count": null,
   "metadata": {},
   "outputs": [],
   "source": [
    "a = [1, 7, 3, 2, 5, 3]\n",
    "list(itertools.accumulate(a))  # это как reduce с промежуточными значениями"
   ]
  },
  {
   "cell_type": "code",
   "execution_count": null,
   "metadata": {},
   "outputs": [],
   "source": [
    "a = [1, 2, 3]\n",
    "b = [\"abc\", \"cde\"]\n",
    "c = [(1, 2), (3, 4)]\n",
    "\n",
    "for x in itertools.chain(a, b, c):\n",
    "    print(x)"
   ]
  },
  {
   "cell_type": "code",
   "execution_count": null,
   "metadata": {},
   "outputs": [],
   "source": [
    "a = [\"abc\", \"cde\"]\n",
    "\n",
    "for x in itertools.chain.from_iterable(a):\n",
    "    print(x)"
   ]
  },
  {
   "cell_type": "code",
   "execution_count": null,
   "metadata": {},
   "outputs": [],
   "source": [
    "a = \"abcdef\"\n",
    "\n",
    "\"\".join(itertools.compress(a, [1, 0, 1, 1, 0, 0]))"
   ]
  },
  {
   "cell_type": "code",
   "execution_count": null,
   "metadata": {},
   "outputs": [],
   "source": [
    "a = [-1, -2, -3, 6, 2, 1, -2, -1]\n",
    "\n",
    "list(itertools.dropwhile(lambda x: x < 0, a))"
   ]
  },
  {
   "cell_type": "code",
   "execution_count": null,
   "metadata": {},
   "outputs": [],
   "source": [
    "list(itertools.takewhile(lambda x: x < 0, a))"
   ]
  },
  {
   "cell_type": "code",
   "execution_count": null,
   "metadata": {},
   "outputs": [],
   "source": [
    "a = [1, -1, 6, 3, -2, 0, -6]\n",
    "\n",
    "list(itertools.filterfalse(lambda x: x < 0, a))"
   ]
  },
  {
   "cell_type": "markdown",
   "metadata": {},
   "source": [
    "Пусть есть задача: надо сделать из строки вида \"ABBBCC\" строку вида \"1A3B2C\""
   ]
  },
  {
   "cell_type": "code",
   "execution_count": null,
   "metadata": {},
   "outputs": [],
   "source": [
    "s = input()\n",
    "\n",
    "print(list(itertools.groupby(s)))\n",
    "\n",
    "print(\n",
    "    \"\".join(\n",
    "        f\"{len(list(group))}{symbol}\"\n",
    "        for symbol, group in itertools.groupby(s)\n",
    "    ),\n",
    ")"
   ]
  },
  {
   "cell_type": "code",
   "execution_count": null,
   "metadata": {},
   "outputs": [],
   "source": [
    "a = [1, 2, 3, 4, 5, 6, 7]\n",
    "\n",
    "for x in itertools.islice(a, 1, 5, 2):  # аналог среза только без создания массива нового\n",
    "    print(x)"
   ]
  },
  {
   "cell_type": "code",
   "execution_count": null,
   "metadata": {},
   "outputs": [],
   "source": [
    "a = [\"A\", \"T\", \"G\", \"C\"]\n",
    "\n",
    "for x in itertools.pairwise(a):\n",
    "    print(x)"
   ]
  },
  {
   "cell_type": "code",
   "execution_count": null,
   "metadata": {},
   "outputs": [],
   "source": [
    "list(itertools.starmap(pow, [(2,5), (3,2), (10,3)])) #  func(*seq[0]), func(*seq[1]) и тд"
   ]
  },
  {
   "cell_type": "code",
   "execution_count": null,
   "metadata": {},
   "outputs": [],
   "source": [
    "a = [\"A\", \"T\", \"G\", \"C\"]\n",
    "b = [1, 2, 3, 4]\n",
    "\n",
    "print(list(itertools.combinations(a, 2)))"
   ]
  },
  {
   "cell_type": "code",
   "execution_count": null,
   "metadata": {},
   "outputs": [],
   "source": [
    "print(list(itertools.product(a, b)))"
   ]
  },
  {
   "cell_type": "code",
   "execution_count": null,
   "metadata": {},
   "outputs": [],
   "source": [
    "print(list(itertools.permutations(a)))"
   ]
  },
  {
   "cell_type": "code",
   "execution_count": null,
   "metadata": {},
   "outputs": [],
   "source": [
    "a = [\"A\", \"T\", \"G\", \"C\"]\n",
    "\n",
    "iter = itertools.cycle(a)\n",
    "\n",
    "print(next(iter))\n",
    "print(next(iter))\n",
    "print(next(iter))\n",
    "print(next(iter))\n",
    "print(next(iter))\n",
    "print(next(iter))\n",
    "print(next(iter))"
   ]
  },
  {
   "cell_type": "markdown",
   "metadata": {},
   "source": [
    "### Зачем нужны itertools"
   ]
  },
  {
   "cell_type": "markdown",
   "metadata": {},
   "source": [
    "1) Можно сделать свой спиннер"
   ]
  },
  {
   "cell_type": "code",
   "execution_count": null,
   "metadata": {},
   "outputs": [],
   "source": [
    "import itertools\n",
    "import sys\n",
    "import time\n",
    "\n",
    "def spinner(seconds):\n",
    "    symbols = itertools.cycle('-|/')\n",
    "    tend = time.time() + seconds\n",
    "    while time.time() < tend:\n",
    "        sys.stdout.write('\\rPlease wait... ' + next(symbols)) # no newline\n",
    "        sys.stdout.flush()\n",
    "        time.sleep(0.1)\n",
    "    print()\n",
    "\n",
    "if __name__ == \"__main__\":\n",
    "    spinner(3)"
   ]
  },
  {
   "cell_type": "markdown",
   "metadata": {},
   "source": [
    "2) Быстро погруппировать словарь по значениям"
   ]
  },
  {
   "cell_type": "code",
   "execution_count": null,
   "metadata": {},
   "outputs": [],
   "source": [
    "from operator import itemgetter\n",
    "\n",
    "\n",
    "d = {\n",
    "    \"a\": 1,\n",
    "    \"b\": 2,\n",
    "    \"c\": 3,\n",
    "    \"d\": 1,\n",
    "    \"e\": 2,\n",
    "    \"f\": 3,\n",
    "}\n",
    "\n",
    "for value, items in itertools.groupby(sorted(d.items(), key=itemgetter(1)), key=itemgetter(1)):\n",
    "    print(value, \":\", *map(itemgetter(0), items))"
   ]
  },
  {
   "cell_type": "markdown",
   "metadata": {},
   "source": [
    "3) Выбрать из списка чисел пару (тройку, четверку) с наибольшим произведением"
   ]
  },
  {
   "cell_type": "code",
   "execution_count": null,
   "metadata": {},
   "outputs": [],
   "source": [
    "import functools\n",
    "\n",
    "a = list(map(int, input().split()))\n",
    "n = int(input())\n",
    "\n",
    "print(\n",
    "    max(\n",
    "        itertools.combinations(a, n),\n",
    "        key=functools.partial(functools.reduce, lambda x, y: x * y),\n",
    "    )\n",
    ")"
   ]
  },
  {
   "cell_type": "markdown",
   "metadata": {},
   "source": [
    "### Что дальше?\n",
    "\n",
    "1) Есть еще more-itertools, предоставляющие уйму других возможностей: https://more-itertools.readthedocs.io/en/stable/\n",
    "2) Замечательная статья как упарываться декораторами и итераторами: https://www.bbayles.com/index/decorator_factory"
   ]
  },
  {
   "cell_type": "code",
   "execution_count": null,
   "metadata": {},
   "outputs": [],
   "source": []
  }
 ],
 "metadata": {
  "kernelspec": {
   "display_name": "Python 3.10.8 64-bit",
   "language": "python",
   "name": "python3"
  },
  "language_info": {
   "codemirror_mode": {
    "name": "ipython",
    "version": 3
   },
   "file_extension": ".py",
   "mimetype": "text/x-python",
   "name": "python",
   "nbconvert_exporter": "python",
   "pygments_lexer": "ipython3",
   "version": "3.10.8"
  },
  "orig_nbformat": 4,
  "vscode": {
   "interpreter": {
    "hash": "6ecdebf77f2ee3a47348d003f751c63e810ca996c1c68d1179f338200fa83b34"
   }
  }
 },
 "nbformat": 4,
 "nbformat_minor": 2
}
