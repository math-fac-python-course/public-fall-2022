{
 "cells": [
  {
   "cell_type": "markdown",
   "metadata": {},
   "source": [
    "# Семинар 8: ООП\n",
    "\n",
    "Объектно ориентированное программирование на самом деле это по факту 4 принципа:\n",
    "* **Abstraction** -- создавания классы мы меняем уровень абстракции, моделируем поведение класса и логику взаимодестсвия сущностей.\n",
    "* **Наследование** -- нет смысла дублировать код, если можно выделить его в общего родителя для классов. Таким образом мы создаем новые абстракции на основе существующих.\n",
    "* **Encapsulation** -- инкапсуляция, иными словами, скрытие внутри класса того, что не нужно явно использовать при работе с ним. Оставляем только публичный интерфейс работы с ним.\n",
    "* **Polymorphism** -- разные классы могут реализовать разную логику одного и того же интерфейса.\n",
    "\n",
    "Давайте напишем, например, свой класс комплексных чисел:"
   ]
  },
  {
   "cell_type": "code",
   "execution_count": 28,
   "metadata": {},
   "outputs": [],
   "source": [
    "from typing import Union\n",
    "\n",
    "\n",
    "class Complex:\n",
    "    def __init__(self, re: Union[int, float] = 0, im: Union[int, float] = 0):\n",
    "        self.re = re\n",
    "        self.im = im\n",
    "        \n",
    "    def __str__(self) -> str:\n",
    "        if not self.re and not self.im:\n",
    "            return \"0\"\n",
    "\n",
    "        str_re = str(self.re) if self.re else \"\"\n",
    "        str_im = str(abs(self.im)) if abs(self.im) not in (0, 1) else \"\"\n",
    "        i_sign = \"i\" if self.im else \"\"\n",
    "\n",
    "        if self.im < 0:\n",
    "            operator = \"-\"\n",
    "        elif self.im > 0 and self.re:\n",
    "            operator = \"+\"\n",
    "        else:\n",
    "            operator = \"\"\n",
    "\n",
    "        return str_re + operator + str_im + i_sign\n",
    "\n",
    "    __repr__ = __str__"
   ]
  },
  {
   "cell_type": "code",
   "execution_count": 29,
   "metadata": {},
   "outputs": [],
   "source": [
    "a = Complex(0, 5)\n",
    "b = Complex(8, -1)"
   ]
  },
  {
   "cell_type": "markdown",
   "metadata": {},
   "source": [
    "Теперь добавим возможность складывать наши числа и умножать:"
   ]
  },
  {
   "cell_type": "code",
   "execution_count": 89,
   "metadata": {},
   "outputs": [],
   "source": [
    "class Complex:\n",
    "    def __init__(self, re: Union[int, float] = 0, im: Union[int, float] = 0):\n",
    "        self.re = re\n",
    "        self.im = im\n",
    "        \n",
    "    def __str__(self) -> str:\n",
    "        if not self.re and not self.im:\n",
    "            return \"0\"\n",
    "\n",
    "        str_re = str(self.re) if self.re else \"\"\n",
    "        str_im = str(abs(self.im)) if abs(self.im) not in (0, 1) else \"\"\n",
    "        i_sign = \"i\" if self.im else \"\"\n",
    "\n",
    "        if self.im < 0:\n",
    "            operator = \"-\"\n",
    "        elif self.im > 0 and self.re:\n",
    "            operator = \"+\"\n",
    "        else:\n",
    "            operator = \"\"\n",
    "\n",
    "        return str_re + operator + str_im + i_sign\n",
    "    \n",
    "    __repr__ = __str__  # можно и свой repr написать, а можно и так\n",
    "\n",
    "    def __add__(self, other: Union[Complex, int, float]) -> Complex:  # <--- обратите внимание на кавычки\n",
    "        # с Python 3.11 можно будет вместо \"Complex\" писать просто Self\n",
    "        if isinstance(other, int) or isinstance(other, float):\n",
    "            other = self.__class__(other, 0)\n",
    "\n",
    "        return self.__class__(self.re + other.re, self.im + other.im)\n",
    "\n",
    "    def __sub__(self, other: Complex) -> Complex:  # <--- обратите внимание на кавычки\n",
    "        if isinstance(other, int) or isinstance(other, float):\n",
    "            other = self.__class__(other, 0)\n",
    "        return self.__class__(self.re - other.re, self.im - other.im)\n",
    "\n",
    "    def __mul__(self, other: Complex) -> Complex:  # <--- обратите внимание на кавычки\n",
    "        if isinstance(other, int) or isinstance(other, float):\n",
    "            other = self.__class__(other, 0)\n",
    "        return self.__class__(\n",
    "            self.re * other.re - self.im * other.im,\n",
    "            self.re * other.im + self.im * other.re\n",
    "        )\n",
    "\n",
    "    def __eq__(self, other: Complex) -> bool:\n",
    "        return self.re == other.re and self.im == other.im\n",
    "\n",
    "    def __neg__(self):\n",
    "        return self.__class__(-self.re, -self.im)\n",
    "\n",
    "    __radd__ = __add__\n",
    "    __rmul__ = __mul__\n",
    "    __rsub__ = __sub__\n",
    "\n",
    "    # аналогично можно использовать __sub__ для вычитания, __div__ для деления"
   ]
  },
  {
   "cell_type": "code",
   "execution_count": 90,
   "metadata": {},
   "outputs": [
    {
     "data": {
      "text/plain": [
       "6+5i"
      ]
     },
     "execution_count": 90,
     "metadata": {},
     "output_type": "execute_result"
    }
   ],
   "source": [
    "a = Complex(1, 5)\n",
    "b = Complex(1, 5)\n",
    "\n",
    "5 + a  # a + 5 -> radd"
   ]
  },
  {
   "cell_type": "code",
   "execution_count": 91,
   "metadata": {},
   "outputs": [
    {
     "data": {
      "text/plain": [
       "-1-5i"
      ]
     },
     "execution_count": 91,
     "metadata": {},
     "output_type": "execute_result"
    }
   ],
   "source": [
    "-a"
   ]
  },
  {
   "cell_type": "markdown",
   "metadata": {},
   "source": [
    "### Наследование\n",
    "\n",
    "По факту, наследованием мы расширяем наш класс, создавания от него потомка, например:"
   ]
  },
  {
   "cell_type": "code",
   "execution_count": 110,
   "metadata": {},
   "outputs": [],
   "source": [
    "import math\n",
    "\n",
    "class Point(Complex):\n",
    "    def length(self):\n",
    "        return math.sqrt(self.re ** 2 + self.im ** 2)"
   ]
  },
  {
   "cell_type": "code",
   "execution_count": 111,
   "metadata": {},
   "outputs": [
    {
     "name": "stdout",
     "output_type": "stream",
     "text": [
      "7.810249675906654\n",
      "1.4142135623730951\n",
      "8.06225774829855\n"
     ]
    }
   ],
   "source": [
    "x = Point(5, 6)\n",
    "y = Point(-1, 1)\n",
    "\n",
    "print(x.length())\n",
    "print(y.length())\n",
    "\n",
    "print((x + y).length())  # а вот это выполнится? если нет, то как поправить?"
   ]
  },
  {
   "cell_type": "code",
   "execution_count": 82,
   "metadata": {},
   "outputs": [],
   "source": [
    "import math\n",
    "\n",
    "class Point(Complex):\n",
    "    def distance(self, other: Point) -> float:\n",
    "        # YOUR CODE HERE\n",
    "        pass"
   ]
  },
  {
   "cell_type": "markdown",
   "metadata": {},
   "source": [
    "### Задание 1\n",
    "\n",
    "Немного \"причешем\" наше решение: давайте научим наш класс складываться и умножаться не только с комлексными числами, но и обычными\n",
    "\n",
    "Для того, чтобы понять, какой это тип, можно использовать функцию `isinstance`."
   ]
  },
  {
   "cell_type": "code",
   "execution_count": null,
   "metadata": {},
   "outputs": [],
   "source": []
  },
  {
   "cell_type": "markdown",
   "metadata": {},
   "source": [
    "### Задание 2\n",
    "\n",
    "Давайте допишем класс Point, чтобы у него был метод distance, вычисляющий расстояние от нашей точки для другой. Как это лучше сделать?"
   ]
  },
  {
   "cell_type": "code",
   "execution_count": null,
   "metadata": {},
   "outputs": [],
   "source": []
  },
  {
   "cell_type": "markdown",
   "metadata": {},
   "source": [
    "### Ошибки\n",
    "\n",
    "В питоне можно явно вызывать любую ошибку через raise, например:"
   ]
  },
  {
   "cell_type": "code",
   "execution_count": 105,
   "metadata": {},
   "outputs": [
    {
     "name": "stdout",
     "output_type": "stream",
     "text": [
      "Some error idk what happened\n",
      "Traceback (most recent call last):\n",
      "  File \"/var/folders/r4/q_8q00yn5mx9rdsbtxdf4ghn0kx92w/T/ipykernel_90965/1189987990.py\", line 7, in <module>\n",
      "    print(x / y)\n",
      "TypeError: unsupported operand type(s) for /: 'str' and 'int'\n",
      "\n",
      "goodbye!\n"
     ]
    }
   ],
   "source": [
    "import traceback\n",
    "\n",
    "x = input()\n",
    "y = int(input())\n",
    "\n",
    "try:\n",
    "    print(x / y)\n",
    "except ZeroDivisionError:\n",
    "    print(\"Division by zero occured\")\n",
    "except Exception:\n",
    "    print(\"Some error idk what happened\")\n",
    "    print(traceback.format_exc())\n",
    "finally:\n",
    "    print(\"goodbye!\")\n"
   ]
  },
  {
   "cell_type": "code",
   "execution_count": 92,
   "metadata": {},
   "outputs": [
    {
     "ename": "RuntimeError",
     "evalue": "Something went wrong",
     "output_type": "error",
     "traceback": [
      "\u001b[0;31m---------------------------------------------------------------------------\u001b[0m",
      "\u001b[0;31mRuntimeError\u001b[0m                              Traceback (most recent call last)",
      "Cell \u001b[0;32mIn [92], line 1\u001b[0m\n\u001b[0;32m----> 1\u001b[0m \u001b[39mraise\u001b[39;00m \u001b[39mRuntimeError\u001b[39;00m(\u001b[39m\"\u001b[39m\u001b[39mSomething went wrong\u001b[39m\u001b[39m\"\u001b[39m)\n",
      "\u001b[0;31mRuntimeError\u001b[0m: Something went wrong"
     ]
    }
   ],
   "source": [
    "raise RuntimeError(\"Something went wrong\")"
   ]
  },
  {
   "cell_type": "markdown",
   "metadata": {},
   "source": [
    "А также можно создавать свои ошибки:"
   ]
  },
  {
   "cell_type": "code",
   "execution_count": 93,
   "metadata": {},
   "outputs": [
    {
     "ename": "ComplexError",
     "evalue": "Invalid usage of complex numbers",
     "output_type": "error",
     "traceback": [
      "\u001b[0;31m---------------------------------------------------------------------------\u001b[0m",
      "\u001b[0;31mComplexError\u001b[0m                              Traceback (most recent call last)",
      "Cell \u001b[0;32mIn [93], line 4\u001b[0m\n\u001b[1;32m      1\u001b[0m \u001b[39mclass\u001b[39;00m \u001b[39mComplexError\u001b[39;00m(\u001b[39mBaseException\u001b[39;00m):\n\u001b[1;32m      2\u001b[0m     \u001b[39m.\u001b[39m\u001b[39m.\u001b[39m\u001b[39m.\u001b[39m\n\u001b[0;32m----> 4\u001b[0m \u001b[39mraise\u001b[39;00m ComplexError(\u001b[39m\"\u001b[39m\u001b[39mInvalid usage of complex numbers\u001b[39m\u001b[39m\"\u001b[39m)\n",
      "\u001b[0;31mComplexError\u001b[0m: Invalid usage of complex numbers"
     ]
    }
   ],
   "source": [
    "class ComplexError(BaseException):\n",
    "    ...\n",
    "\n",
    "raise ComplexError(\"Invalid usage of complex numbers\")"
   ]
  },
  {
   "cell_type": "code",
   "execution_count": 108,
   "metadata": {},
   "outputs": [],
   "source": [
    "class ComplexOperationError(BaseException):\n",
    "    def __init__(self, left_arg, right_arg):\n",
    "        self.left_arg = left_arg\n",
    "        self.right_arg = right_arg\n",
    "\n",
    "    def __str__(self) -> str:\n",
    "        return f\"Cannot do operation between {self.left_arg} and {self.right_arg}\"\n",
    "\n",
    "# raise ComplexOperationError(Complex(1, 2), \"abc\")"
   ]
  },
  {
   "cell_type": "markdown",
   "metadata": {},
   "source": [
    "### Задание 3\n",
    "\n",
    "Допишите класс Complex таким образом, чтобы он возвращал ошибки, если мы пытаемся сложить/умножить, например, что-то невалидное (комплексное со строкой, например)"
   ]
  },
  {
   "cell_type": "code",
   "execution_count": 115,
   "metadata": {},
   "outputs": [],
   "source": [
    "class Complex:\n",
    "    def __init__(self, re: Union[int, float] = 0, im: Union[int, float] = 0):\n",
    "        self.re = re\n",
    "        self.im = im\n",
    "        \n",
    "    def __str__(self) -> str:\n",
    "        if not self.re and not self.im:\n",
    "            return \"0\"\n",
    "\n",
    "        str_re = str(self.re) if self.re else \"\"\n",
    "        str_im = str(abs(self.im)) if abs(self.im) not in (0, 1) else \"\"\n",
    "        i_sign = \"i\" if self.im else \"\"\n",
    "\n",
    "        if self.im < 0:\n",
    "            operator = \"-\"\n",
    "        elif self.im > 0 and self.re:\n",
    "            operator = \"+\"\n",
    "        else:\n",
    "            operator = \"\"\n",
    "\n",
    "        return str_re + operator + str_im + i_sign\n",
    "    \n",
    "    __repr__ = __str__  # можно и свой repr написать, а можно и так\n",
    "\n",
    "    def __add__(self, other: Union[Complex, int, float]) -> Complex:  # <--- обратите внимание на кавычки\n",
    "        # с Python 3.11 можно будет вместо \"Complex\" писать просто Self\n",
    "        if isinstance(other, int) or isinstance(other, float):\n",
    "            other = self.__class__(other, 0)\n",
    "        elif not isinstance(other, Complex):\n",
    "            raise ComplexOperationError(self, other)\n",
    "\n",
    "        return self.__class__(self.re + other.re, self.im + other.im)\n",
    "\n",
    "    def __sub__(self, other: Complex) -> Complex:  # <--- обратите внимание на кавычки\n",
    "        if isinstance(other, int) or isinstance(other, float):\n",
    "            other = self.__class__(other, 0)\n",
    "        elif not isinstance(other, Complex):\n",
    "            raise ComplexOperationError(self, other)\n",
    "        return self.__class__(self.re - other.re, self.im - other.im)\n",
    "\n",
    "    def __mul__(self, other: Complex) -> Complex:  # <--- обратите внимание на кавычки\n",
    "        if isinstance(other, int) or isinstance(other, float):\n",
    "            other = self.__class__(other, 0)\n",
    "        elif not isinstance(other, Complex):\n",
    "            raise ComplexOperationError(self, other)\n",
    "        return self.__class__(\n",
    "            self.re * other.re - self.im * other.im,\n",
    "            self.re * other.im + self.im * other.re\n",
    "        )\n",
    "\n",
    "    def __eq__(self, other: Complex) -> bool:\n",
    "        return self.re == other.re and self.im == other.im\n",
    "\n",
    "    def __neg__(self):\n",
    "        return self.__class__(-self.re, -self.im)\n",
    "\n",
    "    __radd__ = __add__\n",
    "    __rmul__ = __mul__\n",
    "    __rsub__ = __sub__\n",
    "\n",
    "    # аналогично можно использовать __sub__ для вычитания, __div__ для деления"
   ]
  },
  {
   "cell_type": "code",
   "execution_count": 120,
   "metadata": {},
   "outputs": [
    {
     "ename": "ComplexOperationError",
     "evalue": "Cannot do operation between 5+3i and [1, 2, 3]",
     "output_type": "error",
     "traceback": [
      "\u001b[0;31m---------------------------------------------------------------------------\u001b[0m",
      "\u001b[0;31mComplexOperationError\u001b[0m                     Traceback (most recent call last)",
      "Cell \u001b[0;32mIn [120], line 4\u001b[0m\n\u001b[1;32m      1\u001b[0m a \u001b[39m=\u001b[39m Complex(\u001b[39m5\u001b[39m, \u001b[39m3\u001b[39m)\n\u001b[1;32m      2\u001b[0m b \u001b[39m=\u001b[39m Complex(\u001b[39m-\u001b[39m\u001b[39m1\u001b[39m, \u001b[39m-\u001b[39m\u001b[39m2\u001b[39m)\n\u001b[0;32m----> 4\u001b[0m a \u001b[39m+\u001b[39;49m [\u001b[39m1\u001b[39;49m, \u001b[39m2\u001b[39;49m, \u001b[39m3\u001b[39;49m]\n",
      "Cell \u001b[0;32mIn [115], line 30\u001b[0m, in \u001b[0;36mComplex.__add__\u001b[0;34m(self, other)\u001b[0m\n\u001b[1;32m     28\u001b[0m     other \u001b[39m=\u001b[39m \u001b[39mself\u001b[39m\u001b[39m.\u001b[39m\u001b[39m__class__\u001b[39m(other, \u001b[39m0\u001b[39m)\n\u001b[1;32m     29\u001b[0m \u001b[39melif\u001b[39;00m \u001b[39mnot\u001b[39;00m \u001b[39misinstance\u001b[39m(other, Complex):\n\u001b[0;32m---> 30\u001b[0m     \u001b[39mraise\u001b[39;00m ComplexOperationError(\u001b[39mself\u001b[39m, other)\n\u001b[1;32m     32\u001b[0m \u001b[39mreturn\u001b[39;00m \u001b[39mself\u001b[39m\u001b[39m.\u001b[39m\u001b[39m__class__\u001b[39m(\u001b[39mself\u001b[39m\u001b[39m.\u001b[39mre \u001b[39m+\u001b[39m other\u001b[39m.\u001b[39mre, \u001b[39mself\u001b[39m\u001b[39m.\u001b[39mim \u001b[39m+\u001b[39m other\u001b[39m.\u001b[39mim)\n",
      "\u001b[0;31mComplexOperationError\u001b[0m: Cannot do operation between 5+3i and [1, 2, 3]"
     ]
    }
   ],
   "source": [
    "a = Complex(5, 3)\n",
    "b = Complex(-1, -2)\n",
    "\n",
    "a + [1, 2, 3]"
   ]
  },
  {
   "cell_type": "code",
   "execution_count": null,
   "metadata": {},
   "outputs": [],
   "source": []
  }
 ],
 "metadata": {
  "kernelspec": {
   "display_name": "Python 3.10.8 64-bit",
   "language": "python",
   "name": "python3"
  },
  "language_info": {
   "codemirror_mode": {
    "name": "ipython",
    "version": 3
   },
   "file_extension": ".py",
   "mimetype": "text/x-python",
   "name": "python",
   "nbconvert_exporter": "python",
   "pygments_lexer": "ipython3",
   "version": "3.10.8"
  },
  "orig_nbformat": 4,
  "vscode": {
   "interpreter": {
    "hash": "6ecdebf77f2ee3a47348d003f751c63e810ca996c1c68d1179f338200fa83b34"
   }
  }
 },
 "nbformat": 4,
 "nbformat_minor": 2
}
