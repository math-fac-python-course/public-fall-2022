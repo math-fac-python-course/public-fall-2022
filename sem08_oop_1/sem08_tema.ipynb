{
 "cells": [
  {
   "cell_type": "markdown",
   "metadata": {},
   "source": [
    "# Семинар 8: ООП\n",
    "\n",
    "Объектно ориентированное программирование на самом деле это по факту 4 принципа:\n",
    "* **Abstraction** -- создавания классы мы меняем уровень абстракции, моделируем поведение класса и логику взаимодестсвия сущностей.\n",
    "* **Наследование** -- нет смысла дублировать код, если можно выделить его в общего родителя для классов. Таким образом мы создаем новые абстракции на основе существующих.\n",
    "* **Encapsulation** -- инкапсуляция, иными словами, скрытие внутри класса того, что не нужно явно использовать при работе с ним. Оставляем только публичный интерфейс работы с ним.\n",
    "* **Polymorphism** -- разные классы могут реализовать разную логику одного и того же интерфейса.\n",
    "\n",
    "Давайте напишем, например, свой класс комплексных чисел:"
   ]
  },
  {
   "cell_type": "code",
   "execution_count": null,
   "metadata": {},
   "outputs": [],
   "source": [
    "from typing import Union\n",
    "\n",
    "\n",
    "class Complex:\n",
    "    def __init__(self, re: Union[int, float] = 0, im: Union[int, float] = 0):\n",
    "        self.re = re\n",
    "        self.im = im\n",
    "        \n",
    "    def __str__(self) -> str:\n",
    "        if not self.re and not self.im:\n",
    "            return \"0\"\n",
    "\n",
    "        str_re = str(self.re) if self.re else \"\"\n",
    "        str_im = str(abs(self.im)) if abs(self.im) not in (0, 1) else \"\"\n",
    "        i_sign = \"i\" if self.im else \"\"\n",
    "\n",
    "        if self.im < 0:\n",
    "            operator = \"-\"\n",
    "        elif self.im > 0 and self.re:\n",
    "            operator = \"+\"\n",
    "        else:\n",
    "            operator = \"\"\n",
    "\n",
    "        return str_re + operator + str_im + i_sign"
   ]
  },
  {
   "cell_type": "code",
   "execution_count": null,
   "metadata": {},
   "outputs": [],
   "source": []
  },
  {
   "cell_type": "markdown",
   "metadata": {},
   "source": [
    "Теперь добавим возможность складывать наши числа и умножать:"
   ]
  },
  {
   "cell_type": "code",
   "execution_count": null,
   "metadata": {},
   "outputs": [],
   "source": [
    "class Complex:\n",
    "    def __init__(self, re: Union[int, float] = 0, im: Union[int, float] = 0):\n",
    "        self.re = re\n",
    "        self.im = im\n",
    "        \n",
    "    def __str__(self) -> str:\n",
    "        if not self.re and not self.im:\n",
    "            return \"0\"\n",
    "\n",
    "        str_re = str(self.re) if self.re else \"\"\n",
    "        str_im = str(abs(self.im)) if abs(self.im) not in (0, 1) else \"\"\n",
    "        i_sign = \"i\" if self.im else \"\"\n",
    "\n",
    "        if self.im < 0:\n",
    "            operator = \"-\"\n",
    "        elif self.im > 0 and self.re:\n",
    "            operator = \"+\"\n",
    "        else:\n",
    "            operator = \"\"\n",
    "\n",
    "        return str_re + operator + str_im + i_sign\n",
    "    \n",
    "    __repr__ = __str__  # можно и свой repr написать, а можно и так\n",
    "\n",
    "    def __add__(self, other: \"Complex\") -> \"Complex\":  # <--- обратите внимание на кавычки\n",
    "        # с Python 3.11 можно будет вместо \"Complex\" писать просто Self\n",
    "        return Complex(self.re + other.re, self.im + other.im)\n",
    "\n",
    "    def __eq__(self, other: \"Complex\") -> \"Complex\":\n",
    "        return self.re == other.re and self.im == other.im\n",
    "\n",
    "    def __mul__(self, other: \"Complex\") -> \"Complex\":  # <--- обратите внимание на кавычки\n",
    "        # с Python 3.11 можно будет вместо \"Complex\" писать просто Self\n",
    "        return Complex(\n",
    "            self.re * other.re - self.im * other.im,\n",
    "            self.re * other.im + self.im * other.re\n",
    "        )\n",
    "\n",
    "    def __eq__(self, other: \"Complex\") -> bool:\n",
    "        return self.re == other.re and self.im == other.im\n",
    "\n",
    "    __radd__ = __add__  # автоматически подключим +=\n",
    "    __rmul__ = __mul__  # автоматически подключим +=\n",
    "\n",
    "    # аналогично можно использовать __sub__ для вычитания, __div__ для деления"
   ]
  },
  {
   "cell_type": "code",
   "execution_count": null,
   "metadata": {},
   "outputs": [],
   "source": []
  },
  {
   "cell_type": "markdown",
   "metadata": {},
   "source": [
    "### Наследование\n",
    "\n",
    "По факту, наследованием мы расширяем наш класс, создавания от него потомка, например:"
   ]
  },
  {
   "cell_type": "code",
   "execution_count": null,
   "metadata": {},
   "outputs": [],
   "source": [
    "import math\n",
    "\n",
    "class Point(Complex):\n",
    "    def length(self):\n",
    "        return math.sqrt(self.re ** 2 + self.im ** 2)"
   ]
  },
  {
   "cell_type": "code",
   "execution_count": null,
   "metadata": {},
   "outputs": [],
   "source": [
    "x = Point(5, 6)\n",
    "y = Point(-1, 1)\n",
    "\n",
    "print(x.length())\n",
    "print(y.length())\n",
    "\n",
    "print((x + y).length())  # а вот это выполнится? если нет, то как поправить?"
   ]
  },
  {
   "cell_type": "markdown",
   "metadata": {},
   "source": [
    "На самом деле, можно было не писать тут свой метод length, а воспользоваться `__len__`"
   ]
  },
  {
   "cell_type": "code",
   "execution_count": null,
   "metadata": {},
   "outputs": [],
   "source": [
    "import math\n",
    "\n",
    "class Point(Complex):\n",
    "    def __len__(self) -> float:\n",
    "        return math.sqrt(self.re ** 2 + self.im ** 2)\n",
    "\n",
    "    def distance(self, other: \"Point\") -> float:\n",
    "        # YOUR CODE HERE\n",
    "        pass"
   ]
  },
  {
   "cell_type": "code",
   "execution_count": null,
   "metadata": {},
   "outputs": [],
   "source": [
    "x = Point(5, 6)\n",
    "y = Point(-1, 1)\n",
    "\n",
    "print(len(x))\n",
    "print(len(y))\n",
    "\n",
    "print(len(x + y))"
   ]
  },
  {
   "cell_type": "markdown",
   "metadata": {},
   "source": [
    "### Задание 1\n",
    "\n",
    "Немного \"причешем\" наше решение: давайте научим наш класс складываться и умножаться не только с комлексными числами, но и обычными\n",
    "\n",
    "Для того, чтобы понять, какой это тип, можно использовать функцию `isinstance`."
   ]
  },
  {
   "cell_type": "code",
   "execution_count": null,
   "metadata": {},
   "outputs": [],
   "source": []
  },
  {
   "cell_type": "markdown",
   "metadata": {},
   "source": [
    "### Задание 2\n",
    "\n",
    "Давайте допишем класс Point, чтобы у него был метод distance, вычисляющий расстояние от нашей точки для другой. Как это лучше сделать?"
   ]
  },
  {
   "cell_type": "code",
   "execution_count": null,
   "metadata": {},
   "outputs": [],
   "source": []
  },
  {
   "cell_type": "markdown",
   "metadata": {},
   "source": [
    "### Ошибки\n",
    "\n",
    "В питоне можно явно вызывать любую ошибку через raise, например:"
   ]
  },
  {
   "cell_type": "code",
   "execution_count": null,
   "metadata": {},
   "outputs": [],
   "source": [
    "raise RuntimeError(\"Something went wrong\")"
   ]
  },
  {
   "cell_type": "markdown",
   "metadata": {},
   "source": [
    "А также можно создавать свои ошибки:"
   ]
  },
  {
   "cell_type": "code",
   "execution_count": null,
   "metadata": {},
   "outputs": [],
   "source": [
    "class ComplexError(BaseException):\n",
    "    ...\n",
    "\n",
    "raise ComplexError(\"Invalid usage of complex numbers\")"
   ]
  },
  {
   "cell_type": "code",
   "execution_count": null,
   "metadata": {},
   "outputs": [],
   "source": [
    "class ComplexOperationError(BaseException):\n",
    "    def __init__(self, left_arg, right_arg):\n",
    "        self.left_arg = left_arg\n",
    "        self.right_arg = right_arg\n",
    "\n",
    "    def __str__(self) -> str:\n",
    "        return f\"Cannot do operation between {self.left_arg} and {self.right_arg}\"\n",
    "\n",
    "raise ComplexOperationError(Complex(1, 2), \"abc\")"
   ]
  },
  {
   "cell_type": "markdown",
   "metadata": {},
   "source": [
    "### Задание 3\n",
    "\n",
    "Допишите класс Complex таким образом, чтобы он возвращал ошибки, если мы пытаемся сложить/умножить, например, что-то невалидное (комплексное со строкой, например)"
   ]
  },
  {
   "cell_type": "code",
   "execution_count": null,
   "metadata": {},
   "outputs": [],
   "source": []
  }
 ],
 "metadata": {
  "kernelspec": {
   "display_name": "Python 3.10.8 64-bit",
   "language": "python",
   "name": "python3"
  },
  "language_info": {
   "codemirror_mode": {
    "name": "ipython",
    "version": 3
   },
   "file_extension": ".py",
   "mimetype": "text/x-python",
   "name": "python",
   "nbconvert_exporter": "python",
   "pygments_lexer": "ipython3",
   "version": "3.10.8"
  },
  "orig_nbformat": 4,
  "vscode": {
   "interpreter": {
    "hash": "6ecdebf77f2ee3a47348d003f751c63e810ca996c1c68d1179f338200fa83b34"
   }
  }
 },
 "nbformat": 4,
 "nbformat_minor": 2
}
